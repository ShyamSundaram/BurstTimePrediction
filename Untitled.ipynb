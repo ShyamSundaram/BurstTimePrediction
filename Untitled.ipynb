{
 "cells": [
  {
   "cell_type": "markdown",
   "metadata": {},
   "source": [
    "# Burst Time prediction"
   ]
  },
  {
   "cell_type": "code",
   "execution_count": 1,
   "metadata": {},
   "outputs": [],
   "source": [
    "import pandas as pd\n",
    "import numpy as np\n",
    "import matplotlib.pyplot as plt\n",
    "import seaborn as sns\n",
    "#import missingno as ms\n",
    "\n",
    "from sklearn import preprocessing\n",
    "from sklearn.model_selection import train_test_split\n",
    "from sklearn.feature_selection import VarianceThreshold\n",
    "from sklearn.pipeline import Pipeline\n",
    "from sklearn.metrics import accuracy_score\n",
    "from sklearn.metrics import f1_score\n",
    "from sklearn.metrics import r2_score"
   ]
  },
  {
   "cell_type": "markdown",
   "metadata": {},
   "source": [
    "## EDA"
   ]
  },
  {
   "cell_type": "code",
   "execution_count": 2,
   "metadata": {},
   "outputs": [],
   "source": [
    "data=pd.read_csv('processes_datasets.csv')"
   ]
  },
  {
   "cell_type": "code",
   "execution_count": 3,
   "metadata": {},
   "outputs": [
    {
     "data": {
      "text/plain": [
       "(404176, 29)"
      ]
     },
     "execution_count": 3,
     "metadata": {},
     "output_type": "execute_result"
    }
   ],
   "source": [
    "data.shape"
   ]
  },
  {
   "cell_type": "code",
   "execution_count": 4,
   "metadata": {},
   "outputs": [
    {
     "name": "stdout",
     "output_type": "stream",
     "text": [
      "<class 'pandas.core.frame.DataFrame'>\n",
      "RangeIndex: 404176 entries, 0 to 404175\n",
      "Data columns (total 29 columns):\n",
      "JobID                 404176 non-null int64\n",
      "SubmitTime            404176 non-null int64\n",
      "WaitTime              404176 non-null int64\n",
      "RunTime               404176 non-null int64\n",
      "NProcs                404176 non-null int64\n",
      "AverageCPUTimeUsed    404176 non-null int64\n",
      "Used Memory           404176 non-null int64\n",
      "ReqNProcs             404176 non-null int64\n",
      "ReqTime:              404176 non-null int64\n",
      "ReqMemory             404176 non-null int64\n",
      "Status                404176 non-null int64\n",
      "UserID                404176 non-null object\n",
      "GroupID               404176 non-null object\n",
      "ExecutableID          404176 non-null object\n",
      "QueueID               404176 non-null object\n",
      "PartitionID           404176 non-null int64\n",
      "OrigSiteID            404176 non-null object\n",
      "LastRunSiteID         404176 non-null object\n",
      "JobStructure          404176 non-null int64\n",
      "JobStructureParams    404176 non-null int64\n",
      "UsedNetwork           404176 non-null int64\n",
      "UsedLocalDiskSpace    404176 non-null int64\n",
      "UsedResources         404176 non-null int64\n",
      "ReqPlatform           404176 non-null int64\n",
      "ReqNetwork            404176 non-null int64\n",
      "ReqLocalDiskSpace     404176 non-null int64\n",
      "ReqResources          404176 non-null int64\n",
      "VOID                  404176 non-null int64\n",
      "ProjectID             404176 non-null int64\n",
      "dtypes: int64(23), object(6)\n",
      "memory usage: 89.4+ MB\n"
     ]
    }
   ],
   "source": [
    "data.info()"
   ]
  },
  {
   "cell_type": "code",
   "execution_count": 5,
   "metadata": {},
   "outputs": [
    {
     "name": "stdout",
     "output_type": "stream",
     "text": [
      "JobID   404176\n",
      "SubmitTime   326785\n",
      "WaitTime   53042\n",
      "RunTime    82498\n",
      "NProcs   2\n",
      "AverageCPUTimeUsed   74963\n",
      "Used Memory   88082\n",
      "ReqNProcs   1\n",
      "ReqTime:    32\n",
      "ReqMemory   8\n",
      "Status   3\n",
      "UserID   405\n",
      "GroupID   9\n",
      "ExecutableID   16\n",
      "QueueID   13\n",
      "PartitionID   2\n",
      "OrigSiteID   5\n",
      "LastRunSiteID   5\n",
      "JobStructure   1\n",
      "JobStructureParams   1\n",
      "UsedNetwork   1\n",
      "UsedLocalDiskSpace   1\n",
      "UsedResources   1\n",
      "ReqPlatform   1\n",
      "ReqNetwork   1\n",
      "ReqLocalDiskSpace   1\n",
      "ReqResources   1\n",
      "VOID   1\n",
      "ProjectID   1\n"
     ]
    }
   ],
   "source": [
    "for i in data.columns:\n",
    "    print(i,' ',data[i].unique().size)"
   ]
  },
  {
   "cell_type": "code",
   "execution_count": 5,
   "metadata": {},
   "outputs": [
    {
     "name": "stdout",
     "output_type": "stream",
     "text": [
      "JobID   404176\n",
      "SubmitTime   326785\n",
      "WaitTime   53042\n",
      "RunTime    82498\n",
      "NProcs   2\n",
      "AverageCPUTimeUsed   74963\n",
      "Used Memory   88082\n",
      "ReqTime:    32\n",
      "ReqMemory   8\n",
      "Status   3\n",
      "UserID   405\n",
      "GroupID   9\n",
      "ExecutableID   16\n",
      "QueueID   13\n",
      "PartitionID   2\n",
      "OrigSiteID   5\n",
      "LastRunSiteID   5\n"
     ]
    }
   ],
   "source": [
    "#data=data.drop(df.columns[[18::]],axis=1)\n",
    "data=data.drop(data.columns[[7,18,19,20,21,22,23,24,25,26,27,28]],axis=1)\n",
    "for i in data.columns:\n",
    "    print(i,' ',data[i].unique().size)"
   ]
  },
  {
   "cell_type": "code",
   "execution_count": 7,
   "metadata": {},
   "outputs": [
    {
     "data": {
      "text/plain": [
       "JobID                  int64\n",
       "SubmitTime             int64\n",
       "WaitTime               int64\n",
       "RunTime                int64\n",
       "NProcs                 int64\n",
       "AverageCPUTimeUsed     int64\n",
       "Used Memory            int64\n",
       "ReqTime:               int64\n",
       "ReqMemory              int64\n",
       "Status                 int64\n",
       "UserID                object\n",
       "GroupID               object\n",
       "ExecutableID          object\n",
       "QueueID               object\n",
       "PartitionID            int64\n",
       "OrigSiteID            object\n",
       "LastRunSiteID         object\n",
       "dtype: object"
      ]
     },
     "execution_count": 7,
     "metadata": {},
     "output_type": "execute_result"
    }
   ],
   "source": [
    "data.dtypes"
   ]
  },
  {
   "cell_type": "code",
   "execution_count": 6,
   "metadata": {},
   "outputs": [],
   "source": [
    "df=data.select_dtypes(include='int64')"
   ]
  },
  {
   "cell_type": "code",
   "execution_count": 9,
   "metadata": {},
   "outputs": [
    {
     "data": {
      "text/plain": [
       "<AxesSubplot:>"
      ]
     },
     "execution_count": 9,
     "metadata": {},
     "output_type": "execute_result"
    },
    {
     "data": {
      "image/png": "[encoded data removed]",
      "text/plain": [
       "<Figure size 1152x432 with 2 Axes>"
      ]
     },
     "metadata": {
      "needs_background": "light"
     },
     "output_type": "display_data"
    }
   ],
   "source": [
    "plt.figure(figsize=(16,6))\n",
    "sns.heatmap(df.corr(),annot=True)"
   ]
  },
  {
   "cell_type": "code",
   "execution_count": 7,
   "metadata": {},
   "outputs": [],
   "source": [
    "data['UserNO'] = data['UserID'].rank(method='dense', ascending=False).astype(int)\n",
    "data['GroupNO'] = data['GroupID'].rank(method='dense', ascending=False).astype(int)\n",
    "data['ExecutableNO'] = data['ExecutableID'].rank(method='dense', ascending=False).astype(int)\n",
    "data['QueueNO'] = data['QueueID'].rank(method='dense', ascending=False).astype(int)\n",
    "data['OrigSiteNO'] = data['OrigSiteID'].rank(method='dense', ascending=False).astype(int)\n",
    "data['LastRunSiteNO'] = data['LastRunSiteID'].rank(method='dense', ascending=False).astype(int)"
   ]
  },
  {
   "cell_type": "code",
   "execution_count": 8,
   "metadata": {},
   "outputs": [
    {
     "data": {
      "text/plain": [
       "<matplotlib.axes._subplots.AxesSubplot at 0x2ae800c5fc8>"
      ]
     },
     "execution_count": 8,
     "metadata": {},
     "output_type": "execute_result"
    },
    {
     "data": {
      "image/png": "[encoded data removed]",
      "text/plain": [
       "<Figure size 1152x432 with 2 Axes>"
      ]
     },
     "metadata": {
      "needs_background": "light"
     },
     "output_type": "display_data"
    }
   ],
   "source": [
    "df=data.select_dtypes(include=['int32','int64'])\n",
    "plt.figure(figsize=(16,6))\n",
    "sns.heatmap(df.corr(),annot=True)"
   ]
  },
  {
   "cell_type": "code",
   "execution_count": 12,
   "metadata": {},
   "outputs": [
    {
     "data": {
      "text/plain": [
       "JobID                  int64\n",
       "SubmitTime             int64\n",
       "WaitTime               int64\n",
       "RunTime                int64\n",
       "NProcs                 int64\n",
       "AverageCPUTimeUsed     int64\n",
       "Used Memory            int64\n",
       "ReqTime:               int64\n",
       "ReqMemory              int64\n",
       "Status                 int64\n",
       "UserID                object\n",
       "GroupID               object\n",
       "ExecutableID          object\n",
       "QueueID               object\n",
       "PartitionID            int64\n",
       "OrigSiteID            object\n",
       "LastRunSiteID         object\n",
       "UserNO                 int32\n",
       "GroupNO                int32\n",
       "ExecutableNO           int32\n",
       "QueueNO                int32\n",
       "OrigSiteNO             int32\n",
       "LastRunSiteNO          int32\n",
       "dtype: object"
      ]
     },
     "execution_count": 12,
     "metadata": {},
     "output_type": "execute_result"
    }
   ],
   "source": [
    "data.dtypes"
   ]
  },
  {
   "cell_type": "code",
   "execution_count": 9,
   "metadata": {},
   "outputs": [
    {
     "data": {
      "text/plain": [
       "JobID                 int64\n",
       "SubmitTime            int64\n",
       "WaitTime              int64\n",
       "RunTime               int64\n",
       "NProcs                int64\n",
       "AverageCPUTimeUsed    int64\n",
       "Used Memory           int64\n",
       "ReqTime:              int64\n",
       "ReqMemory             int64\n",
       "Status                int64\n",
       "PartitionID           int64\n",
       "UserNO                int32\n",
       "GroupNO               int32\n",
       "ExecutableNO          int32\n",
       "QueueNO               int32\n",
       "OrigSiteNO            int32\n",
       "LastRunSiteNO         int32\n",
       "dtype: object"
      ]
     },
     "execution_count": 9,
     "metadata": {},
     "output_type": "execute_result"
    }
   ],
   "source": [
    "data=data.drop(data.columns[[10,11,12,13,15,16]],axis=1)\n",
    "data.dtypes"
   ]
  },
  {
   "cell_type": "code",
   "execution_count": 10,
   "metadata": {},
   "outputs": [],
   "source": [
    "X=data.drop('RunTime ',axis=1)\n",
    "y=data['RunTime ']"
   ]
  },
  {
   "cell_type": "markdown",
   "metadata": {},
   "source": [
    "## Splitting"
   ]
  },
  {
   "cell_type": "code",
   "execution_count": 11,
   "metadata": {},
   "outputs": [],
   "source": [
    "min_max=preprocessing.MinMaxScaler()\n",
    "X_minmax=min_max.fit_transform(X)"
   ]
  },
  {
   "cell_type": "code",
   "execution_count": 12,
   "metadata": {},
   "outputs": [],
   "source": [
    "# col=X.columns\n",
    "\n",
    "# min_max_scaler = preprocessing.MinMaxScaler()\n",
    "# X[col]=min_max_scaler.fit_transform(X[col])\n",
    "# X_minmax = min_max_scaler.fit_transform(X)\n",
    "X_train,X_test,y_train,y_test=train_test_split(X_minmax,y,test_size=0.3,random_state=50)"
   ]
  },
  {
   "cell_type": "code",
   "execution_count": 17,
   "metadata": {},
   "outputs": [],
   "source": [
    "# X_train=X_train[:10000]\n",
    "# y_train=y_train[:10000]\n",
    "# X_test=X_test[:100]\n",
    "# y_test=y_test[:100]"
   ]
  },
  {
   "cell_type": "markdown",
   "metadata": {},
   "source": [
    "# Models"
   ]
  },
  {
   "cell_type": "markdown",
   "metadata": {},
   "source": [
    "## KNN"
   ]
  },
  {
   "cell_type": "code",
   "execution_count": 18,
   "metadata": {},
   "outputs": [],
   "source": [
    "from sklearn.neighbors import KNeighborsClassifier\n",
    "from sklearn.preprocessing import StandardScaler\n",
    "\n",
    "knn=KNeighborsClassifier(n_neighbors=4)\n",
    "knn.fit(X_train,y_train)\n",
    "y_pred=knn.predict(X_test)"
   ]
  },
  {
   "cell_type": "code",
   "execution_count": 19,
   "metadata": {},
   "outputs": [
    {
     "data": {
      "text/plain": [
       "0.8519992680118257"
      ]
     },
     "execution_count": 19,
     "metadata": {},
     "output_type": "execute_result"
    }
   ],
   "source": [
    "r2_score(y_pred,y_test)"
   ]
  },
  {
   "cell_type": "markdown",
   "metadata": {},
   "source": [
    "## Polynomial Regression"
   ]
  },
  {
   "cell_type": "code",
   "execution_count": 18,
   "metadata": {},
   "outputs": [],
   "source": [
    "from sklearn.preprocessing import PolynomialFeatures\n",
    "from sklearn.linear_model import LinearRegression"
   ]
  },
  {
   "cell_type": "code",
   "execution_count": 19,
   "metadata": {},
   "outputs": [
    {
     "data": {
      "text/plain": [
       "LinearRegression()"
      ]
     },
     "execution_count": 19,
     "metadata": {},
     "output_type": "execute_result"
    }
   ],
   "source": [
    "poly=PolynomialFeatures(2)\n",
    "X_p=poly.fit_transform(X_train)\n",
    "poly.fit(X_p,y_train)\n",
    "lin=LinearRegression()\n",
    "lin.fit(X_p,y_train)"
   ]
  },
  {
   "cell_type": "code",
   "execution_count": 20,
   "metadata": {},
   "outputs": [
    {
     "data": {
      "text/plain": [
       "0.7495221708525156"
      ]
     },
     "execution_count": 20,
     "metadata": {},
     "output_type": "execute_result"
    }
   ],
   "source": [
    "X_t=poly.fit_transform(X_test)\n",
    "pred=lin.predict(X_t)\n",
    "r2_score(pred,y_test)"
   ]
  },
  {
   "cell_type": "markdown",
   "metadata": {},
   "source": [
    "## Linear Regression"
   ]
  },
  {
   "cell_type": "code",
   "execution_count": 105,
   "metadata": {},
   "outputs": [],
   "source": [
    "from sklearn.linear_model import LinearRegression"
   ]
  },
  {
   "cell_type": "code",
   "execution_count": 106,
   "metadata": {},
   "outputs": [
    {
     "data": {
      "text/plain": [
       "LinearRegression()"
      ]
     },
     "execution_count": 106,
     "metadata": {},
     "output_type": "execute_result"
    }
   ],
   "source": [
    "reg=LinearRegression()\n",
    "reg.fit(X_train,y_train)"
   ]
  },
  {
   "cell_type": "code",
   "execution_count": 107,
   "metadata": {},
   "outputs": [
    {
     "data": {
      "text/plain": [
       "0.7452606986688267"
      ]
     },
     "execution_count": 107,
     "metadata": {},
     "output_type": "execute_result"
    }
   ],
   "source": [
    "pred=reg.predict(X_test)\n",
    "r2_score(y_test,pred)"
   ]
  },
  {
   "cell_type": "markdown",
   "metadata": {},
   "source": [
    "## Lasso Regression"
   ]
  },
  {
   "cell_type": "code",
   "execution_count": 108,
   "metadata": {},
   "outputs": [],
   "source": [
    "from sklearn.linear_model import Lasso"
   ]
  },
  {
   "cell_type": "code",
   "execution_count": 113,
   "metadata": {},
   "outputs": [
    {
     "data": {
      "text/plain": [
       "Lasso(alpha=0.01, tol=0.01)"
      ]
     },
     "execution_count": 113,
     "metadata": {},
     "output_type": "execute_result"
    }
   ],
   "source": [
    "lasso=Lasso(alpha=0.01,tol=0.01)\n",
    "lasso.fit(X_train,y_train)"
   ]
  },
  {
   "cell_type": "code",
   "execution_count": 114,
   "metadata": {},
   "outputs": [
    {
     "data": {
      "text/plain": [
       "0.7452609892608053"
      ]
     },
     "execution_count": 114,
     "metadata": {},
     "output_type": "execute_result"
    }
   ],
   "source": [
    "pred=lasso.predict(X_test)\n",
    "r2_score(y_test,pred)"
   ]
  },
  {
   "cell_type": "markdown",
   "metadata": {},
   "source": [
    "## Ridge Regression"
   ]
  },
  {
   "cell_type": "code",
   "execution_count": 115,
   "metadata": {},
   "outputs": [],
   "source": [
    "from sklearn.linear_model import Ridge"
   ]
  },
  {
   "cell_type": "code",
   "execution_count": 116,
   "metadata": {},
   "outputs": [
    {
     "data": {
      "text/plain": [
       "Ridge(alpha=0.01)"
      ]
     },
     "execution_count": 116,
     "metadata": {},
     "output_type": "execute_result"
    }
   ],
   "source": [
    "ridge=Ridge(alpha=0.01)\n",
    "ridge.fit(X_train,y_train)"
   ]
  },
  {
   "cell_type": "code",
   "execution_count": 117,
   "metadata": {},
   "outputs": [
    {
     "data": {
      "text/plain": [
       "0.7452608480032532"
      ]
     },
     "execution_count": 117,
     "metadata": {},
     "output_type": "execute_result"
    }
   ],
   "source": [
    "pred=ridge.predict(X_test)\n",
    "r2_score(y_test,pred)"
   ]
  },
  {
   "cell_type": "markdown",
   "metadata": {},
   "source": [
    "## SVM"
   ]
  },
  {
   "cell_type": "code",
   "execution_count": 17,
   "metadata": {},
   "outputs": [],
   "source": [
    "from sklearn.svm import SVR"
   ]
  },
  {
   "cell_type": "code",
   "execution_count": 36,
   "metadata": {},
   "outputs": [
    {
     "data": {
      "text/plain": [
       "SVR()"
      ]
     },
     "execution_count": 36,
     "metadata": {},
     "output_type": "execute_result"
    }
   ],
   "source": [
    "Xtrain=X_train[:1000]\n",
    "ytrain=y_train[:1000]\n",
    "Xtest=X_test[:200]\n",
    "ytest=y_test[:200]\n",
    "svr=SVR(kernel='rbf')\n",
    "svr.fit(Xtrain,ytrain)"
   ]
  },
  {
   "cell_type": "code",
   "execution_count": 37,
   "metadata": {},
   "outputs": [
    {
     "data": {
      "text/plain": [
       "-0.3120445773107361"
      ]
     },
     "execution_count": 37,
     "metadata": {},
     "output_type": "execute_result"
    }
   ],
   "source": [
    "pred=svr.predict(Xtest)\n",
    "r2_score(ytest,pred)"
   ]
  },
  {
   "cell_type": "markdown",
   "metadata": {},
   "source": [
    "## SVC"
   ]
  },
  {
   "cell_type": "code",
   "execution_count": 39,
   "metadata": {},
   "outputs": [],
   "source": [
    "from sklearn.svm import SVC"
   ]
  },
  {
   "cell_type": "code",
   "execution_count": 23,
   "metadata": {},
   "outputs": [
    {
     "ename": "NameError",
     "evalue": "name 'SVC' is not defined",
     "output_type": "error",
     "traceback": [
      "\u001b[1;31m---------------------------------------------------------------------------\u001b[0m",
      "\u001b[1;31mNameError\u001b[0m                                 Traceback (most recent call last)",
      "\u001b[1;32m<ipython-input-23-714d3c36c9ea>\u001b[0m in \u001b[0;36m<module>\u001b[1;34m\u001b[0m\n\u001b[0;32m      3\u001b[0m \u001b[0mXtest\u001b[0m\u001b[1;33m=\u001b[0m\u001b[0mX_test\u001b[0m\u001b[1;33m[\u001b[0m\u001b[1;33m:\u001b[0m\u001b[1;36m200\u001b[0m\u001b[1;33m]\u001b[0m\u001b[1;33m\u001b[0m\u001b[1;33m\u001b[0m\u001b[0m\n\u001b[0;32m      4\u001b[0m \u001b[0mytest\u001b[0m\u001b[1;33m=\u001b[0m\u001b[0my_test\u001b[0m\u001b[1;33m[\u001b[0m\u001b[1;33m:\u001b[0m\u001b[1;36m200\u001b[0m\u001b[1;33m]\u001b[0m\u001b[1;33m\u001b[0m\u001b[1;33m\u001b[0m\u001b[0m\n\u001b[1;32m----> 5\u001b[1;33m \u001b[0msvc\u001b[0m\u001b[1;33m=\u001b[0m\u001b[0mSVC\u001b[0m\u001b[1;33m(\u001b[0m\u001b[0mkernel\u001b[0m\u001b[1;33m=\u001b[0m\u001b[1;34m'linear'\u001b[0m\u001b[1;33m)\u001b[0m\u001b[1;33m\u001b[0m\u001b[1;33m\u001b[0m\u001b[0m\n\u001b[0m\u001b[0;32m      6\u001b[0m classifier=SVC(C=10,cache_size=200,class_weight='balanced',decision_function_shape='ovr',degree=3,gamma='auto',kernel='rbf',\n\u001b[0;32m      7\u001b[0m                max_iter=-1,probability=False,random_state=None,shrinking=True,tol=0.001,verbose=False)\n",
      "\u001b[1;31mNameError\u001b[0m: name 'SVC' is not defined"
     ]
    }
   ],
   "source": [
    "Xtrain=X_train[:1000]\n",
    "ytrain=y_train[:1000]\n",
    "Xtest=X_test[:200]\n",
    "ytest=y_test[:200]\n",
    "svc=SVC(kernel='linear')\n",
    "classifier=SVC(C=10,cache_size=200,class_weight='balanced',decision_function_shape='ovr',degree=3,gamma='auto',kernel='rbf',\n",
    "               max_iter=-1,probability=False,random_state=None,shrinking=True,tol=0.001,verbose=False)\n",
    "classifier.fit(Xtrain,ytrain)"
   ]
  },
  {
   "cell_type": "code",
   "execution_count": 43,
   "metadata": {},
   "outputs": [
    {
     "data": {
      "text/plain": [
       "0.29902709290295715"
      ]
     },
     "execution_count": 43,
     "metadata": {},
     "output_type": "execute_result"
    }
   ],
   "source": [
    "pred=classifier.predict(Xtest)\n",
    "r2_score(ytest,pred)"
   ]
  },
  {
   "cell_type": "markdown",
   "metadata": {},
   "source": [
    "## MLP"
   ]
  },
  {
   "cell_type": "code",
   "execution_count": 21,
   "metadata": {},
   "outputs": [],
   "source": [
    "from sklearn.neural_network import MLPRegressor"
   ]
  },
  {
   "cell_type": "code",
   "execution_count": 24,
   "metadata": {},
   "outputs": [
    {
     "name": "stderr",
     "output_type": "stream",
     "text": [
      "c:\\python\\lib\\site-packages\\sklearn\\neural_network\\_multilayer_perceptron.py:617: ConvergenceWarning: Stochastic Optimizer: Maximum iterations (1000) reached and the optimization hasn't converged yet.\n",
      "  % self.max_iter, ConvergenceWarning)\n"
     ]
    },
    {
     "data": {
      "text/plain": [
       "MLPRegressor(hidden_layer_sizes=(64, 64, 64), max_iter=1000, random_state=1)"
      ]
     },
     "execution_count": 24,
     "metadata": {},
     "output_type": "execute_result"
    }
   ],
   "source": [
    "mlp=MLPRegressor(hidden_layer_sizes=(64,64,64),activation=\"relu\",random_state=1,max_iter=1000)\n",
    "Xtrain=X_train[:1000]\n",
    "ytrain=y_train[:1000]\n",
    "Xtest=X_test[:200]\n",
    "ytest=y_test[:200]\n",
    "mlp.fit(Xtrain,ytrain)"
   ]
  },
  {
   "cell_type": "code",
   "execution_count": 25,
   "metadata": {},
   "outputs": [
    {
     "data": {
      "text/plain": [
       "0.7200983397955842"
      ]
     },
     "execution_count": 25,
     "metadata": {},
     "output_type": "execute_result"
    }
   ],
   "source": [
    "pred=mlp.predict(Xtest)\n",
    "r2_score(ytest,pred)"
   ]
  },
  {
   "cell_type": "code",
   "execution_count": 13,
   "metadata": {},
   "outputs": [],
   "source": [
    "from keras.callbacks import ModelCheckpoint\n",
    "from keras.models import Sequential\n",
    "from keras.layers import Dense, Activation, Flatten"
   ]
  },
  {
   "cell_type": "code",
   "execution_count": 14,
   "metadata": {
    "scrolled": true
   },
   "outputs": [
    {
     "name": "stdout",
     "output_type": "stream",
     "text": [
      "Model: \"sequential\"\n",
      "_________________________________________________________________\n",
      "Layer (type)                 Output Shape              Param #   \n",
      "=================================================================\n",
      "dense (Dense)                (None, 128)               2176      \n",
      "_________________________________________________________________\n",
      "dense_1 (Dense)              (None, 256)               33024     \n",
      "_________________________________________________________________\n",
      "dense_2 (Dense)              (None, 256)               65792     \n",
      "_________________________________________________________________\n",
      "dense_3 (Dense)              (None, 256)               65792     \n",
      "_________________________________________________________________\n",
      "dense_4 (Dense)              (None, 1)                 257       \n",
      "=================================================================\n",
      "Total params: 167,041\n",
      "Trainable params: 167,041\n",
      "Non-trainable params: 0\n",
      "_________________________________________________________________\n"
     ]
    }
   ],
   "source": [
    "NN_model = Sequential()\n",
    "\n",
    "# The Input Layer :\n",
    "NN_model.add(Dense(128, kernel_initializer='normal',input_dim = X_train.shape[1], activation='relu'))\n",
    "\n",
    "# The Hidden Layers :\n",
    "NN_model.add(Dense(256, kernel_initializer='normal',activation='relu'))\n",
    "NN_model.add(Dense(256, kernel_initializer='normal',activation='relu'))\n",
    "NN_model.add(Dense(256, kernel_initializer='normal',activation='relu'))\n",
    "\n",
    "# The Output Layer :\n",
    "NN_model.add(Dense(1, kernel_initializer='normal',activation='linear'))\n",
    "\n",
    "# Compile the network :\n",
    "NN_model.compile(loss='mean_absolute_error', optimizer='adam', metrics=['mean_absolute_error'])\n",
    "NN_model.summary()"
   ]
  },
  {
   "cell_type": "code",
   "execution_count": 15,
   "metadata": {},
   "outputs": [],
   "source": [
    "checkpoint_name = 'Weights-{epoch:03d}--{val_loss:.5f}.hdf5' \n",
    "checkpoint = ModelCheckpoint(checkpoint_name, monitor='val_loss', verbose = 1, save_best_only = True, mode ='auto')\n",
    "callbacks_list = [checkpoint]"
   ]
  },
  {
   "cell_type": "code",
   "execution_count": 16,
   "metadata": {},
   "outputs": [
    {
     "name": "stdout",
     "output_type": "stream",
     "text": [
      "Epoch 1/200\n",
      "7074/7074 [==============================] - 14s 2ms/step - loss: 5566.7458 - mean_absolute_error: 5566.7458 - val_loss: 2759.8218 - val_mean_absolute_error: 2759.8218\n",
      "\n",
      "Epoch 00001: val_loss improved from inf to 2759.82178, saving model to Weights-001--2759.82178.hdf5\n",
      "Epoch 2/200\n",
      "7074/7074 [==============================] - 13s 2ms/step - loss: 2715.2266 - mean_absolute_error: 2715.2266 - val_loss: 2583.1914 - val_mean_absolute_error: 2583.1914\n",
      "\n",
      "Epoch 00002: val_loss improved from 2759.82178 to 2583.19141, saving model to Weights-002--2583.19141.hdf5\n",
      "Epoch 3/200\n",
      "7074/7074 [==============================] - 13s 2ms/step - loss: 2714.9072 - mean_absolute_error: 2714.9072 - val_loss: 2790.6602 - val_mean_absolute_error: 2790.6602\n",
      "\n",
      "Epoch 00003: val_loss did not improve from 2583.19141\n",
      "Epoch 4/200\n",
      "7074/7074 [==============================] - 24s 3ms/step - loss: 2637.8326 - mean_absolute_error: 2637.8326 - val_loss: 2821.5835 - val_mean_absolute_error: 2821.5835\n",
      "\n",
      "Epoch 00004: val_loss did not improve from 2583.19141\n",
      "Epoch 5/200\n",
      "7074/7074 [==============================] - 22s 3ms/step - loss: 2627.1829 - mean_absolute_error: 2627.1829 - val_loss: 2534.8826 - val_mean_absolute_error: 2534.8826\n",
      "\n",
      "Epoch 00005: val_loss improved from 2583.19141 to 2534.88257, saving model to Weights-005--2534.88257.hdf5\n",
      "Epoch 6/200\n",
      "7074/7074 [==============================] - 20s 3ms/step - loss: 2703.5727 - mean_absolute_error: 2703.5727 - val_loss: 2533.1094 - val_mean_absolute_error: 2533.1094\n",
      "\n",
      "Epoch 00006: val_loss improved from 2534.88257 to 2533.10938, saving model to Weights-006--2533.10938.hdf5\n",
      "Epoch 7/200\n",
      "7074/7074 [==============================] - 14s 2ms/step - loss: 2566.0591 - mean_absolute_error: 2566.0591 - val_loss: 2509.2971 - val_mean_absolute_error: 2509.2971\n",
      "\n",
      "Epoch 00007: val_loss improved from 2533.10938 to 2509.29712, saving model to Weights-007--2509.29712.hdf5\n",
      "Epoch 8/200\n",
      "7074/7074 [==============================] - 14s 2ms/step - loss: 2624.3454 - mean_absolute_error: 2624.3454 - val_loss: 2679.1523 - val_mean_absolute_error: 2679.1523\n",
      "\n",
      "Epoch 00008: val_loss did not improve from 2509.29712\n",
      "Epoch 9/200\n",
      "7074/7074 [==============================] - 16s 2ms/step - loss: 2632.1892 - mean_absolute_error: 2632.1892 - val_loss: 2461.5220 - val_mean_absolute_error: 2461.5220\n",
      "\n",
      "Epoch 00009: val_loss improved from 2509.29712 to 2461.52197, saving model to Weights-009--2461.52197.hdf5\n",
      "Epoch 10/200\n",
      "7074/7074 [==============================] - 15s 2ms/step - loss: 2623.5567 - mean_absolute_error: 2623.5567 - val_loss: 2462.9150 - val_mean_absolute_error: 2462.9150\n",
      "\n",
      "Epoch 00010: val_loss did not improve from 2461.52197\n",
      "Epoch 11/200\n",
      "7074/7074 [==============================] - 13s 2ms/step - loss: 2591.7795 - mean_absolute_error: 2591.7795 - val_loss: 2651.1416 - val_mean_absolute_error: 2651.1416\n",
      "\n",
      "Epoch 00011: val_loss did not improve from 2461.52197\n",
      "Epoch 12/200\n",
      "7074/7074 [==============================] - 15s 2ms/step - loss: 2645.6983 - mean_absolute_error: 2645.6983 - val_loss: 2444.8833 - val_mean_absolute_error: 2444.8833\n",
      "\n",
      "Epoch 00012: val_loss improved from 2461.52197 to 2444.88330, saving model to Weights-012--2444.88330.hdf5\n",
      "Epoch 13/200\n",
      "7074/7074 [==============================] - 14s 2ms/step - loss: 2540.5083 - mean_absolute_error: 2540.5083 - val_loss: 2525.7349 - val_mean_absolute_error: 2525.7349\n",
      "\n",
      "Epoch 00013: val_loss did not improve from 2444.88330\n",
      "Epoch 14/200\n",
      "7074/7074 [==============================] - 16s 2ms/step - loss: 2585.0613 - mean_absolute_error: 2585.0613 - val_loss: 2538.1365 - val_mean_absolute_error: 2538.1365\n",
      "\n",
      "Epoch 00014: val_loss did not improve from 2444.88330\n",
      "Epoch 15/200\n",
      "7074/7074 [==============================] - 15s 2ms/step - loss: 2580.2108 - mean_absolute_error: 2580.2108 - val_loss: 2444.7246 - val_mean_absolute_error: 2444.7246\n",
      "\n",
      "Epoch 00015: val_loss improved from 2444.88330 to 2444.72461, saving model to Weights-015--2444.72461.hdf5\n",
      "Epoch 16/200\n",
      "7074/7074 [==============================] - 16s 2ms/step - loss: 2575.0816 - mean_absolute_error: 2575.0816 - val_loss: 2479.2153 - val_mean_absolute_error: 2479.2153\n",
      "\n",
      "Epoch 00016: val_loss did not improve from 2444.72461\n",
      "Epoch 17/200\n",
      "7074/7074 [==============================] - 16s 2ms/step - loss: 2531.8804 - mean_absolute_error: 2531.8804 - val_loss: 2498.0615 - val_mean_absolute_error: 2498.0615\n",
      "\n",
      "Epoch 00017: val_loss did not improve from 2444.72461\n",
      "Epoch 18/200\n",
      "7074/7074 [==============================] - 15s 2ms/step - loss: 2513.1853 - mean_absolute_error: 2513.1853 - val_loss: 2475.7935 - val_mean_absolute_error: 2475.7935\n",
      "\n",
      "Epoch 00018: val_loss did not improve from 2444.72461\n",
      "Epoch 19/200\n",
      "7074/7074 [==============================] - 15s 2ms/step - loss: 2484.1746 - mean_absolute_error: 2484.1746 - val_loss: 2339.9905 - val_mean_absolute_error: 2339.9905\n",
      "\n",
      "Epoch 00019: val_loss improved from 2444.72461 to 2339.99048, saving model to Weights-019--2339.99048.hdf5\n",
      "Epoch 20/200\n",
      "7074/7074 [==============================] - 15s 2ms/step - loss: 2430.1824 - mean_absolute_error: 2430.1824 - val_loss: 2271.4604 - val_mean_absolute_error: 2271.4604\n",
      "\n",
      "Epoch 00020: val_loss improved from 2339.99048 to 2271.46045, saving model to Weights-020--2271.46045.hdf5\n",
      "Epoch 21/200\n",
      "7074/7074 [==============================] - 15s 2ms/step - loss: 2121.2711 - mean_absolute_error: 2121.2711 - val_loss: 1954.3029 - val_mean_absolute_error: 1954.3029\n",
      "\n",
      "Epoch 00021: val_loss improved from 2271.46045 to 1954.30286, saving model to Weights-021--1954.30286.hdf5\n",
      "Epoch 22/200\n",
      "7074/7074 [==============================] - 15s 2ms/step - loss: 1953.3720 - mean_absolute_error: 1953.3720 - val_loss: 1880.3232 - val_mean_absolute_error: 1880.3232\n",
      "\n",
      "Epoch 00022: val_loss improved from 1954.30286 to 1880.32324, saving model to Weights-022--1880.32324.hdf5\n",
      "Epoch 23/200\n",
      "7074/7074 [==============================] - 16s 2ms/step - loss: 1975.2992 - mean_absolute_error: 1975.2992 - val_loss: 1970.4552 - val_mean_absolute_error: 1970.4552\n",
      "\n",
      "Epoch 00023: val_loss did not improve from 1880.32324\n",
      "Epoch 24/200\n",
      "7074/7074 [==============================] - 13s 2ms/step - loss: 1980.6765 - mean_absolute_error: 1980.6765 - val_loss: 2237.0554 - val_mean_absolute_error: 2237.0554\n",
      "\n",
      "Epoch 00024: val_loss did not improve from 1880.32324\n",
      "Epoch 25/200\n",
      "7074/7074 [==============================] - 12s 2ms/step - loss: 1985.9315 - mean_absolute_error: 1985.9315 - val_loss: 1968.4539 - val_mean_absolute_error: 1968.4539\n",
      "\n",
      "Epoch 00025: val_loss did not improve from 1880.32324\n",
      "Epoch 26/200\n",
      "7074/7074 [==============================] - 12s 2ms/step - loss: 1927.2161 - mean_absolute_error: 1927.2161 - val_loss: 1818.9817 - val_mean_absolute_error: 1818.9817\n",
      "\n",
      "Epoch 00026: val_loss improved from 1880.32324 to 1818.98169, saving model to Weights-026--1818.98169.hdf5\n",
      "Epoch 27/200\n",
      "7074/7074 [==============================] - 13s 2ms/step - loss: 1928.9358 - mean_absolute_error: 1928.9358 - val_loss: 2025.6183 - val_mean_absolute_error: 2025.6183\n",
      "\n",
      "Epoch 00027: val_loss did not improve from 1818.98169\n",
      "Epoch 28/200\n",
      "7074/7074 [==============================] - 15s 2ms/step - loss: 1958.4299 - mean_absolute_error: 1958.4299 - val_loss: 1832.0225 - val_mean_absolute_error: 1832.0225\n",
      "\n",
      "Epoch 00028: val_loss did not improve from 1818.98169\n",
      "Epoch 29/200\n",
      "7074/7074 [==============================] - 26s 4ms/step - loss: 1901.8414 - mean_absolute_error: 1901.8414 - val_loss: 1854.4323 - val_mean_absolute_error: 1854.4323\n",
      "\n",
      "Epoch 00029: val_loss did not improve from 1818.98169\n",
      "Epoch 30/200\n",
      "7074/7074 [==============================] - 17s 2ms/step - loss: 1874.8342 - mean_absolute_error: 1874.8342 - val_loss: 1790.8058 - val_mean_absolute_error: 1790.8058\n",
      "\n",
      "Epoch 00030: val_loss improved from 1818.98169 to 1790.80579, saving model to Weights-030--1790.80579.hdf5\n",
      "Epoch 31/200\n",
      "7074/7074 [==============================] - 14s 2ms/step - loss: 1889.2443 - mean_absolute_error: 1889.2443 - val_loss: 1747.1343 - val_mean_absolute_error: 1747.1343\n",
      "\n",
      "Epoch 00031: val_loss improved from 1790.80579 to 1747.13428, saving model to Weights-031--1747.13428.hdf5\n",
      "Epoch 32/200\n"
     ]
    },
    {
     "name": "stdout",
     "output_type": "stream",
     "text": [
      "7074/7074 [==============================] - 13s 2ms/step - loss: 1960.3938 - mean_absolute_error: 1960.3938 - val_loss: 1802.2341 - val_mean_absolute_error: 1802.2341\n",
      "\n",
      "Epoch 00032: val_loss did not improve from 1747.13428\n",
      "Epoch 33/200\n",
      "7074/7074 [==============================] - 14s 2ms/step - loss: 1896.9265 - mean_absolute_error: 1896.9265 - val_loss: 2048.0425 - val_mean_absolute_error: 2048.0425\n",
      "\n",
      "Epoch 00033: val_loss did not improve from 1747.13428\n",
      "Epoch 34/200\n",
      "7074/7074 [==============================] - 14s 2ms/step - loss: 1913.7784 - mean_absolute_error: 1913.7784 - val_loss: 1900.6346 - val_mean_absolute_error: 1900.6346\n",
      "\n",
      "Epoch 00034: val_loss did not improve from 1747.13428\n",
      "Epoch 35/200\n",
      "7074/7074 [==============================] - 14s 2ms/step - loss: 1886.7253 - mean_absolute_error: 1886.7253 - val_loss: 1825.2909 - val_mean_absolute_error: 1825.2909\n",
      "\n",
      "Epoch 00035: val_loss did not improve from 1747.13428\n",
      "Epoch 36/200\n",
      "7074/7074 [==============================] - 15s 2ms/step - loss: 1856.8184 - mean_absolute_error: 1856.8184 - val_loss: 1833.5543 - val_mean_absolute_error: 1833.5543\n",
      "\n",
      "Epoch 00036: val_loss did not improve from 1747.13428\n",
      "Epoch 37/200\n",
      "7074/7074 [==============================] - 15s 2ms/step - loss: 1895.1369 - mean_absolute_error: 1895.1369 - val_loss: 1717.0730 - val_mean_absolute_error: 1717.0730\n",
      "\n",
      "Epoch 00037: val_loss improved from 1747.13428 to 1717.07300, saving model to Weights-037--1717.07300.hdf5\n",
      "Epoch 38/200\n",
      "7074/7074 [==============================] - 15s 2ms/step - loss: 1942.7580 - mean_absolute_error: 1942.7580 - val_loss: 1763.8291 - val_mean_absolute_error: 1763.8291\n",
      "\n",
      "Epoch 00038: val_loss did not improve from 1717.07300\n",
      "Epoch 39/200\n",
      "7074/7074 [==============================] - 15s 2ms/step - loss: 1879.8831 - mean_absolute_error: 1879.8831 - val_loss: 2096.7429 - val_mean_absolute_error: 2096.7429\n",
      "\n",
      "Epoch 00039: val_loss did not improve from 1717.07300\n",
      "Epoch 40/200\n",
      "7074/7074 [==============================] - 16s 2ms/step - loss: 1859.9816 - mean_absolute_error: 1859.9816 - val_loss: 1762.8188 - val_mean_absolute_error: 1762.8188\n",
      "\n",
      "Epoch 00040: val_loss did not improve from 1717.07300\n",
      "Epoch 41/200\n",
      "7074/7074 [==============================] - 15s 2ms/step - loss: 1850.0412 - mean_absolute_error: 1850.0412 - val_loss: 1973.8472 - val_mean_absolute_error: 1973.8472\n",
      "\n",
      "Epoch 00041: val_loss did not improve from 1717.07300\n",
      "Epoch 42/200\n",
      "7074/7074 [==============================] - 14s 2ms/step - loss: 1852.2960 - mean_absolute_error: 1852.2960 - val_loss: 1827.9602 - val_mean_absolute_error: 1827.9602\n",
      "\n",
      "Epoch 00042: val_loss did not improve from 1717.07300\n",
      "Epoch 43/200\n",
      "7074/7074 [==============================] - 15s 2ms/step - loss: 1818.4847 - mean_absolute_error: 1818.4847 - val_loss: 1843.0281 - val_mean_absolute_error: 1843.0281\n",
      "\n",
      "Epoch 00043: val_loss did not improve from 1717.07300\n",
      "Epoch 44/200\n",
      "7074/7074 [==============================] - 14s 2ms/step - loss: 1797.4785 - mean_absolute_error: 1797.4785 - val_loss: 1854.0803 - val_mean_absolute_error: 1854.0803\n",
      "\n",
      "Epoch 00044: val_loss did not improve from 1717.07300\n",
      "Epoch 45/200\n",
      "7074/7074 [==============================] - 13s 2ms/step - loss: 1837.4421 - mean_absolute_error: 1837.4421 - val_loss: 1909.2810 - val_mean_absolute_error: 1909.2810\n",
      "\n",
      "Epoch 00045: val_loss did not improve from 1717.07300\n",
      "Epoch 46/200\n",
      "7074/7074 [==============================] - 14s 2ms/step - loss: 1808.0764 - mean_absolute_error: 1808.0764 - val_loss: 1795.6144 - val_mean_absolute_error: 1795.6144\n",
      "\n",
      "Epoch 00046: val_loss did not improve from 1717.07300\n",
      "Epoch 47/200\n",
      "7074/7074 [==============================] - 14s 2ms/step - loss: 1822.6080 - mean_absolute_error: 1822.6080 - val_loss: 1739.1870 - val_mean_absolute_error: 1739.1870\n",
      "\n",
      "Epoch 00047: val_loss did not improve from 1717.07300\n",
      "Epoch 48/200\n",
      "7074/7074 [==============================] - 19s 3ms/step - loss: 1804.6086 - mean_absolute_error: 1804.6086 - val_loss: 1900.6768 - val_mean_absolute_error: 1900.6768\n",
      "\n",
      "Epoch 00048: val_loss did not improve from 1717.07300\n",
      "Epoch 49/200\n",
      "7074/7074 [==============================] - 13s 2ms/step - loss: 1835.4057 - mean_absolute_error: 1835.4057 - val_loss: 1746.6250 - val_mean_absolute_error: 1746.6250\n",
      "\n",
      "Epoch 00049: val_loss did not improve from 1717.07300\n",
      "Epoch 50/200\n",
      "7074/7074 [==============================] - 14s 2ms/step - loss: 1875.7254 - mean_absolute_error: 1875.7254 - val_loss: 1670.1418 - val_mean_absolute_error: 1670.1418\n",
      "\n",
      "Epoch 00050: val_loss improved from 1717.07300 to 1670.14185, saving model to Weights-050--1670.14185.hdf5\n",
      "Epoch 51/200\n",
      "7074/7074 [==============================] - 13s 2ms/step - loss: 1861.4927 - mean_absolute_error: 1861.4927 - val_loss: 1804.1143 - val_mean_absolute_error: 1804.1143\n",
      "\n",
      "Epoch 00051: val_loss did not improve from 1670.14185\n",
      "Epoch 52/200\n",
      "7074/7074 [==============================] - 20s 3ms/step - loss: 1860.2427 - mean_absolute_error: 1860.2427 - val_loss: 1690.8013 - val_mean_absolute_error: 1690.8013\n",
      "\n",
      "Epoch 00052: val_loss did not improve from 1670.14185\n",
      "Epoch 53/200\n",
      "7074/7074 [==============================] - 21s 3ms/step - loss: 1781.8751 - mean_absolute_error: 1781.8751 - val_loss: 1697.8730 - val_mean_absolute_error: 1697.8730\n",
      "\n",
      "Epoch 00053: val_loss did not improve from 1670.14185\n",
      "Epoch 54/200\n",
      "7074/7074 [==============================] - 15s 2ms/step - loss: 1818.5456 - mean_absolute_error: 1818.5456 - val_loss: 1786.0742 - val_mean_absolute_error: 1786.0742\n",
      "\n",
      "Epoch 00054: val_loss did not improve from 1670.14185\n",
      "Epoch 55/200\n",
      "7074/7074 [==============================] - 15s 2ms/step - loss: 1808.7173 - mean_absolute_error: 1808.7173 - val_loss: 1786.3098 - val_mean_absolute_error: 1786.3098\n",
      "\n",
      "Epoch 00055: val_loss did not improve from 1670.14185\n",
      "Epoch 56/200\n",
      "7074/7074 [==============================] - 17s 2ms/step - loss: 1812.8962 - mean_absolute_error: 1812.8962 - val_loss: 1678.2529 - val_mean_absolute_error: 1678.2529\n",
      "\n",
      "Epoch 00056: val_loss did not improve from 1670.14185\n",
      "Epoch 57/200\n",
      "7074/7074 [==============================] - 14s 2ms/step - loss: 1824.4641 - mean_absolute_error: 1824.4641 - val_loss: 1714.0986 - val_mean_absolute_error: 1714.0986\n",
      "\n",
      "Epoch 00057: val_loss did not improve from 1670.14185\n",
      "Epoch 58/200\n",
      "7074/7074 [==============================] - 15s 2ms/step - loss: 1845.6114 - mean_absolute_error: 1845.6114 - val_loss: 1686.0260 - val_mean_absolute_error: 1686.0260\n",
      "\n",
      "Epoch 00058: val_loss did not improve from 1670.14185\n",
      "Epoch 59/200\n",
      "7074/7074 [==============================] - 14s 2ms/step - loss: 1825.3642 - mean_absolute_error: 1825.3642 - val_loss: 1782.6113 - val_mean_absolute_error: 1782.6113\n",
      "\n",
      "Epoch 00059: val_loss did not improve from 1670.14185\n",
      "Epoch 60/200\n",
      "7074/7074 [==============================] - 17s 2ms/step - loss: 1877.6510 - mean_absolute_error: 1877.6510 - val_loss: 1688.8700 - val_mean_absolute_error: 1688.8700\n",
      "\n",
      "Epoch 00060: val_loss did not improve from 1670.14185\n",
      "Epoch 61/200\n",
      "7074/7074 [==============================] - 16s 2ms/step - loss: 1792.7231 - mean_absolute_error: 1792.7231 - val_loss: 1698.1099 - val_mean_absolute_error: 1698.1099\n",
      "\n",
      "Epoch 00061: val_loss did not improve from 1670.14185\n",
      "Epoch 62/200\n",
      "7074/7074 [==============================] - 15s 2ms/step - loss: 1775.0131 - mean_absolute_error: 1775.0131 - val_loss: 1756.1141 - val_mean_absolute_error: 1756.1141\n",
      "\n",
      "Epoch 00062: val_loss did not improve from 1670.14185\n",
      "Epoch 63/200\n",
      "7074/7074 [==============================] - 16s 2ms/step - loss: 1788.5133 - mean_absolute_error: 1788.5133 - val_loss: 1677.9956 - val_mean_absolute_error: 1677.9956\n",
      "\n",
      "Epoch 00063: val_loss did not improve from 1670.14185\n",
      "Epoch 64/200\n",
      "7074/7074 [==============================] - 15s 2ms/step - loss: 1830.8887 - mean_absolute_error: 1830.8887 - val_loss: 1803.9584 - val_mean_absolute_error: 1803.9584\n",
      "\n",
      "Epoch 00064: val_loss did not improve from 1670.14185\n",
      "Epoch 65/200\n",
      "7074/7074 [==============================] - 15s 2ms/step - loss: 1808.8915 - mean_absolute_error: 1808.8915 - val_loss: 1761.2947 - val_mean_absolute_error: 1761.2947\n",
      "\n",
      "Epoch 00065: val_loss did not improve from 1670.14185\n",
      "Epoch 66/200\n"
     ]
    },
    {
     "name": "stdout",
     "output_type": "stream",
     "text": [
      "7074/7074 [==============================] - 15s 2ms/step - loss: 1778.6366 - mean_absolute_error: 1778.6366 - val_loss: 1689.7517 - val_mean_absolute_error: 1689.7517\n",
      "\n",
      "Epoch 00066: val_loss did not improve from 1670.14185\n",
      "Epoch 67/200\n",
      "7074/7074 [==============================] - 16s 2ms/step - loss: 1745.1277 - mean_absolute_error: 1745.1277 - val_loss: 1641.2203 - val_mean_absolute_error: 1641.2203\n",
      "\n",
      "Epoch 00067: val_loss improved from 1670.14185 to 1641.22034, saving model to Weights-067--1641.22034.hdf5\n",
      "Epoch 68/200\n",
      "7074/7074 [==============================] - 14s 2ms/step - loss: 1741.2784 - mean_absolute_error: 1741.2784 - val_loss: 1659.5328 - val_mean_absolute_error: 1659.5328\n",
      "\n",
      "Epoch 00068: val_loss did not improve from 1641.22034\n",
      "Epoch 69/200\n",
      "7074/7074 [==============================] - 13s 2ms/step - loss: 1754.2881 - mean_absolute_error: 1754.2881 - val_loss: 1619.6224 - val_mean_absolute_error: 1619.6224\n",
      "\n",
      "Epoch 00069: val_loss improved from 1641.22034 to 1619.62244, saving model to Weights-069--1619.62244.hdf5\n",
      "Epoch 70/200\n",
      "7074/7074 [==============================] - 13s 2ms/step - loss: 1762.2261 - mean_absolute_error: 1762.2261 - val_loss: 1671.9519 - val_mean_absolute_error: 1671.9519\n",
      "\n",
      "Epoch 00070: val_loss did not improve from 1619.62244\n",
      "Epoch 71/200\n",
      "7074/7074 [==============================] - 13s 2ms/step - loss: 1746.0005 - mean_absolute_error: 1746.0005 - val_loss: 1705.5791 - val_mean_absolute_error: 1705.5791\n",
      "\n",
      "Epoch 00071: val_loss did not improve from 1619.62244\n",
      "Epoch 72/200\n",
      "7074/7074 [==============================] - 13s 2ms/step - loss: 1727.8818 - mean_absolute_error: 1727.8818 - val_loss: 1681.9589 - val_mean_absolute_error: 1681.9589\n",
      "\n",
      "Epoch 00072: val_loss did not improve from 1619.62244\n",
      "Epoch 73/200\n",
      "7074/7074 [==============================] - 13s 2ms/step - loss: 1736.5881 - mean_absolute_error: 1736.5881 - val_loss: 1640.2056 - val_mean_absolute_error: 1640.2056\n",
      "\n",
      "Epoch 00073: val_loss did not improve from 1619.62244\n",
      "Epoch 74/200\n",
      "7074/7074 [==============================] - 13s 2ms/step - loss: 1769.0549 - mean_absolute_error: 1769.0549 - val_loss: 1745.1277 - val_mean_absolute_error: 1745.1277\n",
      "\n",
      "Epoch 00074: val_loss did not improve from 1619.62244\n",
      "Epoch 75/200\n",
      "7074/7074 [==============================] - 13s 2ms/step - loss: 1761.1418 - mean_absolute_error: 1761.1418 - val_loss: 1736.3729 - val_mean_absolute_error: 1736.3729\n",
      "\n",
      "Epoch 00075: val_loss did not improve from 1619.62244\n",
      "Epoch 76/200\n",
      "7074/7074 [==============================] - 13s 2ms/step - loss: 1777.1706 - mean_absolute_error: 1777.1706 - val_loss: 1724.0070 - val_mean_absolute_error: 1724.0070\n",
      "\n",
      "Epoch 00076: val_loss did not improve from 1619.62244\n",
      "Epoch 77/200\n",
      "7074/7074 [==============================] - 13s 2ms/step - loss: 1835.8558 - mean_absolute_error: 1835.8558 - val_loss: 1699.0568 - val_mean_absolute_error: 1699.0568\n",
      "\n",
      "Epoch 00077: val_loss did not improve from 1619.62244\n",
      "Epoch 78/200\n",
      "7074/7074 [==============================] - 13s 2ms/step - loss: 1799.1047 - mean_absolute_error: 1799.1047 - val_loss: 1742.4058 - val_mean_absolute_error: 1742.4058\n",
      "\n",
      "Epoch 00078: val_loss did not improve from 1619.62244\n",
      "Epoch 79/200\n",
      "7074/7074 [==============================] - 13s 2ms/step - loss: 1806.4176 - mean_absolute_error: 1806.4176 - val_loss: 1665.0895 - val_mean_absolute_error: 1665.0895\n",
      "\n",
      "Epoch 00079: val_loss did not improve from 1619.62244\n",
      "Epoch 80/200\n",
      "7074/7074 [==============================] - 13s 2ms/step - loss: 1781.7557 - mean_absolute_error: 1781.7557 - val_loss: 1711.7832 - val_mean_absolute_error: 1711.7832\n",
      "\n",
      "Epoch 00080: val_loss did not improve from 1619.62244\n",
      "Epoch 81/200\n",
      "7074/7074 [==============================] - 13s 2ms/step - loss: 1783.9450 - mean_absolute_error: 1783.9450 - val_loss: 1694.5402 - val_mean_absolute_error: 1694.5402\n",
      "\n",
      "Epoch 00081: val_loss did not improve from 1619.62244\n",
      "Epoch 82/200\n",
      "7074/7074 [==============================] - 13s 2ms/step - loss: 1749.6109 - mean_absolute_error: 1749.6109 - val_loss: 1612.0883 - val_mean_absolute_error: 1612.0883\n",
      "\n",
      "Epoch 00082: val_loss improved from 1619.62244 to 1612.08826, saving model to Weights-082--1612.08826.hdf5\n",
      "Epoch 83/200\n",
      "7074/7074 [==============================] - 14s 2ms/step - loss: 1744.5065 - mean_absolute_error: 1744.5065 - val_loss: 1684.9850 - val_mean_absolute_error: 1684.9850\n",
      "\n",
      "Epoch 00083: val_loss did not improve from 1612.08826\n",
      "Epoch 84/200\n",
      "7074/7074 [==============================] - 15s 2ms/step - loss: 1719.2759 - mean_absolute_error: 1719.2759 - val_loss: 1613.5796 - val_mean_absolute_error: 1613.5796\n",
      "\n",
      "Epoch 00084: val_loss did not improve from 1612.08826\n",
      "Epoch 85/200\n",
      "7074/7074 [==============================] - 14s 2ms/step - loss: 1728.8250 - mean_absolute_error: 1728.8250 - val_loss: 1709.9558 - val_mean_absolute_error: 1709.9558\n",
      "\n",
      "Epoch 00085: val_loss did not improve from 1612.08826\n",
      "Epoch 86/200\n",
      "7074/7074 [==============================] - 13s 2ms/step - loss: 1736.7131 - mean_absolute_error: 1736.7131 - val_loss: 1698.7507 - val_mean_absolute_error: 1698.7507\n",
      "\n",
      "Epoch 00086: val_loss did not improve from 1612.08826\n",
      "Epoch 87/200\n",
      "7074/7074 [==============================] - 13s 2ms/step - loss: 1717.0261 - mean_absolute_error: 1717.0261 - val_loss: 1726.4673 - val_mean_absolute_error: 1726.4673\n",
      "\n",
      "Epoch 00087: val_loss did not improve from 1612.08826\n",
      "Epoch 88/200\n",
      "7074/7074 [==============================] - 13s 2ms/step - loss: 1681.0717 - mean_absolute_error: 1681.0717 - val_loss: 1699.5793 - val_mean_absolute_error: 1699.5793\n",
      "\n",
      "Epoch 00088: val_loss did not improve from 1612.08826\n",
      "Epoch 89/200\n",
      "7074/7074 [==============================] - 14s 2ms/step - loss: 1707.1612 - mean_absolute_error: 1707.1612 - val_loss: 1624.9065 - val_mean_absolute_error: 1624.9065\n",
      "\n",
      "Epoch 00089: val_loss did not improve from 1612.08826\n",
      "Epoch 90/200\n",
      "7074/7074 [==============================] - 14s 2ms/step - loss: 1777.2953 - mean_absolute_error: 1777.2953 - val_loss: 1820.5132 - val_mean_absolute_error: 1820.5132\n",
      "\n",
      "Epoch 00090: val_loss did not improve from 1612.08826\n",
      "Epoch 91/200\n",
      "7074/7074 [==============================] - 14s 2ms/step - loss: 1696.2206 - mean_absolute_error: 1696.2206 - val_loss: 1592.0669 - val_mean_absolute_error: 1592.0669\n",
      "\n",
      "Epoch 00091: val_loss improved from 1612.08826 to 1592.06689, saving model to Weights-091--1592.06689.hdf5\n",
      "Epoch 92/200\n",
      "7074/7074 [==============================] - 13s 2ms/step - loss: 1713.6553 - mean_absolute_error: 1713.6553 - val_loss: 1604.2419 - val_mean_absolute_error: 1604.2419\n",
      "\n",
      "Epoch 00092: val_loss did not improve from 1592.06689\n",
      "Epoch 93/200\n",
      "7074/7074 [==============================] - 12s 2ms/step - loss: 1683.2859 - mean_absolute_error: 1683.2859 - val_loss: 1616.4111 - val_mean_absolute_error: 1616.4111\n",
      "\n",
      "Epoch 00093: val_loss did not improve from 1592.06689\n",
      "Epoch 94/200\n",
      "7074/7074 [==============================] - 12s 2ms/step - loss: 1717.7947 - mean_absolute_error: 1717.7947 - val_loss: 1656.5974 - val_mean_absolute_error: 1656.5974\n",
      "\n",
      "Epoch 00094: val_loss did not improve from 1592.06689\n",
      "Epoch 95/200\n",
      "7074/7074 [==============================] - 12s 2ms/step - loss: 1683.9888 - mean_absolute_error: 1683.9888 - val_loss: 1610.9849 - val_mean_absolute_error: 1610.9849\n",
      "\n",
      "Epoch 00095: val_loss did not improve from 1592.06689\n",
      "Epoch 96/200\n",
      "7074/7074 [==============================] - 12s 2ms/step - loss: 1735.2108 - mean_absolute_error: 1735.2108 - val_loss: 1616.8618 - val_mean_absolute_error: 1616.8618\n",
      "\n",
      "Epoch 00096: val_loss did not improve from 1592.06689\n",
      "Epoch 97/200\n",
      "7074/7074 [==============================] - 12s 2ms/step - loss: 1674.7220 - mean_absolute_error: 1674.7220 - val_loss: 1905.2811 - val_mean_absolute_error: 1905.2811\n",
      "\n",
      "Epoch 00097: val_loss did not improve from 1592.06689\n",
      "Epoch 98/200\n",
      "7074/7074 [==============================] - 12s 2ms/step - loss: 1619.3739 - mean_absolute_error: 1619.3739 - val_loss: 1697.7521 - val_mean_absolute_error: 1697.7521\n",
      "\n",
      "Epoch 00098: val_loss did not improve from 1592.06689\n",
      "Epoch 99/200\n",
      "7074/7074 [==============================] - 12s 2ms/step - loss: 1656.2388 - mean_absolute_error: 1656.2388 - val_loss: 1575.4561 - val_mean_absolute_error: 1575.4561\n",
      "\n",
      "Epoch 00099: val_loss improved from 1592.06689 to 1575.45605, saving model to Weights-099--1575.45605.hdf5\n",
      "Epoch 100/200\n"
     ]
    },
    {
     "name": "stdout",
     "output_type": "stream",
     "text": [
      "7074/7074 [==============================] - 12s 2ms/step - loss: 1699.1388 - mean_absolute_error: 1699.1388 - val_loss: 1690.7723 - val_mean_absolute_error: 1690.7723\n",
      "\n",
      "Epoch 00100: val_loss did not improve from 1575.45605\n",
      "Epoch 101/200\n",
      "7074/7074 [==============================] - 13s 2ms/step - loss: 1689.9924 - mean_absolute_error: 1689.9924 - val_loss: 1822.8533 - val_mean_absolute_error: 1822.8533\n",
      "\n",
      "Epoch 00101: val_loss did not improve from 1575.45605\n",
      "Epoch 102/200\n",
      "7074/7074 [==============================] - 13s 2ms/step - loss: 1694.7374 - mean_absolute_error: 1694.7374 - val_loss: 1594.4205 - val_mean_absolute_error: 1594.4205\n",
      "\n",
      "Epoch 00102: val_loss did not improve from 1575.45605\n",
      "Epoch 103/200\n",
      "7074/7074 [==============================] - 13s 2ms/step - loss: 1675.1235 - mean_absolute_error: 1675.1235 - val_loss: 1763.5500 - val_mean_absolute_error: 1763.5500\n",
      "\n",
      "Epoch 00103: val_loss did not improve from 1575.45605\n",
      "Epoch 104/200\n",
      "7074/7074 [==============================] - 13s 2ms/step - loss: 1670.4546 - mean_absolute_error: 1670.4546 - val_loss: 1588.1722 - val_mean_absolute_error: 1588.1722\n",
      "\n",
      "Epoch 00104: val_loss did not improve from 1575.45605\n",
      "Epoch 105/200\n",
      "7074/7074 [==============================] - 12s 2ms/step - loss: 1698.1975 - mean_absolute_error: 1698.1975 - val_loss: 1584.6543 - val_mean_absolute_error: 1584.6543\n",
      "\n",
      "Epoch 00105: val_loss did not improve from 1575.45605\n",
      "Epoch 106/200\n",
      "7074/7074 [==============================] - 13s 2ms/step - loss: 1649.5670 - mean_absolute_error: 1649.5670 - val_loss: 1594.7075 - val_mean_absolute_error: 1594.7075\n",
      "\n",
      "Epoch 00106: val_loss did not improve from 1575.45605\n",
      "Epoch 107/200\n",
      "7074/7074 [==============================] - 13s 2ms/step - loss: 1720.5011 - mean_absolute_error: 1720.5011 - val_loss: 1626.7047 - val_mean_absolute_error: 1626.7047\n",
      "\n",
      "Epoch 00107: val_loss did not improve from 1575.45605\n",
      "Epoch 108/200\n",
      "7074/7074 [==============================] - 14s 2ms/step - loss: 1708.3063 - mean_absolute_error: 1708.3063 - val_loss: 1722.7394 - val_mean_absolute_error: 1722.7394\n",
      "\n",
      "Epoch 00108: val_loss did not improve from 1575.45605\n",
      "Epoch 109/200\n",
      "7074/7074 [==============================] - 14s 2ms/step - loss: 1644.8195 - mean_absolute_error: 1644.8195 - val_loss: 1566.0597 - val_mean_absolute_error: 1566.0597\n",
      "\n",
      "Epoch 00109: val_loss improved from 1575.45605 to 1566.05969, saving model to Weights-109--1566.05969.hdf5\n",
      "Epoch 110/200\n",
      "7074/7074 [==============================] - 13s 2ms/step - loss: 1671.6308 - mean_absolute_error: 1671.6308 - val_loss: 1733.9983 - val_mean_absolute_error: 1733.9983\n",
      "\n",
      "Epoch 00110: val_loss did not improve from 1566.05969\n",
      "Epoch 111/200\n",
      "7074/7074 [==============================] - 12s 2ms/step - loss: 1673.6436 - mean_absolute_error: 1673.6436 - val_loss: 1609.3092 - val_mean_absolute_error: 1609.3092\n",
      "\n",
      "Epoch 00111: val_loss did not improve from 1566.05969\n",
      "Epoch 112/200\n",
      "7074/7074 [==============================] - 13s 2ms/step - loss: 1660.2758 - mean_absolute_error: 1660.2758 - val_loss: 1660.5918 - val_mean_absolute_error: 1660.5918\n",
      "\n",
      "Epoch 00112: val_loss did not improve from 1566.05969\n",
      "Epoch 113/200\n",
      "7074/7074 [==============================] - 12s 2ms/step - loss: 1652.9669 - mean_absolute_error: 1652.9669 - val_loss: 1619.5769 - val_mean_absolute_error: 1619.5769\n",
      "\n",
      "Epoch 00113: val_loss did not improve from 1566.05969\n",
      "Epoch 114/200\n",
      "7074/7074 [==============================] - 12s 2ms/step - loss: 1679.6662 - mean_absolute_error: 1679.6662 - val_loss: 1565.5323 - val_mean_absolute_error: 1565.5323\n",
      "\n",
      "Epoch 00114: val_loss improved from 1566.05969 to 1565.53235, saving model to Weights-114--1565.53235.hdf5\n",
      "Epoch 115/200\n",
      "7074/7074 [==============================] - 13s 2ms/step - loss: 1668.0461 - mean_absolute_error: 1668.0461 - val_loss: 1558.8784 - val_mean_absolute_error: 1558.8784\n",
      "\n",
      "Epoch 00115: val_loss improved from 1565.53235 to 1558.87842, saving model to Weights-115--1558.87842.hdf5\n",
      "Epoch 116/200\n",
      "7074/7074 [==============================] - 15s 2ms/step - loss: 1638.8978 - mean_absolute_error: 1638.8978 - val_loss: 1639.7766 - val_mean_absolute_error: 1639.7766\n",
      "\n",
      "Epoch 00116: val_loss did not improve from 1558.87842\n",
      "Epoch 117/200\n",
      "7074/7074 [==============================] - 13s 2ms/step - loss: 1645.4805 - mean_absolute_error: 1645.4805 - val_loss: 1606.4170 - val_mean_absolute_error: 1606.4170\n",
      "\n",
      "Epoch 00117: val_loss did not improve from 1558.87842\n",
      "Epoch 118/200\n",
      "7074/7074 [==============================] - 13s 2ms/step - loss: 1629.5164 - mean_absolute_error: 1629.5164 - val_loss: 1542.0787 - val_mean_absolute_error: 1542.0787\n",
      "\n",
      "Epoch 00118: val_loss improved from 1558.87842 to 1542.07874, saving model to Weights-118--1542.07874.hdf5\n",
      "Epoch 119/200\n",
      "7074/7074 [==============================] - 13s 2ms/step - loss: 1677.2439 - mean_absolute_error: 1677.2439 - val_loss: 1614.4448 - val_mean_absolute_error: 1614.4448\n",
      "\n",
      "Epoch 00119: val_loss did not improve from 1542.07874\n",
      "Epoch 120/200\n",
      "7074/7074 [==============================] - 13s 2ms/step - loss: 1700.4288 - mean_absolute_error: 1700.4288 - val_loss: 1553.9137 - val_mean_absolute_error: 1553.9137\n",
      "\n",
      "Epoch 00120: val_loss did not improve from 1542.07874\n",
      "Epoch 121/200\n",
      "7074/7074 [==============================] - 13s 2ms/step - loss: 1643.9265 - mean_absolute_error: 1643.9265 - val_loss: 1607.8326 - val_mean_absolute_error: 1607.8326\n",
      "\n",
      "Epoch 00121: val_loss did not improve from 1542.07874\n",
      "Epoch 122/200\n",
      "7074/7074 [==============================] - 12s 2ms/step - loss: 1683.3461 - mean_absolute_error: 1683.3461 - val_loss: 1600.1973 - val_mean_absolute_error: 1600.1973\n",
      "\n",
      "Epoch 00122: val_loss did not improve from 1542.07874\n",
      "Epoch 123/200\n",
      "7074/7074 [==============================] - 12s 2ms/step - loss: 1628.0150 - mean_absolute_error: 1628.0150 - val_loss: 1607.7642 - val_mean_absolute_error: 1607.7642\n",
      "\n",
      "Epoch 00123: val_loss did not improve from 1542.07874\n",
      "Epoch 124/200\n",
      "7074/7074 [==============================] - 12s 2ms/step - loss: 1628.0560 - mean_absolute_error: 1628.0560 - val_loss: 1653.0619 - val_mean_absolute_error: 1653.0619\n",
      "\n",
      "Epoch 00124: val_loss did not improve from 1542.07874\n",
      "Epoch 125/200\n",
      "7074/7074 [==============================] - 13s 2ms/step - loss: 1650.3716 - mean_absolute_error: 1650.3716 - val_loss: 1602.0725 - val_mean_absolute_error: 1602.0725\n",
      "\n",
      "Epoch 00125: val_loss did not improve from 1542.07874\n",
      "Epoch 126/200\n",
      "7074/7074 [==============================] - 12s 2ms/step - loss: 1622.0190 - mean_absolute_error: 1622.0190 - val_loss: 1792.9384 - val_mean_absolute_error: 1792.9384\n",
      "\n",
      "Epoch 00126: val_loss did not improve from 1542.07874\n",
      "Epoch 127/200\n",
      "7074/7074 [==============================] - 12s 2ms/step - loss: 1661.6754 - mean_absolute_error: 1661.6754 - val_loss: 1594.4233 - val_mean_absolute_error: 1594.4233\n",
      "\n",
      "Epoch 00127: val_loss did not improve from 1542.07874\n",
      "Epoch 128/200\n",
      "7074/7074 [==============================] - 13s 2ms/step - loss: 1655.3198 - mean_absolute_error: 1655.3198 - val_loss: 1578.4993 - val_mean_absolute_error: 1578.4993\n",
      "\n",
      "Epoch 00128: val_loss did not improve from 1542.07874\n",
      "Epoch 129/200\n",
      "7074/7074 [==============================] - 13s 2ms/step - loss: 1656.0715 - mean_absolute_error: 1656.0715 - val_loss: 1528.6667 - val_mean_absolute_error: 1528.6667\n",
      "\n",
      "Epoch 00129: val_loss improved from 1542.07874 to 1528.66675, saving model to Weights-129--1528.66675.hdf5\n",
      "Epoch 130/200\n",
      "7074/7074 [==============================] - 13s 2ms/step - loss: 1611.8292 - mean_absolute_error: 1611.8292 - val_loss: 1613.8428 - val_mean_absolute_error: 1613.8428\n",
      "\n",
      "Epoch 00130: val_loss did not improve from 1528.66675\n",
      "Epoch 131/200\n",
      "7074/7074 [==============================] - 13s 2ms/step - loss: 1621.5197 - mean_absolute_error: 1621.5197 - val_loss: 1558.9255 - val_mean_absolute_error: 1558.9255\n",
      "\n",
      "Epoch 00131: val_loss did not improve from 1528.66675\n",
      "Epoch 132/200\n",
      "7074/7074 [==============================] - 13s 2ms/step - loss: 1648.3832 - mean_absolute_error: 1648.3832 - val_loss: 1572.9510 - val_mean_absolute_error: 1572.9510\n",
      "\n",
      "Epoch 00132: val_loss did not improve from 1528.66675\n",
      "Epoch 133/200\n",
      "7074/7074 [==============================] - 13s 2ms/step - loss: 1590.1730 - mean_absolute_error: 1590.1730 - val_loss: 1541.3262 - val_mean_absolute_error: 1541.3262\n"
     ]
    },
    {
     "name": "stdout",
     "output_type": "stream",
     "text": [
      "\n",
      "Epoch 00133: val_loss did not improve from 1528.66675\n",
      "Epoch 134/200\n",
      "7074/7074 [==============================] - 14s 2ms/step - loss: 1632.0080 - mean_absolute_error: 1632.0080 - val_loss: 1542.3530 - val_mean_absolute_error: 1542.3530\n",
      "\n",
      "Epoch 00134: val_loss did not improve from 1528.66675\n",
      "Epoch 135/200\n",
      "7074/7074 [==============================] - 13s 2ms/step - loss: 1629.5928 - mean_absolute_error: 1629.5928 - val_loss: 1572.0094 - val_mean_absolute_error: 1572.0094\n",
      "\n",
      "Epoch 00135: val_loss did not improve from 1528.66675\n",
      "Epoch 136/200\n",
      "7074/7074 [==============================] - 13s 2ms/step - loss: 1620.1283 - mean_absolute_error: 1620.1283 - val_loss: 1568.9908 - val_mean_absolute_error: 1568.9908\n",
      "\n",
      "Epoch 00136: val_loss did not improve from 1528.66675\n",
      "Epoch 137/200\n",
      "7074/7074 [==============================] - 12s 2ms/step - loss: 1660.7498 - mean_absolute_error: 1660.7498 - val_loss: 1543.2043 - val_mean_absolute_error: 1543.2043\n",
      "\n",
      "Epoch 00137: val_loss did not improve from 1528.66675\n",
      "Epoch 138/200\n",
      "7074/7074 [==============================] - 12s 2ms/step - loss: 1620.8688 - mean_absolute_error: 1620.8688 - val_loss: 1531.1958 - val_mean_absolute_error: 1531.1958\n",
      "\n",
      "Epoch 00138: val_loss did not improve from 1528.66675\n",
      "Epoch 139/200\n",
      "7074/7074 [==============================] - 12s 2ms/step - loss: 1618.7670 - mean_absolute_error: 1618.7670 - val_loss: 1633.1477 - val_mean_absolute_error: 1633.1477\n",
      "\n",
      "Epoch 00139: val_loss did not improve from 1528.66675\n",
      "Epoch 140/200\n",
      "7074/7074 [==============================] - 12s 2ms/step - loss: 1621.2570 - mean_absolute_error: 1621.2570 - val_loss: 1616.0100 - val_mean_absolute_error: 1616.0100\n",
      "\n",
      "Epoch 00140: val_loss did not improve from 1528.66675\n",
      "Epoch 141/200\n",
      "7074/7074 [==============================] - 12s 2ms/step - loss: 1641.2505 - mean_absolute_error: 1641.2505 - val_loss: 1545.7510 - val_mean_absolute_error: 1545.7510\n",
      "\n",
      "Epoch 00141: val_loss did not improve from 1528.66675\n",
      "Epoch 142/200\n",
      "7074/7074 [==============================] - 13s 2ms/step - loss: 1649.5659 - mean_absolute_error: 1649.5659 - val_loss: 1611.5139 - val_mean_absolute_error: 1611.5139\n",
      "\n",
      "Epoch 00142: val_loss did not improve from 1528.66675\n",
      "Epoch 143/200\n",
      "7074/7074 [==============================] - 12s 2ms/step - loss: 1600.6227 - mean_absolute_error: 1600.6227 - val_loss: 1535.8756 - val_mean_absolute_error: 1535.8756\n",
      "\n",
      "Epoch 00143: val_loss did not improve from 1528.66675\n",
      "Epoch 144/200\n",
      "7074/7074 [==============================] - 12s 2ms/step - loss: 1641.2125 - mean_absolute_error: 1641.2125 - val_loss: 1675.4320 - val_mean_absolute_error: 1675.4320\n",
      "\n",
      "Epoch 00144: val_loss did not improve from 1528.66675\n",
      "Epoch 145/200\n",
      "7074/7074 [==============================] - 12s 2ms/step - loss: 1621.2517 - mean_absolute_error: 1621.2517 - val_loss: 1634.2673 - val_mean_absolute_error: 1634.2673\n",
      "\n",
      "Epoch 00145: val_loss did not improve from 1528.66675\n",
      "Epoch 146/200\n",
      "7074/7074 [==============================] - 12s 2ms/step - loss: 1571.7238 - mean_absolute_error: 1571.7238 - val_loss: 1636.9226 - val_mean_absolute_error: 1636.9226\n",
      "\n",
      "Epoch 00146: val_loss did not improve from 1528.66675\n",
      "Epoch 147/200\n",
      "7074/7074 [==============================] - 12s 2ms/step - loss: 1579.7131 - mean_absolute_error: 1579.7131 - val_loss: 1624.0879 - val_mean_absolute_error: 1624.0879\n",
      "\n",
      "Epoch 00147: val_loss did not improve from 1528.66675\n",
      "Epoch 148/200\n",
      "7074/7074 [==============================] - 13s 2ms/step - loss: 1643.2783 - mean_absolute_error: 1643.2783 - val_loss: 1590.4934 - val_mean_absolute_error: 1590.4934\n",
      "\n",
      "Epoch 00148: val_loss did not improve from 1528.66675\n",
      "Epoch 149/200\n",
      "7074/7074 [==============================] - 13s 2ms/step - loss: 1633.6543 - mean_absolute_error: 1633.6543 - val_loss: 1647.7980 - val_mean_absolute_error: 1647.7980\n",
      "\n",
      "Epoch 00149: val_loss did not improve from 1528.66675\n",
      "Epoch 150/200\n",
      "7074/7074 [==============================] - 13s 2ms/step - loss: 1539.4116 - mean_absolute_error: 1539.4116 - val_loss: 1527.1893 - val_mean_absolute_error: 1527.1893\n",
      "\n",
      "Epoch 00150: val_loss improved from 1528.66675 to 1527.18933, saving model to Weights-150--1527.18933.hdf5\n",
      "Epoch 151/200\n",
      "7074/7074 [==============================] - 13s 2ms/step - loss: 1631.1932 - mean_absolute_error: 1631.1932 - val_loss: 1544.6969 - val_mean_absolute_error: 1544.6969\n",
      "\n",
      "Epoch 00151: val_loss did not improve from 1527.18933\n",
      "Epoch 152/200\n",
      "7074/7074 [==============================] - 13s 2ms/step - loss: 1615.6529 - mean_absolute_error: 1615.6529 - val_loss: 1512.1586 - val_mean_absolute_error: 1512.1586\n",
      "\n",
      "Epoch 00152: val_loss improved from 1527.18933 to 1512.15857, saving model to Weights-152--1512.15857.hdf5\n",
      "Epoch 153/200\n",
      "7074/7074 [==============================] - 13s 2ms/step - loss: 1571.8002 - mean_absolute_error: 1571.8002 - val_loss: 1566.2311 - val_mean_absolute_error: 1566.2311\n",
      "\n",
      "Epoch 00153: val_loss did not improve from 1512.15857\n",
      "Epoch 154/200\n",
      "7074/7074 [==============================] - 13s 2ms/step - loss: 1609.7746 - mean_absolute_error: 1609.7746 - val_loss: 1506.7169 - val_mean_absolute_error: 1506.7169\n",
      "\n",
      "Epoch 00154: val_loss improved from 1512.15857 to 1506.71692, saving model to Weights-154--1506.71692.hdf5\n",
      "Epoch 155/200\n",
      "7074/7074 [==============================] - 13s 2ms/step - loss: 1577.7470 - mean_absolute_error: 1577.7470 - val_loss: 1546.5667 - val_mean_absolute_error: 1546.5667\n",
      "\n",
      "Epoch 00155: val_loss did not improve from 1506.71692\n",
      "Epoch 156/200\n",
      "7074/7074 [==============================] - 13s 2ms/step - loss: 1555.7527 - mean_absolute_error: 1555.7527 - val_loss: 1528.9661 - val_mean_absolute_error: 1528.9661\n",
      "\n",
      "Epoch 00156: val_loss did not improve from 1506.71692\n",
      "Epoch 157/200\n",
      "7074/7074 [==============================] - 13s 2ms/step - loss: 1544.3719 - mean_absolute_error: 1544.3719 - val_loss: 1537.8307 - val_mean_absolute_error: 1537.8307\n",
      "\n",
      "Epoch 00157: val_loss did not improve from 1506.71692\n",
      "Epoch 158/200\n",
      "7074/7074 [==============================] - 13s 2ms/step - loss: 1622.1932 - mean_absolute_error: 1622.1932 - val_loss: 1511.4965 - val_mean_absolute_error: 1511.4965\n",
      "\n",
      "Epoch 00158: val_loss did not improve from 1506.71692\n",
      "Epoch 159/200\n",
      "7074/7074 [==============================] - 12s 2ms/step - loss: 1541.1128 - mean_absolute_error: 1541.1128 - val_loss: 1562.8612 - val_mean_absolute_error: 1562.8612\n",
      "\n",
      "Epoch 00159: val_loss did not improve from 1506.71692\n",
      "Epoch 160/200\n",
      "7074/7074 [==============================] - 13s 2ms/step - loss: 1583.9820 - mean_absolute_error: 1583.9820 - val_loss: 1534.5057 - val_mean_absolute_error: 1534.5057\n",
      "\n",
      "Epoch 00160: val_loss did not improve from 1506.71692\n",
      "Epoch 161/200\n",
      "7074/7074 [==============================] - 14s 2ms/step - loss: 1525.5791 - mean_absolute_error: 1525.5791 - val_loss: 1512.1525 - val_mean_absolute_error: 1512.1525\n",
      "\n",
      "Epoch 00161: val_loss did not improve from 1506.71692\n",
      "Epoch 162/200\n",
      "7074/7074 [==============================] - 13s 2ms/step - loss: 1578.2876 - mean_absolute_error: 1578.2876 - val_loss: 1555.9987 - val_mean_absolute_error: 1555.9987\n",
      "\n",
      "Epoch 00162: val_loss did not improve from 1506.71692\n",
      "Epoch 163/200\n",
      "7074/7074 [==============================] - 12s 2ms/step - loss: 1583.9397 - mean_absolute_error: 1583.9397 - val_loss: 1524.4431 - val_mean_absolute_error: 1524.4431\n",
      "\n",
      "Epoch 00163: val_loss did not improve from 1506.71692\n",
      "Epoch 164/200\n",
      "7074/7074 [==============================] - 12s 2ms/step - loss: 1594.7267 - mean_absolute_error: 1594.7267 - val_loss: 1603.4750 - val_mean_absolute_error: 1603.4750\n",
      "\n",
      "Epoch 00164: val_loss did not improve from 1506.71692\n",
      "Epoch 165/200\n",
      "7074/7074 [==============================] - 13s 2ms/step - loss: 1581.7929 - mean_absolute_error: 1581.7929 - val_loss: 1549.3778 - val_mean_absolute_error: 1549.3778\n",
      "\n",
      "Epoch 00165: val_loss did not improve from 1506.71692\n",
      "Epoch 166/200\n",
      "7074/7074 [==============================] - 13s 2ms/step - loss: 1559.5501 - mean_absolute_error: 1559.5501 - val_loss: 1525.4164 - val_mean_absolute_error: 1525.4164\n",
      "\n",
      "Epoch 00166: val_loss did not improve from 1506.71692\n",
      "Epoch 167/200\n",
      "7074/7074 [==============================] - 12s 2ms/step - loss: 1571.6684 - mean_absolute_error: 1571.6684 - val_loss: 1565.7120 - val_mean_absolute_error: 1565.7120\n"
     ]
    },
    {
     "name": "stdout",
     "output_type": "stream",
     "text": [
      "\n",
      "Epoch 00167: val_loss did not improve from 1506.71692\n",
      "Epoch 168/200\n",
      "7074/7074 [==============================] - 12s 2ms/step - loss: 1604.7970 - mean_absolute_error: 1604.7970 - val_loss: 1728.0554 - val_mean_absolute_error: 1728.0554\n",
      "\n",
      "Epoch 00168: val_loss did not improve from 1506.71692\n",
      "Epoch 169/200\n",
      "7074/7074 [==============================] - 12s 2ms/step - loss: 1571.8975 - mean_absolute_error: 1571.8975 - val_loss: 1565.1030 - val_mean_absolute_error: 1565.1030\n",
      "\n",
      "Epoch 00169: val_loss did not improve from 1506.71692\n",
      "Epoch 170/200\n",
      "7074/7074 [==============================] - 13s 2ms/step - loss: 1559.1450 - mean_absolute_error: 1559.1450 - val_loss: 1622.8970 - val_mean_absolute_error: 1622.8970\n",
      "\n",
      "Epoch 00170: val_loss did not improve from 1506.71692\n",
      "Epoch 171/200\n",
      "7074/7074 [==============================] - 12s 2ms/step - loss: 1649.6974 - mean_absolute_error: 1649.6974 - val_loss: 1525.5674 - val_mean_absolute_error: 1525.5674\n",
      "\n",
      "Epoch 00171: val_loss did not improve from 1506.71692\n",
      "Epoch 172/200\n",
      "7074/7074 [==============================] - 12s 2ms/step - loss: 1557.9541 - mean_absolute_error: 1557.9541 - val_loss: 1592.8435 - val_mean_absolute_error: 1592.8435\n",
      "\n",
      "Epoch 00172: val_loss did not improve from 1506.71692\n",
      "Epoch 173/200\n",
      "7074/7074 [==============================] - 12s 2ms/step - loss: 1542.8153 - mean_absolute_error: 1542.8153 - val_loss: 1487.8984 - val_mean_absolute_error: 1487.8984\n",
      "\n",
      "Epoch 00173: val_loss improved from 1506.71692 to 1487.89844, saving model to Weights-173--1487.89844.hdf5\n",
      "Epoch 174/200\n",
      "7074/7074 [==============================] - 12s 2ms/step - loss: 1600.7127 - mean_absolute_error: 1600.7127 - val_loss: 1553.0275 - val_mean_absolute_error: 1553.0275\n",
      "\n",
      "Epoch 00174: val_loss did not improve from 1487.89844\n",
      "Epoch 175/200\n",
      "7074/7074 [==============================] - 13s 2ms/step - loss: 1563.3040 - mean_absolute_error: 1563.3040 - val_loss: 1538.4210 - val_mean_absolute_error: 1538.4210\n",
      "\n",
      "Epoch 00175: val_loss did not improve from 1487.89844\n",
      "Epoch 176/200\n",
      "7074/7074 [==============================] - 13s 2ms/step - loss: 1545.7151 - mean_absolute_error: 1545.7151 - val_loss: 1538.3812 - val_mean_absolute_error: 1538.3812\n",
      "\n",
      "Epoch 00176: val_loss did not improve from 1487.89844\n",
      "Epoch 177/200\n",
      "7074/7074 [==============================] - 13s 2ms/step - loss: 1568.3111 - mean_absolute_error: 1568.3111 - val_loss: 1638.2244 - val_mean_absolute_error: 1638.2244\n",
      "\n",
      "Epoch 00177: val_loss did not improve from 1487.89844\n",
      "Epoch 178/200\n",
      "7074/7074 [==============================] - 13s 2ms/step - loss: 1556.8631 - mean_absolute_error: 1556.8631 - val_loss: 1534.4429 - val_mean_absolute_error: 1534.4429\n",
      "\n",
      "Epoch 00178: val_loss did not improve from 1487.89844\n",
      "Epoch 179/200\n",
      "7074/7074 [==============================] - 14s 2ms/step - loss: 1533.9377 - mean_absolute_error: 1533.9377 - val_loss: 1524.0056 - val_mean_absolute_error: 1524.0056\n",
      "\n",
      "Epoch 00179: val_loss did not improve from 1487.89844\n",
      "Epoch 180/200\n",
      "7074/7074 [==============================] - 14s 2ms/step - loss: 1496.6154 - mean_absolute_error: 1496.6154 - val_loss: 1526.0884 - val_mean_absolute_error: 1526.0884\n",
      "\n",
      "Epoch 00180: val_loss did not improve from 1487.89844\n",
      "Epoch 181/200\n",
      "7074/7074 [==============================] - 13s 2ms/step - loss: 1513.0637 - mean_absolute_error: 1513.0637 - val_loss: 1468.0969 - val_mean_absolute_error: 1468.0969\n",
      "\n",
      "Epoch 00181: val_loss improved from 1487.89844 to 1468.09692, saving model to Weights-181--1468.09692.hdf5\n",
      "Epoch 182/200\n",
      "7074/7074 [==============================] - 14s 2ms/step - loss: 1565.7344 - mean_absolute_error: 1565.7344 - val_loss: 1499.9264 - val_mean_absolute_error: 1499.9264\n",
      "\n",
      "Epoch 00182: val_loss did not improve from 1468.09692\n",
      "Epoch 183/200\n",
      "7074/7074 [==============================] - 14s 2ms/step - loss: 1542.1243 - mean_absolute_error: 1542.1243 - val_loss: 1482.4633 - val_mean_absolute_error: 1482.4633\n",
      "\n",
      "Epoch 00183: val_loss did not improve from 1468.09692\n",
      "Epoch 184/200\n",
      "7074/7074 [==============================] - 14s 2ms/step - loss: 1550.6573 - mean_absolute_error: 1550.6573 - val_loss: 1490.0396 - val_mean_absolute_error: 1490.0396\n",
      "\n",
      "Epoch 00184: val_loss did not improve from 1468.09692\n",
      "Epoch 185/200\n",
      "7074/7074 [==============================] - 13s 2ms/step - loss: 1516.5340 - mean_absolute_error: 1516.5340 - val_loss: 1476.2094 - val_mean_absolute_error: 1476.2094\n",
      "\n",
      "Epoch 00185: val_loss did not improve from 1468.09692\n",
      "Epoch 186/200\n",
      "7074/7074 [==============================] - 12s 2ms/step - loss: 1521.8757 - mean_absolute_error: 1521.8757 - val_loss: 1559.6592 - val_mean_absolute_error: 1559.6592\n",
      "\n",
      "Epoch 00186: val_loss did not improve from 1468.09692\n",
      "Epoch 187/200\n",
      "7074/7074 [==============================] - 12s 2ms/step - loss: 1564.9549 - mean_absolute_error: 1564.9549 - val_loss: 1526.6230 - val_mean_absolute_error: 1526.6230\n",
      "\n",
      "Epoch 00187: val_loss did not improve from 1468.09692\n",
      "Epoch 188/200\n",
      "7074/7074 [==============================] - 11s 2ms/step - loss: 1598.8402 - mean_absolute_error: 1598.8402 - val_loss: 1497.2667 - val_mean_absolute_error: 1497.2667\n",
      "\n",
      "Epoch 00188: val_loss did not improve from 1468.09692\n",
      "Epoch 189/200\n",
      "7074/7074 [==============================] - 12s 2ms/step - loss: 1544.6192 - mean_absolute_error: 1544.6192 - val_loss: 1509.2614 - val_mean_absolute_error: 1509.2614\n",
      "\n",
      "Epoch 00189: val_loss did not improve from 1468.09692\n",
      "Epoch 190/200\n",
      "7074/7074 [==============================] - 12s 2ms/step - loss: 1568.4209 - mean_absolute_error: 1568.4209 - val_loss: 1501.3672 - val_mean_absolute_error: 1501.3672\n",
      "\n",
      "Epoch 00190: val_loss did not improve from 1468.09692\n",
      "Epoch 191/200\n",
      "7074/7074 [==============================] - 12s 2ms/step - loss: 1548.4046 - mean_absolute_error: 1548.4046 - val_loss: 1511.4745 - val_mean_absolute_error: 1511.4745\n",
      "\n",
      "Epoch 00191: val_loss did not improve from 1468.09692\n",
      "Epoch 192/200\n",
      "7074/7074 [==============================] - 12s 2ms/step - loss: 1492.4968 - mean_absolute_error: 1492.4968 - val_loss: 1487.4170 - val_mean_absolute_error: 1487.4170\n",
      "\n",
      "Epoch 00192: val_loss did not improve from 1468.09692\n",
      "Epoch 193/200\n",
      "7074/7074 [==============================] - 13s 2ms/step - loss: 1518.0148 - mean_absolute_error: 1518.0148 - val_loss: 1614.1359 - val_mean_absolute_error: 1614.1359\n",
      "\n",
      "Epoch 00193: val_loss did not improve from 1468.09692\n",
      "Epoch 194/200\n",
      "7074/7074 [==============================] - 13s 2ms/step - loss: 1537.8463 - mean_absolute_error: 1537.8463 - val_loss: 1528.5946 - val_mean_absolute_error: 1528.5946\n",
      "\n",
      "Epoch 00194: val_loss did not improve from 1468.09692\n",
      "Epoch 195/200\n",
      "7074/7074 [==============================] - 14s 2ms/step - loss: 1519.8073 - mean_absolute_error: 1519.8073 - val_loss: 1534.4821 - val_mean_absolute_error: 1534.4821\n",
      "\n",
      "Epoch 00195: val_loss did not improve from 1468.09692\n",
      "Epoch 196/200\n",
      "7074/7074 [==============================] - 14s 2ms/step - loss: 1593.6238 - mean_absolute_error: 1593.6238 - val_loss: 1513.0459 - val_mean_absolute_error: 1513.0459\n",
      "\n",
      "Epoch 00196: val_loss did not improve from 1468.09692\n",
      "Epoch 197/200\n",
      "7074/7074 [==============================] - 13s 2ms/step - loss: 1520.0913 - mean_absolute_error: 1520.0913 - val_loss: 1493.4054 - val_mean_absolute_error: 1493.4054\n",
      "\n",
      "Epoch 00197: val_loss did not improve from 1468.09692\n",
      "Epoch 198/200\n",
      "7074/7074 [==============================] - 13s 2ms/step - loss: 1505.7351 - mean_absolute_error: 1505.7351 - val_loss: 1496.8890 - val_mean_absolute_error: 1496.8890\n",
      "\n",
      "Epoch 00198: val_loss did not improve from 1468.09692\n",
      "Epoch 199/200\n",
      "7074/7074 [==============================] - 13s 2ms/step - loss: 1540.1070 - mean_absolute_error: 1540.1070 - val_loss: 1509.9277 - val_mean_absolute_error: 1509.9277\n",
      "\n",
      "Epoch 00199: val_loss did not improve from 1468.09692\n",
      "Epoch 200/200\n",
      "7074/7074 [==============================] - 13s 2ms/step - loss: 1543.9072 - mean_absolute_error: 1543.9072 - val_loss: 1478.0057 - val_mean_absolute_error: 1478.0057\n",
      "\n",
      "Epoch 00200: val_loss did not improve from 1468.09692\n"
     ]
    },
    {
     "data": {
      "text/plain": [
       "<tensorflow.python.keras.callbacks.History at 0x2ae9de9df88>"
      ]
     },
     "execution_count": 16,
     "metadata": {},
     "output_type": "execute_result"
    }
   ],
   "source": [
    "NN_model.fit(X_train, y_train, epochs=200, batch_size=32, validation_split = 0.2, callbacks=callbacks_list)"
   ]
  },
  {
   "cell_type": "code",
   "execution_count": 18,
   "metadata": {},
   "outputs": [
    {
     "data": {
      "text/plain": [
       "0.8651875265647263"
      ]
     },
     "execution_count": 18,
     "metadata": {},
     "output_type": "execute_result"
    }
   ],
   "source": [
    "pred=NN_model.predict(X_test)\n",
    "r2_score(y_test,pred)"
   ]
  },
  {
   "cell_type": "markdown",
   "metadata": {},
   "source": [
    "## XGBoost"
   ]
  },
  {
   "cell_type": "code",
   "execution_count": 1,
   "metadata": {},
   "outputs": [],
   "source": [
    "from xgboost import XGBRegressor"
   ]
  },
  {
   "cell_type": "code",
   "execution_count": 14,
   "metadata": {
    "collapsed": true
   },
   "outputs": [
    {
     "data": {
      "text/plain": [
       "XGBRegressor(base_score=0.5, booster='gbtree', colsample_bylevel=1,\n",
       "             colsample_bynode=1, colsample_bytree=1, gamma=0, gpu_id=-1,\n",
       "             importance_type='gain', interaction_constraints='',\n",
       "             learning_rate=0.300000012, max_delta_step=0, max_depth=6,\n",
       "             min_child_weight=1, missing=nan, monotone_constraints='()',\n",
       "             n_estimators=100, n_jobs=8, num_parallel_tree=1, random_state=0,\n",
       "             reg_alpha=0, reg_lambda=1, scale_pos_weight=1, subsample=1,\n",
       "             tree_method='exact', validate_parameters=1, verbosity=None)"
      ]
     },
     "execution_count": 14,
     "metadata": {},
     "output_type": "execute_result"
    }
   ],
   "source": [
    "xgb_r=XGBRegressor()\n",
    "xgb_r.fit(X_train,y_train)"
   ]
  },
  {
   "cell_type": "code",
   "execution_count": 15,
   "metadata": {},
   "outputs": [
    {
     "data": {
      "text/plain": [
       "0.9087003694807888"
      ]
     },
     "execution_count": 15,
     "metadata": {},
     "output_type": "execute_result"
    }
   ],
   "source": [
    "pred=xgb_r.predict(X_test)\n",
    "r2_score(y_test,pred)"
   ]
  },
  {
   "cell_type": "code",
   "execution_count": 16,
   "metadata": {},
   "outputs": [
    {
     "data": {
      "text/plain": [
       "array([0.01647335, 0.        , 0.01867763, 0.00191453, 0.4885865 ,\n",
       "       0.01331878, 0.12579192, 0.00602738, 0.22899431, 0.02584375,\n",
       "       0.01846365, 0.02723453, 0.01121691, 0.00757969, 0.00987712,\n",
       "       0.        ], dtype=float32)"
      ]
     },
     "execution_count": 16,
     "metadata": {},
     "output_type": "execute_result"
    }
   ],
   "source": [
    "xgb_r.feature_importances_"
   ]
  },
  {
   "cell_type": "markdown",
   "metadata": {},
   "source": [
    "## Simple Averaging"
   ]
  },
  {
   "cell_type": "code",
   "execution_count": 17,
   "metadata": {},
   "outputs": [
    {
     "ename": "IndentationError",
     "evalue": "expected an indented block (<ipython-input-17-a871d7ec9123>, line 3)",
     "output_type": "error",
     "traceback": [
      "\u001b[1;36m  File \u001b[1;32m\"<ipython-input-17-a871d7ec9123>\"\u001b[1;36m, line \u001b[1;32m3\u001b[0m\n\u001b[1;33m    print(X_test)\u001b[0m\n\u001b[1;37m        ^\u001b[0m\n\u001b[1;31mIndentationError\u001b[0m\u001b[1;31m:\u001b[0m expected an indented block\n"
     ]
    }
   ],
   "source": [
    "def sim_avg(X_test):\n",
    "    pred[0]=X_test[0]\n",
    "    for i in range(1,len(X_test)):\n",
    "        pred[i]=sum(X_test[0:i])/i\n",
    "    print(X_test)\n",
    "    print(pred)\n",
    "    return pred"
   ]
  },
  {
   "cell_type": "code",
   "execution_count": null,
   "metadata": {},
   "outputs": [],
   "source": [
    "pred=sim_avg(X_test)\n",
    "r2_score(y_test,pred)"
   ]
  },
  {
   "cell_type": "code",
   "execution_count": null,
   "metadata": {},
   "outputs": [],
   "source": []
  },
  {
   "cell_type": "markdown",
   "metadata": {},
   "source": [
    "## Comparison using SJF"
   ]
  },
  {
   "cell_type": "code",
   "execution_count": null,
   "metadata": {},
   "outputs": [],
   "source": [
    "#Actual SJF output"
   ]
  },
  {
   "cell_type": "code",
   "execution_count": null,
   "metadata": {},
   "outputs": [],
   "source": [
    "#ML bt SJF"
   ]
  },
  {
   "cell_type": "code",
   "execution_count": null,
   "metadata": {},
   "outputs": [],
   "source": [
    "#Simple avg SJF"
   ]
  }
 ],
 "metadata": {
  "kernelspec": {
   "display_name": "Python 3",
   "language": "python",
   "name": "python3"
  },
  "language_info": {
   "codemirror_mode": {
    "name": "ipython",
    "version": 3
   },
   "file_extension": ".py",
   "mimetype": "text/x-python",
   "name": "python",
   "nbconvert_exporter": "python",
   "pygments_lexer": "ipython3",
   "version": "3.7.4"
  }
 },
 "nbformat": 4,
 "nbformat_minor": 5
}
