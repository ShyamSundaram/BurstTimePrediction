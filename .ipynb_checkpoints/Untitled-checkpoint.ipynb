{
 "cells": [
  {
   "cell_type": "markdown",
   "id": "native-martin",
   "metadata": {},
   "source": [
    "# Burst Time prediction"
   ]
  },
  {
   "cell_type": "code",
   "execution_count": 1,
   "id": "agreed-movie",
   "metadata": {},
   "outputs": [],
   "source": [
    "import pandas as pd\n",
    "import numpy as np\n",
    "import matplotlib.pyplot as plt\n",
    "import seaborn as sns\n",
    "#import missingno as ms\n",
    "\n",
    "from sklearn import preprocessing\n",
    "from sklearn.model_selection import train_test_split\n",
    "from sklearn.feature_selection import VarianceThreshold\n",
    "from sklearn.pipeline import Pipeline\n",
    "from sklearn.metrics import accuracy_score\n",
    "from sklearn.metrics import f1_score\n",
    "from sklearn.metrics import r2_score"
   ]
  },
  {
   "cell_type": "markdown",
   "id": "alien-wilson",
   "metadata": {},
   "source": [
    "## EDA"
   ]
  },
  {
   "cell_type": "code",
   "execution_count": 2,
   "id": "manual-mission",
   "metadata": {},
   "outputs": [],
   "source": [
    "data=pd.read_csv('processes_datasets.csv')"
   ]
  },
  {
   "cell_type": "code",
   "execution_count": 3,
   "id": "romantic-bahamas",
   "metadata": {},
   "outputs": [
    {
     "data": {
      "text/plain": [
       "(404176, 29)"
      ]
     },
     "execution_count": 3,
     "metadata": {},
     "output_type": "execute_result"
    }
   ],
   "source": [
    "data.shape"
   ]
  },
  {
   "cell_type": "code",
   "execution_count": 4,
   "id": "embedded-yemen",
   "metadata": {},
   "outputs": [
    {
     "name": "stdout",
     "output_type": "stream",
     "text": [
      "<class 'pandas.core.frame.DataFrame'>\n",
      "RangeIndex: 404176 entries, 0 to 404175\n",
      "Data columns (total 29 columns):\n",
      " #   Column              Non-Null Count   Dtype \n",
      "---  ------              --------------   ----- \n",
      " 0   JobID               404176 non-null  int64 \n",
      " 1   SubmitTime          404176 non-null  int64 \n",
      " 2   WaitTime            404176 non-null  int64 \n",
      " 3   RunTime             404176 non-null  int64 \n",
      " 4   NProcs              404176 non-null  int64 \n",
      " 5   AverageCPUTimeUsed  404176 non-null  int64 \n",
      " 6   Used Memory         404176 non-null  int64 \n",
      " 7   ReqNProcs           404176 non-null  int64 \n",
      " 8   ReqTime:            404176 non-null  int64 \n",
      " 9   ReqMemory           404176 non-null  int64 \n",
      " 10  Status              404176 non-null  int64 \n",
      " 11  UserID              404176 non-null  object\n",
      " 12  GroupID             404176 non-null  object\n",
      " 13  ExecutableID        404176 non-null  object\n",
      " 14  QueueID             404176 non-null  object\n",
      " 15  PartitionID         404176 non-null  int64 \n",
      " 16  OrigSiteID          404176 non-null  object\n",
      " 17  LastRunSiteID       404176 non-null  object\n",
      " 18  JobStructure        404176 non-null  int64 \n",
      " 19  JobStructureParams  404176 non-null  int64 \n",
      " 20  UsedNetwork         404176 non-null  int64 \n",
      " 21  UsedLocalDiskSpace  404176 non-null  int64 \n",
      " 22  UsedResources       404176 non-null  int64 \n",
      " 23  ReqPlatform         404176 non-null  int64 \n",
      " 24  ReqNetwork          404176 non-null  int64 \n",
      " 25  ReqLocalDiskSpace   404176 non-null  int64 \n",
      " 26  ReqResources        404176 non-null  int64 \n",
      " 27  VOID                404176 non-null  int64 \n",
      " 28  ProjectID           404176 non-null  int64 \n",
      "dtypes: int64(23), object(6)\n",
      "memory usage: 89.4+ MB\n"
     ]
    }
   ],
   "source": [
    "data.info()"
   ]
  },
  {
   "cell_type": "code",
   "execution_count": 5,
   "id": "hybrid-robertson",
   "metadata": {},
   "outputs": [
    {
     "name": "stdout",
     "output_type": "stream",
     "text": [
      "JobID   404176\n",
      "SubmitTime   326785\n",
      "WaitTime   53042\n",
      "RunTime    82498\n",
      "NProcs   2\n",
      "AverageCPUTimeUsed   74963\n",
      "Used Memory   88082\n",
      "ReqNProcs   1\n",
      "ReqTime:    32\n",
      "ReqMemory   8\n",
      "Status   3\n",
      "UserID   405\n",
      "GroupID   9\n",
      "ExecutableID   16\n",
      "QueueID   13\n",
      "PartitionID   2\n",
      "OrigSiteID   5\n",
      "LastRunSiteID   5\n",
      "JobStructure   1\n",
      "JobStructureParams   1\n",
      "UsedNetwork   1\n",
      "UsedLocalDiskSpace   1\n",
      "UsedResources   1\n",
      "ReqPlatform   1\n",
      "ReqNetwork   1\n",
      "ReqLocalDiskSpace   1\n",
      "ReqResources   1\n",
      "VOID   1\n",
      "ProjectID   1\n"
     ]
    }
   ],
   "source": [
    "for i in data.columns:\n",
    "    print(i,' ',data[i].unique().size)"
   ]
  },
  {
   "cell_type": "code",
   "execution_count": 5,
   "id": "afraid-green",
   "metadata": {},
   "outputs": [
    {
     "name": "stdout",
     "output_type": "stream",
     "text": [
      "JobID   404176\n",
      "SubmitTime   326785\n",
      "WaitTime   53042\n",
      "RunTime    82498\n",
      "NProcs   2\n",
      "AverageCPUTimeUsed   74963\n",
      "Used Memory   88082\n",
      "ReqTime:    32\n",
      "ReqMemory   8\n",
      "Status   3\n",
      "UserID   405\n",
      "GroupID   9\n",
      "ExecutableID   16\n",
      "QueueID   13\n",
      "PartitionID   2\n",
      "OrigSiteID   5\n",
      "LastRunSiteID   5\n"
     ]
    }
   ],
   "source": [
    "#data=data.drop(df.columns[[18::]],axis=1)\n",
    "data=data.drop(data.columns[[7,18,19,20,21,22,23,24,25,26,27,28]],axis=1)\n",
    "for i in data.columns:\n",
    "    print(i,' ',data[i].unique().size)"
   ]
  },
  {
   "cell_type": "code",
   "execution_count": 23,
   "id": "executive-organization",
   "metadata": {},
   "outputs": [
    {
     "data": {
      "text/plain": [
       "JobID                  int64\n",
       "SubmitTime             int64\n",
       "WaitTime               int64\n",
       "RunTime                int64\n",
       "NProcs                 int64\n",
       "AverageCPUTimeUsed     int64\n",
       "Used Memory            int64\n",
       "ReqTime:               int64\n",
       "ReqMemory              int64\n",
       "Status                 int64\n",
       "UserID                object\n",
       "GroupID               object\n",
       "ExecutableID          object\n",
       "QueueID               object\n",
       "PartitionID            int64\n",
       "OrigSiteID            object\n",
       "LastRunSiteID         object\n",
       "dtype: object"
      ]
     },
     "execution_count": 23,
     "metadata": {},
     "output_type": "execute_result"
    }
   ],
   "source": [
    "data.dtypes"
   ]
  },
  {
   "cell_type": "code",
   "execution_count": 34,
   "id": "suspended-spain",
   "metadata": {},
   "outputs": [],
   "source": [
    "df=data.select_dtypes(include='int64')"
   ]
  },
  {
   "cell_type": "code",
   "execution_count": 6,
   "id": "handed-ethiopia",
   "metadata": {},
   "outputs": [
    {
     "data": {
      "text/plain": [
       "<AxesSubplot:>"
      ]
     },
     "execution_count": 6,
     "metadata": {},
     "output_type": "execute_result"
    },
    {
     "data": {
      "image/png": "[encoded data removed]",
      "text/plain": [
       "<Figure size 1152x432 with 2 Axes>"
      ]
     },
     "metadata": {
      "needs_background": "light"
     },
     "output_type": "display_data"
    }
   ],
   "source": [
    "plt.figure(figsize=(16,6))\n",
    "sns.heatmap(df.corr(),annot=True)"
   ]
  },
  {
   "cell_type": "code",
   "execution_count": 6,
   "id": "raised-smell",
   "metadata": {},
   "outputs": [],
   "source": [
    "data['UserNO'] = data['UserID'].rank(method='dense', ascending=False).astype(int)\n",
    "data['GroupNO'] = data['GroupID'].rank(method='dense', ascending=False).astype(int)\n",
    "data['ExecutableNO'] = data['ExecutableID'].rank(method='dense', ascending=False).astype(int)\n",
    "data['QueueNO'] = data['QueueID'].rank(method='dense', ascending=False).astype(int)\n",
    "data['OrigSiteNO'] = data['OrigSiteID'].rank(method='dense', ascending=False).astype(int)\n",
    "data['LastRunSiteNO'] = data['LastRunSiteID'].rank(method='dense', ascending=False).astype(int)"
   ]
  },
  {
   "cell_type": "code",
   "execution_count": 26,
   "id": "private-eclipse",
   "metadata": {},
   "outputs": [
    {
     "data": {
      "text/plain": [
       "<AxesSubplot:>"
      ]
     },
     "execution_count": 26,
     "metadata": {},
     "output_type": "execute_result"
    },
    {
     "data": {
      "image/png": "[encoded data removed]",
      "text/plain": [
       "<Figure size 1152x432 with 2 Axes>"
      ]
     },
     "metadata": {
      "needs_background": "light"
     },
     "output_type": "display_data"
    }
   ],
   "source": [
    "df=data.select_dtypes(include=['int32','int64'])\n",
    "plt.figure(figsize=(16,6))\n",
    "sns.heatmap(df.corr(),annot=True)"
   ]
  },
  {
   "cell_type": "code",
   "execution_count": 7,
   "id": "level-monday",
   "metadata": {},
   "outputs": [
    {
     "data": {
      "text/plain": [
       "JobID                  int64\n",
       "SubmitTime             int64\n",
       "WaitTime               int64\n",
       "RunTime                int64\n",
       "NProcs                 int64\n",
       "AverageCPUTimeUsed     int64\n",
       "Used Memory            int64\n",
       "ReqTime:               int64\n",
       "ReqMemory              int64\n",
       "Status                 int64\n",
       "UserID                object\n",
       "GroupID               object\n",
       "ExecutableID          object\n",
       "QueueID               object\n",
       "PartitionID            int64\n",
       "OrigSiteID            object\n",
       "LastRunSiteID         object\n",
       "UserNO                 int32\n",
       "GroupNO                int32\n",
       "ExecutableNO           int32\n",
       "QueueNO                int32\n",
       "OrigSiteNO             int32\n",
       "LastRunSiteNO          int32\n",
       "dtype: object"
      ]
     },
     "execution_count": 7,
     "metadata": {},
     "output_type": "execute_result"
    }
   ],
   "source": [
    "data.dtypes"
   ]
  },
  {
   "cell_type": "code",
   "execution_count": 8,
   "id": "legitimate-stuart",
   "metadata": {},
   "outputs": [
    {
     "data": {
      "text/plain": [
       "JobID                 int64\n",
       "SubmitTime            int64\n",
       "WaitTime              int64\n",
       "RunTime               int64\n",
       "NProcs                int64\n",
       "AverageCPUTimeUsed    int64\n",
       "Used Memory           int64\n",
       "ReqTime:              int64\n",
       "ReqMemory             int64\n",
       "Status                int64\n",
       "PartitionID           int64\n",
       "UserNO                int32\n",
       "GroupNO               int32\n",
       "ExecutableNO          int32\n",
       "QueueNO               int32\n",
       "OrigSiteNO            int32\n",
       "LastRunSiteNO         int32\n",
       "dtype: object"
      ]
     },
     "execution_count": 8,
     "metadata": {},
     "output_type": "execute_result"
    }
   ],
   "source": [
    "data=data.drop(data.columns[[10,11,12,13,15,16]],axis=1)\n",
    "data.dtypes"
   ]
  },
  {
   "cell_type": "code",
   "execution_count": 9,
   "id": "extensive-export",
   "metadata": {},
   "outputs": [],
   "source": [
    "X=data.drop('RunTime ',axis=1)\n",
    "y=data['RunTime ']"
   ]
  },
  {
   "cell_type": "markdown",
   "id": "protecting-fleece",
   "metadata": {},
   "source": [
    "## Splitting"
   ]
  },
  {
   "cell_type": "code",
   "execution_count": 10,
   "id": "confused-corner",
   "metadata": {},
   "outputs": [],
   "source": [
    "min_max=preprocessing.MinMaxScaler()\n",
    "X_minmax=min_max.fit_transform(X)"
   ]
  },
  {
   "cell_type": "code",
   "execution_count": 11,
   "id": "welcome-ticket",
   "metadata": {},
   "outputs": [],
   "source": [
    "# col=X.columns\n",
    "\n",
    "# min_max_scaler = preprocessing.MinMaxScaler()\n",
    "# X[col]=min_max_scaler.fit_transform(X[col])\n",
    "# X_minmax = min_max_scaler.fit_transform(X)\n",
    "X_train,X_test,y_train,y_test=train_test_split(X_minmax,y,test_size=0.3,random_state=50)"
   ]
  },
  {
   "cell_type": "code",
   "execution_count": 17,
   "id": "multiple-caribbean",
   "metadata": {},
   "outputs": [],
   "source": [
    "# X_train=X_train[:10000]\n",
    "# y_train=y_train[:10000]\n",
    "# X_test=X_test[:100]\n",
    "# y_test=y_test[:100]"
   ]
  },
  {
   "cell_type": "markdown",
   "id": "through-lender",
   "metadata": {},
   "source": [
    "# Models"
   ]
  },
  {
   "cell_type": "markdown",
   "id": "motivated-today",
   "metadata": {},
   "source": [
    "## KNN"
   ]
  },
  {
   "cell_type": "code",
   "execution_count": 18,
   "id": "monetary-geology",
   "metadata": {},
   "outputs": [],
   "source": [
    "from sklearn.neighbors import KNeighborsClassifier\n",
    "from sklearn.preprocessing import StandardScaler\n",
    "\n",
    "knn=KNeighborsClassifier(n_neighbors=4)\n",
    "knn.fit(X_train,y_train)\n",
    "y_pred=knn.predict(X_test)"
   ]
  },
  {
   "cell_type": "code",
   "execution_count": 19,
   "id": "eleven-chess",
   "metadata": {},
   "outputs": [
    {
     "data": {
      "text/plain": [
       "0.8519992680118257"
      ]
     },
     "execution_count": 19,
     "metadata": {},
     "output_type": "execute_result"
    }
   ],
   "source": [
    "r2_score(y_pred,y_test)"
   ]
  },
  {
   "cell_type": "markdown",
   "id": "western-watch",
   "metadata": {},
   "source": [
    "## Polynomial Regression"
   ]
  },
  {
   "cell_type": "code",
   "execution_count": 18,
   "id": "absent-census",
   "metadata": {},
   "outputs": [],
   "source": [
    "from sklearn.preprocessing import PolynomialFeatures\n",
    "from sklearn.linear_model import LinearRegression"
   ]
  },
  {
   "cell_type": "code",
   "execution_count": 19,
   "id": "spectacular-overhead",
   "metadata": {},
   "outputs": [
    {
     "data": {
      "text/plain": [
       "LinearRegression()"
      ]
     },
     "execution_count": 19,
     "metadata": {},
     "output_type": "execute_result"
    }
   ],
   "source": [
    "poly=PolynomialFeatures(2)\n",
    "X_p=poly.fit_transform(X_train)\n",
    "poly.fit(X_p,y_train)\n",
    "lin=LinearRegression()\n",
    "lin.fit(X_p,y_train)"
   ]
  },
  {
   "cell_type": "code",
   "execution_count": 20,
   "id": "downtown-aging",
   "metadata": {},
   "outputs": [
    {
     "data": {
      "text/plain": [
       "0.7495221708525156"
      ]
     },
     "execution_count": 20,
     "metadata": {},
     "output_type": "execute_result"
    }
   ],
   "source": [
    "X_t=poly.fit_transform(X_test)\n",
    "pred=lin.predict(X_t)\n",
    "r2_score(pred,y_test)"
   ]
  },
  {
   "cell_type": "markdown",
   "id": "three-missouri",
   "metadata": {},
   "source": [
    "## Linear Regression"
   ]
  },
  {
   "cell_type": "code",
   "execution_count": 105,
   "id": "killing-chick",
   "metadata": {},
   "outputs": [],
   "source": [
    "from sklearn.linear_model import LinearRegression"
   ]
  },
  {
   "cell_type": "code",
   "execution_count": 106,
   "id": "potential-sellers",
   "metadata": {},
   "outputs": [
    {
     "data": {
      "text/plain": [
       "LinearRegression()"
      ]
     },
     "execution_count": 106,
     "metadata": {},
     "output_type": "execute_result"
    }
   ],
   "source": [
    "reg=LinearRegression()\n",
    "reg.fit(X_train,y_train)"
   ]
  },
  {
   "cell_type": "code",
   "execution_count": 107,
   "id": "intellectual-oakland",
   "metadata": {},
   "outputs": [
    {
     "data": {
      "text/plain": [
       "0.7452606986688267"
      ]
     },
     "execution_count": 107,
     "metadata": {},
     "output_type": "execute_result"
    }
   ],
   "source": [
    "pred=reg.predict(X_test)\n",
    "r2_score(y_test,pred)"
   ]
  },
  {
   "cell_type": "markdown",
   "id": "expanded-export",
   "metadata": {},
   "source": [
    "## Lasso Regression"
   ]
  },
  {
   "cell_type": "code",
   "execution_count": 108,
   "id": "hourly-quilt",
   "metadata": {},
   "outputs": [],
   "source": [
    "from sklearn.linear_model import Lasso"
   ]
  },
  {
   "cell_type": "code",
   "execution_count": 113,
   "id": "daily-relay",
   "metadata": {},
   "outputs": [
    {
     "data": {
      "text/plain": [
       "Lasso(alpha=0.01, tol=0.01)"
      ]
     },
     "execution_count": 113,
     "metadata": {},
     "output_type": "execute_result"
    }
   ],
   "source": [
    "lasso=Lasso(alpha=0.01,tol=0.01)\n",
    "lasso.fit(X_train,y_train)"
   ]
  },
  {
   "cell_type": "code",
   "execution_count": 114,
   "id": "legislative-aberdeen",
   "metadata": {},
   "outputs": [
    {
     "data": {
      "text/plain": [
       "0.7452609892608053"
      ]
     },
     "execution_count": 114,
     "metadata": {},
     "output_type": "execute_result"
    }
   ],
   "source": [
    "pred=lasso.predict(X_test)\n",
    "r2_score(y_test,pred)"
   ]
  },
  {
   "cell_type": "markdown",
   "id": "metallic-piece",
   "metadata": {},
   "source": [
    "## Ridge Regression"
   ]
  },
  {
   "cell_type": "code",
   "execution_count": 115,
   "id": "harmful-worcester",
   "metadata": {},
   "outputs": [],
   "source": [
    "from sklearn.linear_model import Ridge"
   ]
  },
  {
   "cell_type": "code",
   "execution_count": 116,
   "id": "asian-lightweight",
   "metadata": {},
   "outputs": [
    {
     "data": {
      "text/plain": [
       "Ridge(alpha=0.01)"
      ]
     },
     "execution_count": 116,
     "metadata": {},
     "output_type": "execute_result"
    }
   ],
   "source": [
    "ridge=Ridge(alpha=0.01)\n",
    "ridge.fit(X_train,y_train)"
   ]
  },
  {
   "cell_type": "code",
   "execution_count": 117,
   "id": "strategic-technical",
   "metadata": {},
   "outputs": [
    {
     "data": {
      "text/plain": [
       "0.7452608480032532"
      ]
     },
     "execution_count": 117,
     "metadata": {},
     "output_type": "execute_result"
    }
   ],
   "source": [
    "pred=ridge.predict(X_test)\n",
    "r2_score(y_test,pred)"
   ]
  },
  {
   "cell_type": "markdown",
   "id": "sapphire-evolution",
   "metadata": {},
   "source": [
    "## SVM"
   ]
  },
  {
   "cell_type": "code",
   "execution_count": 17,
   "id": "postal-monitoring",
   "metadata": {},
   "outputs": [],
   "source": [
    "from sklearn.svm import SVR"
   ]
  },
  {
   "cell_type": "code",
   "execution_count": 36,
   "id": "miniature-nothing",
   "metadata": {},
   "outputs": [
    {
     "data": {
      "text/plain": [
       "SVR()"
      ]
     },
     "execution_count": 36,
     "metadata": {},
     "output_type": "execute_result"
    }
   ],
   "source": [
    "Xtrain=X_train[:1000]\n",
    "ytrain=y_train[:1000]\n",
    "Xtest=X_test[:200]\n",
    "ytest=y_test[:200]\n",
    "svr=SVR(kernel='rbf')\n",
    "svr.fit(Xtrain,ytrain)"
   ]
  },
  {
   "cell_type": "code",
   "execution_count": 37,
   "id": "gentle-society",
   "metadata": {},
   "outputs": [
    {
     "data": {
      "text/plain": [
       "-0.3120445773107361"
      ]
     },
     "execution_count": 37,
     "metadata": {},
     "output_type": "execute_result"
    }
   ],
   "source": [
    "pred=svr.predict(Xtest)\n",
    "r2_score(ytest,pred)"
   ]
  },
  {
   "cell_type": "markdown",
   "id": "supposed-aquatic",
   "metadata": {},
   "source": [
    "## SVC"
   ]
  },
  {
   "cell_type": "code",
   "execution_count": 39,
   "id": "instrumental-ranch",
   "metadata": {},
   "outputs": [],
   "source": [
    "from sklearn.svm import SVC"
   ]
  },
  {
   "cell_type": "code",
   "execution_count": 23,
   "id": "spoken-population",
   "metadata": {},
   "outputs": [
    {
     "ename": "NameError",
     "evalue": "name 'SVC' is not defined",
     "output_type": "error",
     "traceback": [
      "\u001b[1;31m---------------------------------------------------------------------------\u001b[0m",
      "\u001b[1;31mNameError\u001b[0m                                 Traceback (most recent call last)",
      "\u001b[1;32m<ipython-input-23-714d3c36c9ea>\u001b[0m in \u001b[0;36m<module>\u001b[1;34m\u001b[0m\n\u001b[0;32m      3\u001b[0m \u001b[0mXtest\u001b[0m\u001b[1;33m=\u001b[0m\u001b[0mX_test\u001b[0m\u001b[1;33m[\u001b[0m\u001b[1;33m:\u001b[0m\u001b[1;36m200\u001b[0m\u001b[1;33m]\u001b[0m\u001b[1;33m\u001b[0m\u001b[1;33m\u001b[0m\u001b[0m\n\u001b[0;32m      4\u001b[0m \u001b[0mytest\u001b[0m\u001b[1;33m=\u001b[0m\u001b[0my_test\u001b[0m\u001b[1;33m[\u001b[0m\u001b[1;33m:\u001b[0m\u001b[1;36m200\u001b[0m\u001b[1;33m]\u001b[0m\u001b[1;33m\u001b[0m\u001b[1;33m\u001b[0m\u001b[0m\n\u001b[1;32m----> 5\u001b[1;33m \u001b[0msvc\u001b[0m\u001b[1;33m=\u001b[0m\u001b[0mSVC\u001b[0m\u001b[1;33m(\u001b[0m\u001b[0mkernel\u001b[0m\u001b[1;33m=\u001b[0m\u001b[1;34m'linear'\u001b[0m\u001b[1;33m)\u001b[0m\u001b[1;33m\u001b[0m\u001b[1;33m\u001b[0m\u001b[0m\n\u001b[0m\u001b[0;32m      6\u001b[0m classifier=SVC(C=10,cache_size=200,class_weight='balanced',decision_function_shape='ovr',degree=3,gamma='auto',kernel='rbf',\n\u001b[0;32m      7\u001b[0m                max_iter=-1,probability=False,random_state=None,shrinking=True,tol=0.001,verbose=False)\n",
      "\u001b[1;31mNameError\u001b[0m: name 'SVC' is not defined"
     ]
    }
   ],
   "source": [
    "Xtrain=X_train[:1000]\n",
    "ytrain=y_train[:1000]\n",
    "Xtest=X_test[:200]\n",
    "ytest=y_test[:200]\n",
    "svc=SVC(kernel='linear')\n",
    "classifier=SVC(C=10,cache_size=200,class_weight='balanced',decision_function_shape='ovr',degree=3,gamma='auto',kernel='rbf',\n",
    "               max_iter=-1,probability=False,random_state=None,shrinking=True,tol=0.001,verbose=False)\n",
    "classifier.fit(Xtrain,ytrain)"
   ]
  },
  {
   "cell_type": "code",
   "execution_count": 43,
   "id": "wicked-wagon",
   "metadata": {},
   "outputs": [
    {
     "data": {
      "text/plain": [
       "0.29902709290295715"
      ]
     },
     "execution_count": 43,
     "metadata": {},
     "output_type": "execute_result"
    }
   ],
   "source": [
    "pred=classifier.predict(Xtest)\n",
    "r2_score(ytest,pred)"
   ]
  },
  {
   "cell_type": "markdown",
   "id": "prostate-undergraduate",
   "metadata": {},
   "source": [
    "## MLP"
   ]
  },
  {
   "cell_type": "code",
   "execution_count": 21,
   "id": "stunning-verse",
   "metadata": {},
   "outputs": [],
   "source": [
    "from sklearn.neural_network import MLPRegressor"
   ]
  },
  {
   "cell_type": "code",
   "execution_count": 24,
   "id": "experimental-encoding",
   "metadata": {},
   "outputs": [
    {
     "name": "stderr",
     "output_type": "stream",
     "text": [
      "c:\\python\\lib\\site-packages\\sklearn\\neural_network\\_multilayer_perceptron.py:617: ConvergenceWarning: Stochastic Optimizer: Maximum iterations (1000) reached and the optimization hasn't converged yet.\n",
      "  % self.max_iter, ConvergenceWarning)\n"
     ]
    },
    {
     "data": {
      "text/plain": [
       "MLPRegressor(hidden_layer_sizes=(64, 64, 64), max_iter=1000, random_state=1)"
      ]
     },
     "execution_count": 24,
     "metadata": {},
     "output_type": "execute_result"
    }
   ],
   "source": [
    "mlp=MLPRegressor(hidden_layer_sizes=(64,64,64),activation=\"relu\",random_state=1,max_iter=1000)\n",
    "Xtrain=X_train[:1000]\n",
    "ytrain=y_train[:1000]\n",
    "Xtest=X_test[:200]\n",
    "ytest=y_test[:200]\n",
    "mlp.fit(Xtrain,ytrain)"
   ]
  },
  {
   "cell_type": "code",
   "execution_count": 25,
   "id": "electronic-million",
   "metadata": {},
   "outputs": [
    {
     "data": {
      "text/plain": [
       "0.7200983397955842"
      ]
     },
     "execution_count": 25,
     "metadata": {},
     "output_type": "execute_result"
    }
   ],
   "source": [
    "pred=mlp.predict(Xtest)\n",
    "r2_score(ytest,pred)"
   ]
  },
  {
   "cell_type": "markdown",
   "id": "animal-agriculture",
   "metadata": {},
   "source": [
    "# NN"
   ]
  },
  {
   "cell_type": "code",
   "execution_count": 12,
   "id": "controversial-messenger",
   "metadata": {},
   "outputs": [],
   "source": [
    "from keras.callbacks import ModelCheckpoint\n",
    "from keras.models import Sequential\n",
    "from keras.layers import Dense, Activation, Flatten"
   ]
  },
  {
   "cell_type": "code",
   "execution_count": 13,
   "id": "damaged-galaxy",
   "metadata": {
    "scrolled": true
   },
   "outputs": [
    {
     "name": "stdout",
     "output_type": "stream",
     "text": [
      "Model: \"sequential\"\n",
      "_________________________________________________________________\n",
      "Layer (type)                 Output Shape              Param #   \n",
      "=================================================================\n",
      "dense (Dense)                (None, 128)               2176      \n",
      "_________________________________________________________________\n",
      "dense_1 (Dense)              (None, 256)               33024     \n",
      "_________________________________________________________________\n",
      "dense_2 (Dense)              (None, 256)               65792     \n",
      "_________________________________________________________________\n",
      "dense_3 (Dense)              (None, 256)               65792     \n",
      "_________________________________________________________________\n",
      "dense_4 (Dense)              (None, 1)                 257       \n",
      "=================================================================\n",
      "Total params: 167,041\n",
      "Trainable params: 167,041\n",
      "Non-trainable params: 0\n",
      "_________________________________________________________________\n"
     ]
    }
   ],
   "source": [
    "NN_model = Sequential()\n",
    "\n",
    "# The Input Layer :\n",
    "NN_model.add(Dense(128, kernel_initializer='normal',input_dim = X_train.shape[1], activation='relu'))\n",
    "\n",
    "# The Hidden Layers :\n",
    "NN_model.add(Dense(256, kernel_initializer='normal',activation='relu'))\n",
    "NN_model.add(Dense(256, kernel_initializer='normal',activation='relu'))\n",
    "NN_model.add(Dense(256, kernel_initializer='normal',activation='relu'))\n",
    "\n",
    "# The Output Layer :\n",
    "NN_model.add(Dense(1, kernel_initializer='normal',activation='linear'))\n",
    "\n",
    "# Compile the network :\n",
    "NN_model.compile(loss='mean_absolute_error', optimizer='adam', metrics=['mean_absolute_error'])\n",
    "NN_model.summary()"
   ]
  },
  {
   "cell_type": "code",
   "execution_count": null,
   "id": "narrative-federation",
   "metadata": {},
   "outputs": [],
   "source": [
    "checkpoint_name = 'Weights-{epoch:03d}--{val_loss:.5f}.hdf5' \n",
    "checkpoint = ModelCheckpoint(checkpoint_name, monitor='val_loss', verbose = 1, save_best_only = True, mode ='auto')\n",
    "callbacks_list = [checkpoint]"
   ]
  },
  {
   "cell_type": "code",
   "execution_count": 16,
   "id": "fresh-queensland",
   "metadata": {},
   "outputs": [
    {
     "name": "stdout",
     "output_type": "stream",
     "text": [
      "Epoch 1/200\n",
      "7074/7074 [==============================] - 14s 2ms/step - loss: 5566.7458 - mean_absolute_error: 5566.7458 - val_loss: 2759.8218 - val_mean_absolute_error: 2759.8218\n",
      "\n",
      "Epoch 00001: val_loss improved from inf to 2759.82178, saving model to Weights-001--2759.82178.hdf5\n",
      "Epoch 2/200\n",
      "7074/7074 [==============================] - 13s 2ms/step - loss: 2715.2266 - mean_absolute_error: 2715.2266 - val_loss: 2583.1914 - val_mean_absolute_error: 2583.1914\n",
      "\n",
      "Epoch 00002: val_loss improved from 2759.82178 to 2583.19141, saving model to Weights-002--2583.19141.hdf5\n",
      "Epoch 3/200\n",
      "7074/7074 [==============================] - 13s 2ms/step - loss: 2714.9072 - mean_absolute_error: 2714.9072 - val_loss: 2790.6602 - val_mean_absolute_error: 2790.6602\n",
      "\n",
      "Epoch 00003: val_loss did not improve from 2583.19141\n",
      "Epoch 4/200\n",
      "7074/7074 [==============================] - 24s 3ms/step - loss: 2637.8326 - mean_absolute_error: 2637.8326 - val_loss: 2821.5835 - val_mean_absolute_error: 2821.5835\n",
      "\n",
      "Epoch 00004: val_loss did not improve from 2583.19141\n",
      "Epoch 5/200\n",
      "7074/7074 [==============================] - 22s 3ms/step - loss: 2627.1829 - mean_absolute_error: 2627.1829 - val_loss: 2534.8826 - val_mean_absolute_error: 2534.8826\n",
      "\n",
      "Epoch 00005: val_loss improved from 2583.19141 to 2534.88257, saving model to Weights-005--2534.88257.hdf5\n",
      "Epoch 6/200\n",
      "7074/7074 [==============================] - 20s 3ms/step - loss: 2703.5727 - mean_absolute_error: 2703.5727 - val_loss: 2533.1094 - val_mean_absolute_error: 2533.1094\n",
      "\n",
      "Epoch 00006: val_loss improved from 2534.88257 to 2533.10938, saving model to Weights-006--2533.10938.hdf5\n",
      "Epoch 7/200\n",
      "7074/7074 [==============================] - 14s 2ms/step - loss: 2566.0591 - mean_absolute_error: 2566.0591 - val_loss: 2509.2971 - val_mean_absolute_error: 2509.2971\n",
      "\n",
      "Epoch 00007: val_loss improved from 2533.10938 to 2509.29712, saving model to Weights-007--2509.29712.hdf5\n",
      "Epoch 8/200\n",
      "7074/7074 [==============================] - 14s 2ms/step - loss: 2624.3454 - mean_absolute_error: 2624.3454 - val_loss: 2679.1523 - val_mean_absolute_error: 2679.1523\n",
      "\n",
      "Epoch 00008: val_loss did not improve from 2509.29712\n",
      "Epoch 9/200\n",
      "7074/7074 [==============================] - 16s 2ms/step - loss: 2632.1892 - mean_absolute_error: 2632.1892 - val_loss: 2461.5220 - val_mean_absolute_error: 2461.5220\n",
      "\n",
      "Epoch 00009: val_loss improved from 2509.29712 to 2461.52197, saving model to Weights-009--2461.52197.hdf5\n",
      "Epoch 10/200\n",
      "7074/7074 [==============================] - 15s 2ms/step - loss: 2623.5567 - mean_absolute_error: 2623.5567 - val_loss: 2462.9150 - val_mean_absolute_error: 2462.9150\n",
      "\n",
      "Epoch 00010: val_loss did not improve from 2461.52197\n",
      "Epoch 11/200\n",
      "7074/7074 [==============================] - 13s 2ms/step - loss: 2591.7795 - mean_absolute_error: 2591.7795 - val_loss: 2651.1416 - val_mean_absolute_error: 2651.1416\n",
      "\n",
      "Epoch 00011: val_loss did not improve from 2461.52197\n",
      "Epoch 12/200\n",
      "7074/7074 [==============================] - 15s 2ms/step - loss: 2645.6983 - mean_absolute_error: 2645.6983 - val_loss: 2444.8833 - val_mean_absolute_error: 2444.8833\n",
      "\n",
      "Epoch 00012: val_loss improved from 2461.52197 to 2444.88330, saving model to Weights-012--2444.88330.hdf5\n",
      "Epoch 13/200\n",
      "7074/7074 [==============================] - 14s 2ms/step - loss: 2540.5083 - mean_absolute_error: 2540.5083 - val_loss: 2525.7349 - val_mean_absolute_error: 2525.7349\n",
      "\n",
      "Epoch 00013: val_loss did not improve from 2444.88330\n",
      "Epoch 14/200\n",
      "7074/7074 [==============================] - 16s 2ms/step - loss: 2585.0613 - mean_absolute_error: 2585.0613 - val_loss: 2538.1365 - val_mean_absolute_error: 2538.1365\n",
      "\n",
      "Epoch 00014: val_loss did not improve from 2444.88330\n",
      "Epoch 15/200\n",
      "7074/7074 [==============================] - 15s 2ms/step - loss: 2580.2108 - mean_absolute_error: 2580.2108 - val_loss: 2444.7246 - val_mean_absolute_error: 2444.7246\n",
      "\n",
      "Epoch 00015: val_loss improved from 2444.88330 to 2444.72461, saving model to Weights-015--2444.72461.hdf5\n",
      "Epoch 16/200\n",
      "7074/7074 [==============================] - 16s 2ms/step - loss: 2575.0816 - mean_absolute_error: 2575.0816 - val_loss: 2479.2153 - val_mean_absolute_error: 2479.2153\n",
      "\n",
      "Epoch 00016: val_loss did not improve from 2444.72461\n",
      "Epoch 17/200\n",
      "7074/7074 [==============================] - 16s 2ms/step - loss: 2531.8804 - mean_absolute_error: 2531.8804 - val_loss: 2498.0615 - val_mean_absolute_error: 2498.0615\n",
      "\n",
      "Epoch 00017: val_loss did not improve from 2444.72461\n",
      "Epoch 18/200\n",
      "7074/7074 [==============================] - 15s 2ms/step - loss: 2513.1853 - mean_absolute_error: 2513.1853 - val_loss: 2475.7935 - val_mean_absolute_error: 2475.7935\n",
      "\n",
      "Epoch 00018: val_loss did not improve from 2444.72461\n",
      "Epoch 19/200\n",
      "7074/7074 [==============================] - 15s 2ms/step - loss: 2484.1746 - mean_absolute_error: 2484.1746 - val_loss: 2339.9905 - val_mean_absolute_error: 2339.9905\n",
      "\n",
      "Epoch 00019: val_loss improved from 2444.72461 to 2339.99048, saving model to Weights-019--2339.99048.hdf5\n",
      "Epoch 20/200\n",
      "7074/7074 [==============================] - 15s 2ms/step - loss: 2430.1824 - mean_absolute_error: 2430.1824 - val_loss: 2271.4604 - val_mean_absolute_error: 2271.4604\n",
      "\n",
      "Epoch 00020: val_loss improved from 2339.99048 to 2271.46045, saving model to Weights-020--2271.46045.hdf5\n",
      "Epoch 21/200\n",
      "7074/7074 [==============================] - 15s 2ms/step - loss: 2121.2711 - mean_absolute_error: 2121.2711 - val_loss: 1954.3029 - val_mean_absolute_error: 1954.3029\n",
      "\n",
      "Epoch 00021: val_loss improved from 2271.46045 to 1954.30286, saving model to Weights-021--1954.30286.hdf5\n",
      "Epoch 22/200\n",
      "7074/7074 [==============================] - 15s 2ms/step - loss: 1953.3720 - mean_absolute_error: 1953.3720 - val_loss: 1880.3232 - val_mean_absolute_error: 1880.3232\n",
      "\n",
      "Epoch 00022: val_loss improved from 1954.30286 to 1880.32324, saving model to Weights-022--1880.32324.hdf5\n",
      "Epoch 23/200\n",
      "7074/7074 [==============================] - 16s 2ms/step - loss: 1975.2992 - mean_absolute_error: 1975.2992 - val_loss: 1970.4552 - val_mean_absolute_error: 1970.4552\n",
      "\n",
      "Epoch 00023: val_loss did not improve from 1880.32324\n",
      "Epoch 24/200\n",
      "7074/7074 [==============================] - 13s 2ms/step - loss: 1980.6765 - mean_absolute_error: 1980.6765 - val_loss: 2237.0554 - val_mean_absolute_error: 2237.0554\n",
      "\n",
      "Epoch 00024: val_loss did not improve from 1880.32324\n",
      "Epoch 25/200\n",
      "7074/7074 [==============================] - 12s 2ms/step - loss: 1985.9315 - mean_absolute_error: 1985.9315 - val_loss: 1968.4539 - val_mean_absolute_error: 1968.4539\n",
      "\n",
      "Epoch 00025: val_loss did not improve from 1880.32324\n",
      "Epoch 26/200\n",
      "7074/7074 [==============================] - 12s 2ms/step - loss: 1927.2161 - mean_absolute_error: 1927.2161 - val_loss: 1818.9817 - val_mean_absolute_error: 1818.9817\n",
      "\n",
      "Epoch 00026: val_loss improved from 1880.32324 to 1818.98169, saving model to Weights-026--1818.98169.hdf5\n",
      "Epoch 27/200\n",
      "7074/7074 [==============================] - 13s 2ms/step - loss: 1928.9358 - mean_absolute_error: 1928.9358 - val_loss: 2025.6183 - val_mean_absolute_error: 2025.6183\n",
      "\n",
      "Epoch 00027: val_loss did not improve from 1818.98169\n",
      "Epoch 28/200\n",
      "7074/7074 [==============================] - 15s 2ms/step - loss: 1958.4299 - mean_absolute_error: 1958.4299 - val_loss: 1832.0225 - val_mean_absolute_error: 1832.0225\n",
      "\n",
      "Epoch 00028: val_loss did not improve from 1818.98169\n",
      "Epoch 29/200\n",
      "7074/7074 [==============================] - 26s 4ms/step - loss: 1901.8414 - mean_absolute_error: 1901.8414 - val_loss: 1854.4323 - val_mean_absolute_error: 1854.4323\n",
      "\n",
      "Epoch 00029: val_loss did not improve from 1818.98169\n",
      "Epoch 30/200\n",
      "7074/7074 [==============================] - 17s 2ms/step - loss: 1874.8342 - mean_absolute_error: 1874.8342 - val_loss: 1790.8058 - val_mean_absolute_error: 1790.8058\n",
      "\n",
      "Epoch 00030: val_loss improved from 1818.98169 to 1790.80579, saving model to Weights-030--1790.80579.hdf5\n",
      "Epoch 31/200\n",
      "7074/7074 [==============================] - 14s 2ms/step - loss: 1889.2443 - mean_absolute_error: 1889.2443 - val_loss: 1747.1343 - val_mean_absolute_error: 1747.1343\n",
      "\n",
      "Epoch 00031: val_loss improved from 1790.80579 to 1747.13428, saving model to Weights-031--1747.13428.hdf5\n",
      "Epoch 32/200\n",
      "7074/7074 [==============================] - 13s 2ms/step - loss: 1960.3938 - mean_absolute_error: 1960.3938 - val_loss: 1802.2341 - val_mean_absolute_error: 1802.2341\n",
      "\n",
      "Epoch 00032: val_loss did not improve from 1747.13428\n",
      "Epoch 33/200\n",
      "7074/7074 [==============================] - 14s 2ms/step - loss: 1896.9265 - mean_absolute_error: 1896.9265 - val_loss: 2048.0425 - val_mean_absolute_error: 2048.0425\n",
      "\n",
      "Epoch 00033: val_loss did not improve from 1747.13428\n",
      "Epoch 34/200\n",
      "7074/7074 [==============================] - 14s 2ms/step - loss: 1913.7784 - mean_absolute_error: 1913.7784 - val_loss: 1900.6346 - val_mean_absolute_error: 1900.6346\n",
      "\n",
      "Epoch 00034: val_loss did not improve from 1747.13428\n",
      "Epoch 35/200\n",
      "7074/7074 [==============================] - 14s 2ms/step - loss: 1886.7253 - mean_absolute_error: 1886.7253 - val_loss: 1825.2909 - val_mean_absolute_error: 1825.2909\n",
      "\n",
      "Epoch 00035: val_loss did not improve from 1747.13428\n",
      "Epoch 36/200\n",
      "7074/7074 [==============================] - 15s 2ms/step - loss: 1856.8184 - mean_absolute_error: 1856.8184 - val_loss: 1833.5543 - val_mean_absolute_error: 1833.5543\n",
      "\n",
      "Epoch 00036: val_loss did not improve from 1747.13428\n",
      "Epoch 37/200\n",
      "7074/7074 [==============================] - 15s 2ms/step - loss: 1895.1369 - mean_absolute_error: 1895.1369 - val_loss: 1717.0730 - val_mean_absolute_error: 1717.0730\n",
      "\n",
      "Epoch 00037: val_loss improved from 1747.13428 to 1717.07300, saving model to Weights-037--1717.07300.hdf5\n",
      "Epoch 38/200\n",
      "7074/7074 [==============================] - 15s 2ms/step - loss: 1942.7580 - mean_absolute_error: 1942.7580 - val_loss: 1763.8291 - val_mean_absolute_error: 1763.8291\n",
      "\n",
      "Epoch 00038: val_loss did not improve from 1717.07300\n",
      "Epoch 39/200\n",
      "7074/7074 [==============================] - 15s 2ms/step - loss: 1879.8831 - mean_absolute_error: 1879.8831 - val_loss: 2096.7429 - val_mean_absolute_error: 2096.7429\n",
      "\n",
      "Epoch 00039: val_loss did not improve from 1717.07300\n",
      "Epoch 40/200\n",
      "7074/7074 [==============================] - 16s 2ms/step - loss: 1859.9816 - mean_absolute_error: 1859.9816 - val_loss: 1762.8188 - val_mean_absolute_error: 1762.8188\n",
      "\n",
      "Epoch 00040: val_loss did not improve from 1717.07300\n",
      "Epoch 41/200\n",
      "7074/7074 [==============================] - 15s 2ms/step - loss: 1850.0412 - mean_absolute_error: 1850.0412 - val_loss: 1973.8472 - val_mean_absolute_error: 1973.8472\n",
      "\n",
      "Epoch 00041: val_loss did not improve from 1717.07300\n",
      "Epoch 42/200\n",
      "7074/7074 [==============================] - 14s 2ms/step - loss: 1852.2960 - mean_absolute_error: 1852.2960 - val_loss: 1827.9602 - val_mean_absolute_error: 1827.9602\n",
      "\n",
      "Epoch 00042: val_loss did not improve from 1717.07300\n",
      "Epoch 43/200\n",
      "7074/7074 [==============================] - 15s 2ms/step - loss: 1818.4847 - mean_absolute_error: 1818.4847 - val_loss: 1843.0281 - val_mean_absolute_error: 1843.0281\n",
      "\n",
      "Epoch 00043: val_loss did not improve from 1717.07300\n",
      "Epoch 44/200\n",
      "7074/7074 [==============================] - 14s 2ms/step - loss: 1797.4785 - mean_absolute_error: 1797.4785 - val_loss: 1854.0803 - val_mean_absolute_error: 1854.0803\n",
      "\n",
      "Epoch 00044: val_loss did not improve from 1717.07300\n",
      "Epoch 45/200\n",
      "7074/7074 [==============================] - 13s 2ms/step - loss: 1837.4421 - mean_absolute_error: 1837.4421 - val_loss: 1909.2810 - val_mean_absolute_error: 1909.2810\n",
      "\n",
      "Epoch 00045: val_loss did not improve from 1717.07300\n",
      "Epoch 46/200\n",
      "7074/7074 [==============================] - 14s 2ms/step - loss: 1808.0764 - mean_absolute_error: 1808.0764 - val_loss: 1795.6144 - val_mean_absolute_error: 1795.6144\n",
      "\n",
      "Epoch 00046: val_loss did not improve from 1717.07300\n",
      "Epoch 47/200\n",
      "7074/7074 [==============================] - 14s 2ms/step - loss: 1822.6080 - mean_absolute_error: 1822.6080 - val_loss: 1739.1870 - val_mean_absolute_error: 1739.1870\n",
      "\n",
      "Epoch 00047: val_loss did not improve from 1717.07300\n",
      "Epoch 48/200\n",
      "7074/7074 [==============================] - 19s 3ms/step - loss: 1804.6086 - mean_absolute_error: 1804.6086 - val_loss: 1900.6768 - val_mean_absolute_error: 1900.6768\n",
      "\n",
      "Epoch 00048: val_loss did not improve from 1717.07300\n",
      "Epoch 49/200\n",
      "7074/7074 [==============================] - 13s 2ms/step - loss: 1835.4057 - mean_absolute_error: 1835.4057 - val_loss: 1746.6250 - val_mean_absolute_error: 1746.6250\n",
      "\n",
      "Epoch 00049: val_loss did not improve from 1717.07300\n",
      "Epoch 50/200\n",
      "7074/7074 [==============================] - 14s 2ms/step - loss: 1875.7254 - mean_absolute_error: 1875.7254 - val_loss: 1670.1418 - val_mean_absolute_error: 1670.1418\n",
      "\n",
      "Epoch 00050: val_loss improved from 1717.07300 to 1670.14185, saving model to Weights-050--1670.14185.hdf5\n",
      "Epoch 51/200\n",
      "7074/7074 [==============================] - 13s 2ms/step - loss: 1861.4927 - mean_absolute_error: 1861.4927 - val_loss: 1804.1143 - val_mean_absolute_error: 1804.1143\n",
      "\n",
      "Epoch 00051: val_loss did not improve from 1670.14185\n",
      "Epoch 52/200\n",
      "7074/7074 [==============================] - 20s 3ms/step - loss: 1860.2427 - mean_absolute_error: 1860.2427 - val_loss: 1690.8013 - val_mean_absolute_error: 1690.8013\n",
      "\n",
      "Epoch 00052: val_loss did not improve from 1670.14185\n",
      "Epoch 53/200\n",
      "7074/7074 [==============================] - 21s 3ms/step - loss: 1781.8751 - mean_absolute_error: 1781.8751 - val_loss: 1697.8730 - val_mean_absolute_error: 1697.8730\n",
      "\n",
      "Epoch 00053: val_loss did not improve from 1670.14185\n",
      "Epoch 54/200\n",
      "7074/7074 [==============================] - 15s 2ms/step - loss: 1818.5456 - mean_absolute_error: 1818.5456 - val_loss: 1786.0742 - val_mean_absolute_error: 1786.0742\n",
      "\n",
      "Epoch 00054: val_loss did not improve from 1670.14185\n",
      "Epoch 55/200\n",
      "7074/7074 [==============================] - 15s 2ms/step - loss: 1808.7173 - mean_absolute_error: 1808.7173 - val_loss: 1786.3098 - val_mean_absolute_error: 1786.3098\n",
      "\n",
      "Epoch 00055: val_loss did not improve from 1670.14185\n",
      "Epoch 56/200\n",
      "7074/7074 [==============================] - 17s 2ms/step - loss: 1812.8962 - mean_absolute_error: 1812.8962 - val_loss: 1678.2529 - val_mean_absolute_error: 1678.2529\n",
      "\n",
      "Epoch 00056: val_loss did not improve from 1670.14185\n",
      "Epoch 57/200\n",
      "7074/7074 [==============================] - 14s 2ms/step - loss: 1824.4641 - mean_absolute_error: 1824.4641 - val_loss: 1714.0986 - val_mean_absolute_error: 1714.0986\n",
      "\n",
      "Epoch 00057: val_loss did not improve from 1670.14185\n",
      "Epoch 58/200\n",
      "7074/7074 [==============================] - 15s 2ms/step - loss: 1845.6114 - mean_absolute_error: 1845.6114 - val_loss: 1686.0260 - val_mean_absolute_error: 1686.0260\n",
      "\n",
      "Epoch 00058: val_loss did not improve from 1670.14185\n",
      "Epoch 59/200\n",
      "7074/7074 [==============================] - 14s 2ms/step - loss: 1825.3642 - mean_absolute_error: 1825.3642 - val_loss: 1782.6113 - val_mean_absolute_error: 1782.6113\n",
      "\n",
      "Epoch 00059: val_loss did not improve from 1670.14185\n",
      "Epoch 60/200\n",
      "7074/7074 [==============================] - 17s 2ms/step - loss: 1877.6510 - mean_absolute_error: 1877.6510 - val_loss: 1688.8700 - val_mean_absolute_error: 1688.8700\n",
      "\n",
      "Epoch 00060: val_loss did not improve from 1670.14185\n",
      "Epoch 61/200\n",
      "7074/7074 [==============================] - 16s 2ms/step - loss: 1792.7231 - mean_absolute_error: 1792.7231 - val_loss: 1698.1099 - val_mean_absolute_error: 1698.1099\n",
      "\n",
      "Epoch 00061: val_loss did not improve from 1670.14185\n",
      "Epoch 62/200\n",
      "7074/7074 [==============================] - 15s 2ms/step - loss: 1775.0131 - mean_absolute_error: 1775.0131 - val_loss: 1756.1141 - val_mean_absolute_error: 1756.1141\n",
      "\n",
      "Epoch 00062: val_loss did not improve from 1670.14185\n",
      "Epoch 63/200\n",
      "7074/7074 [==============================] - 16s 2ms/step - loss: 1788.5133 - mean_absolute_error: 1788.5133 - val_loss: 1677.9956 - val_mean_absolute_error: 1677.9956\n",
      "\n",
      "Epoch 00063: val_loss did not improve from 1670.14185\n",
      "Epoch 64/200\n",
      "7074/7074 [==============================] - 15s 2ms/step - loss: 1830.8887 - mean_absolute_error: 1830.8887 - val_loss: 1803.9584 - val_mean_absolute_error: 1803.9584\n",
      "\n",
      "Epoch 00064: val_loss did not improve from 1670.14185\n",
      "Epoch 65/200\n",
      "7074/7074 [==============================] - 15s 2ms/step - loss: 1808.8915 - mean_absolute_error: 1808.8915 - val_loss: 1761.2947 - val_mean_absolute_error: 1761.2947\n",
      "\n",
      "Epoch 00065: val_loss did not improve from 1670.14185\n",
      "Epoch 66/200\n"
     ]
    },
    {
     "name": "stdout",
     "output_type": "stream",
     "text": [
      "7074/7074 [==============================] - 15s 2ms/step - loss: 1778.6366 - mean_absolute_error: 1778.6366 - val_loss: 1689.7517 - val_mean_absolute_error: 1689.7517\n",
      "\n",
      "Epoch 00066: val_loss did not improve from 1670.14185\n",
      "Epoch 67/200\n",
      "7074/7074 [==============================] - 16s 2ms/step - loss: 1745.1277 - mean_absolute_error: 1745.1277 - val_loss: 1641.2203 - val_mean_absolute_error: 1641.2203\n",
      "\n",
      "Epoch 00067: val_loss improved from 1670.14185 to 1641.22034, saving model to Weights-067--1641.22034.hdf5\n",
      "Epoch 68/200\n",
      "7074/7074 [==============================] - 14s 2ms/step - loss: 1741.2784 - mean_absolute_error: 1741.2784 - val_loss: 1659.5328 - val_mean_absolute_error: 1659.5328\n",
      "\n",
      "Epoch 00068: val_loss did not improve from 1641.22034\n",
      "Epoch 69/200\n",
      "7074/7074 [==============================] - 13s 2ms/step - loss: 1754.2881 - mean_absolute_error: 1754.2881 - val_loss: 1619.6224 - val_mean_absolute_error: 1619.6224\n",
      "\n",
      "Epoch 00069: val_loss improved from 1641.22034 to 1619.62244, saving model to Weights-069--1619.62244.hdf5\n",
      "Epoch 70/200\n",
      "7074/7074 [==============================] - 13s 2ms/step - loss: 1762.2261 - mean_absolute_error: 1762.2261 - val_loss: 1671.9519 - val_mean_absolute_error: 1671.9519\n",
      "\n",
      "Epoch 00070: val_loss did not improve from 1619.62244\n",
      "Epoch 71/200\n",
      "7074/7074 [==============================] - 13s 2ms/step - loss: 1746.0005 - mean_absolute_error: 1746.0005 - val_loss: 1705.5791 - val_mean_absolute_error: 1705.5791\n",
      "\n",
      "Epoch 00071: val_loss did not improve from 1619.62244\n",
      "Epoch 72/200\n",
      "7074/7074 [==============================] - 13s 2ms/step - loss: 1727.8818 - mean_absolute_error: 1727.8818 - val_loss: 1681.9589 - val_mean_absolute_error: 1681.9589\n",
      "\n",
      "Epoch 00072: val_loss did not improve from 1619.62244\n",
      "Epoch 73/200\n",
      "7074/7074 [==============================] - 13s 2ms/step - loss: 1736.5881 - mean_absolute_error: 1736.5881 - val_loss: 1640.2056 - val_mean_absolute_error: 1640.2056\n",
      "\n",
      "Epoch 00073: val_loss did not improve from 1619.62244\n",
      "Epoch 74/200\n",
      "7074/7074 [==============================] - 13s 2ms/step - loss: 1769.0549 - mean_absolute_error: 1769.0549 - val_loss: 1745.1277 - val_mean_absolute_error: 1745.1277\n",
      "\n",
      "Epoch 00074: val_loss did not improve from 1619.62244\n",
      "Epoch 75/200\n",
      "7074/7074 [==============================] - 13s 2ms/step - loss: 1761.1418 - mean_absolute_error: 1761.1418 - val_loss: 1736.3729 - val_mean_absolute_error: 1736.3729\n",
      "\n",
      "Epoch 00075: val_loss did not improve from 1619.62244\n",
      "Epoch 76/200\n",
      "7074/7074 [==============================] - 13s 2ms/step - loss: 1777.1706 - mean_absolute_error: 1777.1706 - val_loss: 1724.0070 - val_mean_absolute_error: 1724.0070\n",
      "\n",
      "Epoch 00076: val_loss did not improve from 1619.62244\n",
      "Epoch 77/200\n",
      "7074/7074 [==============================] - 13s 2ms/step - loss: 1835.8558 - mean_absolute_error: 1835.8558 - val_loss: 1699.0568 - val_mean_absolute_error: 1699.0568\n",
      "\n",
      "Epoch 00077: val_loss did not improve from 1619.62244\n",
      "Epoch 78/200\n",
      "7074/7074 [==============================] - 13s 2ms/step - loss: 1799.1047 - mean_absolute_error: 1799.1047 - val_loss: 1742.4058 - val_mean_absolute_error: 1742.4058\n",
      "\n",
      "Epoch 00078: val_loss did not improve from 1619.62244\n",
      "Epoch 79/200\n",
      "7074/7074 [==============================] - 13s 2ms/step - loss: 1806.4176 - mean_absolute_error: 1806.4176 - val_loss: 1665.0895 - val_mean_absolute_error: 1665.0895\n",
      "\n",
      "Epoch 00079: val_loss did not improve from 1619.62244\n",
      "Epoch 80/200\n",
      "7074/7074 [==============================] - 13s 2ms/step - loss: 1781.7557 - mean_absolute_error: 1781.7557 - val_loss: 1711.7832 - val_mean_absolute_error: 1711.7832\n",
      "\n",
      "Epoch 00080: val_loss did not improve from 1619.62244\n",
      "Epoch 81/200\n",
      "7074/7074 [==============================] - 13s 2ms/step - loss: 1783.9450 - mean_absolute_error: 1783.9450 - val_loss: 1694.5402 - val_mean_absolute_error: 1694.5402\n",
      "\n",
      "Epoch 00081: val_loss did not improve from 1619.62244\n",
      "Epoch 82/200\n",
      "7074/7074 [==============================] - 13s 2ms/step - loss: 1749.6109 - mean_absolute_error: 1749.6109 - val_loss: 1612.0883 - val_mean_absolute_error: 1612.0883\n",
      "\n",
      "Epoch 00082: val_loss improved from 1619.62244 to 1612.08826, saving model to Weights-082--1612.08826.hdf5\n",
      "Epoch 83/200\n",
      "7074/7074 [==============================] - 14s 2ms/step - loss: 1744.5065 - mean_absolute_error: 1744.5065 - val_loss: 1684.9850 - val_mean_absolute_error: 1684.9850\n",
      "\n",
      "Epoch 00083: val_loss did not improve from 1612.08826\n",
      "Epoch 84/200\n",
      "7074/7074 [==============================] - 15s 2ms/step - loss: 1719.2759 - mean_absolute_error: 1719.2759 - val_loss: 1613.5796 - val_mean_absolute_error: 1613.5796\n",
      "\n",
      "Epoch 00084: val_loss did not improve from 1612.08826\n",
      "Epoch 85/200\n",
      "7074/7074 [==============================] - 14s 2ms/step - loss: 1728.8250 - mean_absolute_error: 1728.8250 - val_loss: 1709.9558 - val_mean_absolute_error: 1709.9558\n",
      "\n",
      "Epoch 00085: val_loss did not improve from 1612.08826\n",
      "Epoch 86/200\n",
      "7074/7074 [==============================] - 13s 2ms/step - loss: 1736.7131 - mean_absolute_error: 1736.7131 - val_loss: 1698.7507 - val_mean_absolute_error: 1698.7507\n",
      "\n",
      "Epoch 00086: val_loss did not improve from 1612.08826\n",
      "Epoch 87/200\n",
      "7074/7074 [==============================] - 13s 2ms/step - loss: 1717.0261 - mean_absolute_error: 1717.0261 - val_loss: 1726.4673 - val_mean_absolute_error: 1726.4673\n",
      "\n",
      "Epoch 00087: val_loss did not improve from 1612.08826\n",
      "Epoch 88/200\n",
      "7074/7074 [==============================] - 13s 2ms/step - loss: 1681.0717 - mean_absolute_error: 1681.0717 - val_loss: 1699.5793 - val_mean_absolute_error: 1699.5793\n",
      "\n",
      "Epoch 00088: val_loss did not improve from 1612.08826\n",
      "Epoch 89/200\n",
      "7074/7074 [==============================] - 14s 2ms/step - loss: 1707.1612 - mean_absolute_error: 1707.1612 - val_loss: 1624.9065 - val_mean_absolute_error: 1624.9065\n",
      "\n",
      "Epoch 00089: val_loss did not improve from 1612.08826\n",
      "Epoch 90/200\n",
      "7074/7074 [==============================] - 14s 2ms/step - loss: 1777.2953 - mean_absolute_error: 1777.2953 - val_loss: 1820.5132 - val_mean_absolute_error: 1820.5132\n",
      "\n",
      "Epoch 00090: val_loss did not improve from 1612.08826\n",
      "Epoch 91/200\n",
      "7074/7074 [==============================] - 14s 2ms/step - loss: 1696.2206 - mean_absolute_error: 1696.2206 - val_loss: 1592.0669 - val_mean_absolute_error: 1592.0669\n",
      "\n",
      "Epoch 00091: val_loss improved from 1612.08826 to 1592.06689, saving model to Weights-091--1592.06689.hdf5\n",
      "Epoch 92/200\n",
      "7074/7074 [==============================] - 13s 2ms/step - loss: 1713.6553 - mean_absolute_error: 1713.6553 - val_loss: 1604.2419 - val_mean_absolute_error: 1604.2419\n",
      "\n",
      "Epoch 00092: val_loss did not improve from 1592.06689\n",
      "Epoch 93/200\n",
      "7074/7074 [==============================] - 12s 2ms/step - loss: 1683.2859 - mean_absolute_error: 1683.2859 - val_loss: 1616.4111 - val_mean_absolute_error: 1616.4111\n",
      "\n",
      "Epoch 00093: val_loss did not improve from 1592.06689\n",
      "Epoch 94/200\n",
      "7074/7074 [==============================] - 12s 2ms/step - loss: 1717.7947 - mean_absolute_error: 1717.7947 - val_loss: 1656.5974 - val_mean_absolute_error: 1656.5974\n",
      "\n",
      "Epoch 00094: val_loss did not improve from 1592.06689\n",
      "Epoch 95/200\n",
      "7074/7074 [==============================] - 12s 2ms/step - loss: 1683.9888 - mean_absolute_error: 1683.9888 - val_loss: 1610.9849 - val_mean_absolute_error: 1610.9849\n",
      "\n",
      "Epoch 00095: val_loss did not improve from 1592.06689\n",
      "Epoch 96/200\n",
      "7074/7074 [==============================] - 12s 2ms/step - loss: 1735.2108 - mean_absolute_error: 1735.2108 - val_loss: 1616.8618 - val_mean_absolute_error: 1616.8618\n",
      "\n",
      "Epoch 00096: val_loss did not improve from 1592.06689\n",
      "Epoch 97/200\n",
      "7074/7074 [==============================] - 12s 2ms/step - loss: 1674.7220 - mean_absolute_error: 1674.7220 - val_loss: 1905.2811 - val_mean_absolute_error: 1905.2811\n",
      "\n",
      "Epoch 00097: val_loss did not improve from 1592.06689\n",
      "Epoch 98/200\n",
      "7074/7074 [==============================] - 12s 2ms/step - loss: 1619.3739 - mean_absolute_error: 1619.3739 - val_loss: 1697.7521 - val_mean_absolute_error: 1697.7521\n",
      "\n",
      "Epoch 00098: val_loss did not improve from 1592.06689\n",
      "Epoch 99/200\n",
      "7074/7074 [==============================] - 12s 2ms/step - loss: 1656.2388 - mean_absolute_error: 1656.2388 - val_loss: 1575.4561 - val_mean_absolute_error: 1575.4561\n",
      "\n",
      "Epoch 00099: val_loss improved from 1592.06689 to 1575.45605, saving model to Weights-099--1575.45605.hdf5\n",
      "Epoch 100/200\n"
     ]
    },
    {
     "name": "stdout",
     "output_type": "stream",
     "text": [
      "7074/7074 [==============================] - 12s 2ms/step - loss: 1699.1388 - mean_absolute_error: 1699.1388 - val_loss: 1690.7723 - val_mean_absolute_error: 1690.7723\n",
      "\n",
      "Epoch 00100: val_loss did not improve from 1575.45605\n",
      "Epoch 101/200\n",
      "7074/7074 [==============================] - 13s 2ms/step - loss: 1689.9924 - mean_absolute_error: 1689.9924 - val_loss: 1822.8533 - val_mean_absolute_error: 1822.8533\n",
      "\n",
      "Epoch 00101: val_loss did not improve from 1575.45605\n",
      "Epoch 102/200\n",
      "7074/7074 [==============================] - 13s 2ms/step - loss: 1694.7374 - mean_absolute_error: 1694.7374 - val_loss: 1594.4205 - val_mean_absolute_error: 1594.4205\n",
      "\n",
      "Epoch 00102: val_loss did not improve from 1575.45605\n",
      "Epoch 103/200\n",
      "7074/7074 [==============================] - 13s 2ms/step - loss: 1675.1235 - mean_absolute_error: 1675.1235 - val_loss: 1763.5500 - val_mean_absolute_error: 1763.5500\n",
      "\n",
      "Epoch 00103: val_loss did not improve from 1575.45605\n",
      "Epoch 104/200\n",
      "7074/7074 [==============================] - 13s 2ms/step - loss: 1670.4546 - mean_absolute_error: 1670.4546 - val_loss: 1588.1722 - val_mean_absolute_error: 1588.1722\n",
      "\n",
      "Epoch 00104: val_loss did not improve from 1575.45605\n",
      "Epoch 105/200\n",
      "7074/7074 [==============================] - 12s 2ms/step - loss: 1698.1975 - mean_absolute_error: 1698.1975 - val_loss: 1584.6543 - val_mean_absolute_error: 1584.6543\n",
      "\n",
      "Epoch 00105: val_loss did not improve from 1575.45605\n",
      "Epoch 106/200\n",
      "7074/7074 [==============================] - 13s 2ms/step - loss: 1649.5670 - mean_absolute_error: 1649.5670 - val_loss: 1594.7075 - val_mean_absolute_error: 1594.7075\n",
      "\n",
      "Epoch 00106: val_loss did not improve from 1575.45605\n",
      "Epoch 107/200\n",
      "7074/7074 [==============================] - 13s 2ms/step - loss: 1720.5011 - mean_absolute_error: 1720.5011 - val_loss: 1626.7047 - val_mean_absolute_error: 1626.7047\n",
      "\n",
      "Epoch 00107: val_loss did not improve from 1575.45605\n",
      "Epoch 108/200\n",
      "7074/7074 [==============================] - 14s 2ms/step - loss: 1708.3063 - mean_absolute_error: 1708.3063 - val_loss: 1722.7394 - val_mean_absolute_error: 1722.7394\n",
      "\n",
      "Epoch 00108: val_loss did not improve from 1575.45605\n",
      "Epoch 109/200\n",
      "7074/7074 [==============================] - 14s 2ms/step - loss: 1644.8195 - mean_absolute_error: 1644.8195 - val_loss: 1566.0597 - val_mean_absolute_error: 1566.0597\n",
      "\n",
      "Epoch 00109: val_loss improved from 1575.45605 to 1566.05969, saving model to Weights-109--1566.05969.hdf5\n",
      "Epoch 110/200\n",
      "7074/7074 [==============================] - 13s 2ms/step - loss: 1671.6308 - mean_absolute_error: 1671.6308 - val_loss: 1733.9983 - val_mean_absolute_error: 1733.9983\n",
      "\n",
      "Epoch 00110: val_loss did not improve from 1566.05969\n",
      "Epoch 111/200\n",
      "7074/7074 [==============================] - 12s 2ms/step - loss: 1673.6436 - mean_absolute_error: 1673.6436 - val_loss: 1609.3092 - val_mean_absolute_error: 1609.3092\n",
      "\n",
      "Epoch 00111: val_loss did not improve from 1566.05969\n",
      "Epoch 112/200\n",
      "7074/7074 [==============================] - 13s 2ms/step - loss: 1660.2758 - mean_absolute_error: 1660.2758 - val_loss: 1660.5918 - val_mean_absolute_error: 1660.5918\n",
      "\n",
      "Epoch 00112: val_loss did not improve from 1566.05969\n",
      "Epoch 113/200\n",
      "7074/7074 [==============================] - 12s 2ms/step - loss: 1652.9669 - mean_absolute_error: 1652.9669 - val_loss: 1619.5769 - val_mean_absolute_error: 1619.5769\n",
      "\n",
      "Epoch 00113: val_loss did not improve from 1566.05969\n",
      "Epoch 114/200\n",
      "7074/7074 [==============================] - 12s 2ms/step - loss: 1679.6662 - mean_absolute_error: 1679.6662 - val_loss: 1565.5323 - val_mean_absolute_error: 1565.5323\n",
      "\n",
      "Epoch 00114: val_loss improved from 1566.05969 to 1565.53235, saving model to Weights-114--1565.53235.hdf5\n",
      "Epoch 115/200\n",
      "7074/7074 [==============================] - 13s 2ms/step - loss: 1668.0461 - mean_absolute_error: 1668.0461 - val_loss: 1558.8784 - val_mean_absolute_error: 1558.8784\n",
      "\n",
      "Epoch 00115: val_loss improved from 1565.53235 to 1558.87842, saving model to Weights-115--1558.87842.hdf5\n",
      "Epoch 116/200\n",
      "7074/7074 [==============================] - 15s 2ms/step - loss: 1638.8978 - mean_absolute_error: 1638.8978 - val_loss: 1639.7766 - val_mean_absolute_error: 1639.7766\n",
      "\n",
      "Epoch 00116: val_loss did not improve from 1558.87842\n",
      "Epoch 117/200\n",
      "7074/7074 [==============================] - 13s 2ms/step - loss: 1645.4805 - mean_absolute_error: 1645.4805 - val_loss: 1606.4170 - val_mean_absolute_error: 1606.4170\n",
      "\n",
      "Epoch 00117: val_loss did not improve from 1558.87842\n",
      "Epoch 118/200\n",
      "7074/7074 [==============================] - 13s 2ms/step - loss: 1629.5164 - mean_absolute_error: 1629.5164 - val_loss: 1542.0787 - val_mean_absolute_error: 1542.0787\n",
      "\n",
      "Epoch 00118: val_loss improved from 1558.87842 to 1542.07874, saving model to Weights-118--1542.07874.hdf5\n",
      "Epoch 119/200\n",
      "7074/7074 [==============================] - 13s 2ms/step - loss: 1677.2439 - mean_absolute_error: 1677.2439 - val_loss: 1614.4448 - val_mean_absolute_error: 1614.4448\n",
      "\n",
      "Epoch 00119: val_loss did not improve from 1542.07874\n",
      "Epoch 120/200\n",
      "7074/7074 [==============================] - 13s 2ms/step - loss: 1700.4288 - mean_absolute_error: 1700.4288 - val_loss: 1553.9137 - val_mean_absolute_error: 1553.9137\n",
      "\n",
      "Epoch 00120: val_loss did not improve from 1542.07874\n",
      "Epoch 121/200\n",
      "7074/7074 [==============================] - 13s 2ms/step - loss: 1643.9265 - mean_absolute_error: 1643.9265 - val_loss: 1607.8326 - val_mean_absolute_error: 1607.8326\n",
      "\n",
      "Epoch 00121: val_loss did not improve from 1542.07874\n",
      "Epoch 122/200\n",
      "7074/7074 [==============================] - 12s 2ms/step - loss: 1683.3461 - mean_absolute_error: 1683.3461 - val_loss: 1600.1973 - val_mean_absolute_error: 1600.1973\n",
      "\n",
      "Epoch 00122: val_loss did not improve from 1542.07874\n",
      "Epoch 123/200\n",
      "7074/7074 [==============================] - 12s 2ms/step - loss: 1628.0150 - mean_absolute_error: 1628.0150 - val_loss: 1607.7642 - val_mean_absolute_error: 1607.7642\n",
      "\n",
      "Epoch 00123: val_loss did not improve from 1542.07874\n",
      "Epoch 124/200\n",
      "7074/7074 [==============================] - 12s 2ms/step - loss: 1628.0560 - mean_absolute_error: 1628.0560 - val_loss: 1653.0619 - val_mean_absolute_error: 1653.0619\n",
      "\n",
      "Epoch 00124: val_loss did not improve from 1542.07874\n",
      "Epoch 125/200\n",
      "7074/7074 [==============================] - 13s 2ms/step - loss: 1650.3716 - mean_absolute_error: 1650.3716 - val_loss: 1602.0725 - val_mean_absolute_error: 1602.0725\n",
      "\n",
      "Epoch 00125: val_loss did not improve from 1542.07874\n",
      "Epoch 126/200\n",
      "7074/7074 [==============================] - 12s 2ms/step - loss: 1622.0190 - mean_absolute_error: 1622.0190 - val_loss: 1792.9384 - val_mean_absolute_error: 1792.9384\n",
      "\n",
      "Epoch 00126: val_loss did not improve from 1542.07874\n",
      "Epoch 127/200\n",
      "7074/7074 [==============================] - 12s 2ms/step - loss: 1661.6754 - mean_absolute_error: 1661.6754 - val_loss: 1594.4233 - val_mean_absolute_error: 1594.4233\n",
      "\n",
      "Epoch 00127: val_loss did not improve from 1542.07874\n",
      "Epoch 128/200\n",
      "7074/7074 [==============================] - 13s 2ms/step - loss: 1655.3198 - mean_absolute_error: 1655.3198 - val_loss: 1578.4993 - val_mean_absolute_error: 1578.4993\n",
      "\n",
      "Epoch 00128: val_loss did not improve from 1542.07874\n",
      "Epoch 129/200\n",
      "7074/7074 [==============================] - 13s 2ms/step - loss: 1656.0715 - mean_absolute_error: 1656.0715 - val_loss: 1528.6667 - val_mean_absolute_error: 1528.6667\n",
      "\n",
      "Epoch 00129: val_loss improved from 1542.07874 to 1528.66675, saving model to Weights-129--1528.66675.hdf5\n",
      "Epoch 130/200\n",
      "7074/7074 [==============================] - 13s 2ms/step - loss: 1611.8292 - mean_absolute_error: 1611.8292 - val_loss: 1613.8428 - val_mean_absolute_error: 1613.8428\n",
      "\n",
      "Epoch 00130: val_loss did not improve from 1528.66675\n",
      "Epoch 131/200\n",
      "7074/7074 [==============================] - 13s 2ms/step - loss: 1621.5197 - mean_absolute_error: 1621.5197 - val_loss: 1558.9255 - val_mean_absolute_error: 1558.9255\n",
      "\n",
      "Epoch 00131: val_loss did not improve from 1528.66675\n",
      "Epoch 132/200\n",
      "7074/7074 [==============================] - 13s 2ms/step - loss: 1648.3832 - mean_absolute_error: 1648.3832 - val_loss: 1572.9510 - val_mean_absolute_error: 1572.9510\n",
      "\n",
      "Epoch 00132: val_loss did not improve from 1528.66675\n",
      "Epoch 133/200\n",
      "7074/7074 [==============================] - 13s 2ms/step - loss: 1590.1730 - mean_absolute_error: 1590.1730 - val_loss: 1541.3262 - val_mean_absolute_error: 1541.3262\n"
     ]
    },
    {
     "name": "stdout",
     "output_type": "stream",
     "text": [
      "\n",
      "Epoch 00133: val_loss did not improve from 1528.66675\n",
      "Epoch 134/200\n",
      "7074/7074 [==============================] - 14s 2ms/step - loss: 1632.0080 - mean_absolute_error: 1632.0080 - val_loss: 1542.3530 - val_mean_absolute_error: 1542.3530\n",
      "\n",
      "Epoch 00134: val_loss did not improve from 1528.66675\n",
      "Epoch 135/200\n",
      "7074/7074 [==============================] - 13s 2ms/step - loss: 1629.5928 - mean_absolute_error: 1629.5928 - val_loss: 1572.0094 - val_mean_absolute_error: 1572.0094\n",
      "\n",
      "Epoch 00135: val_loss did not improve from 1528.66675\n",
      "Epoch 136/200\n",
      "7074/7074 [==============================] - 13s 2ms/step - loss: 1620.1283 - mean_absolute_error: 1620.1283 - val_loss: 1568.9908 - val_mean_absolute_error: 1568.9908\n",
      "\n",
      "Epoch 00136: val_loss did not improve from 1528.66675\n",
      "Epoch 137/200\n",
      "7074/7074 [==============================] - 12s 2ms/step - loss: 1660.7498 - mean_absolute_error: 1660.7498 - val_loss: 1543.2043 - val_mean_absolute_error: 1543.2043\n",
      "\n",
      "Epoch 00137: val_loss did not improve from 1528.66675\n",
      "Epoch 138/200\n",
      "7074/7074 [==============================] - 12s 2ms/step - loss: 1620.8688 - mean_absolute_error: 1620.8688 - val_loss: 1531.1958 - val_mean_absolute_error: 1531.1958\n",
      "\n",
      "Epoch 00138: val_loss did not improve from 1528.66675\n",
      "Epoch 139/200\n",
      "7074/7074 [==============================] - 12s 2ms/step - loss: 1618.7670 - mean_absolute_error: 1618.7670 - val_loss: 1633.1477 - val_mean_absolute_error: 1633.1477\n",
      "\n",
      "Epoch 00139: val_loss did not improve from 1528.66675\n",
      "Epoch 140/200\n",
      "7074/7074 [==============================] - 12s 2ms/step - loss: 1621.2570 - mean_absolute_error: 1621.2570 - val_loss: 1616.0100 - val_mean_absolute_error: 1616.0100\n",
      "\n",
      "Epoch 00140: val_loss did not improve from 1528.66675\n",
      "Epoch 141/200\n",
      "7074/7074 [==============================] - 12s 2ms/step - loss: 1641.2505 - mean_absolute_error: 1641.2505 - val_loss: 1545.7510 - val_mean_absolute_error: 1545.7510\n",
      "\n",
      "Epoch 00141: val_loss did not improve from 1528.66675\n",
      "Epoch 142/200\n",
      "7074/7074 [==============================] - 13s 2ms/step - loss: 1649.5659 - mean_absolute_error: 1649.5659 - val_loss: 1611.5139 - val_mean_absolute_error: 1611.5139\n",
      "\n",
      "Epoch 00142: val_loss did not improve from 1528.66675\n",
      "Epoch 143/200\n",
      "7074/7074 [==============================] - 12s 2ms/step - loss: 1600.6227 - mean_absolute_error: 1600.6227 - val_loss: 1535.8756 - val_mean_absolute_error: 1535.8756\n",
      "\n",
      "Epoch 00143: val_loss did not improve from 1528.66675\n",
      "Epoch 144/200\n",
      "7074/7074 [==============================] - 12s 2ms/step - loss: 1641.2125 - mean_absolute_error: 1641.2125 - val_loss: 1675.4320 - val_mean_absolute_error: 1675.4320\n",
      "\n",
      "Epoch 00144: val_loss did not improve from 1528.66675\n",
      "Epoch 145/200\n",
      "7074/7074 [==============================] - 12s 2ms/step - loss: 1621.2517 - mean_absolute_error: 1621.2517 - val_loss: 1634.2673 - val_mean_absolute_error: 1634.2673\n",
      "\n",
      "Epoch 00145: val_loss did not improve from 1528.66675\n",
      "Epoch 146/200\n",
      "7074/7074 [==============================] - 12s 2ms/step - loss: 1571.7238 - mean_absolute_error: 1571.7238 - val_loss: 1636.9226 - val_mean_absolute_error: 1636.9226\n",
      "\n",
      "Epoch 00146: val_loss did not improve from 1528.66675\n",
      "Epoch 147/200\n",
      "7074/7074 [==============================] - 12s 2ms/step - loss: 1579.7131 - mean_absolute_error: 1579.7131 - val_loss: 1624.0879 - val_mean_absolute_error: 1624.0879\n",
      "\n",
      "Epoch 00147: val_loss did not improve from 1528.66675\n",
      "Epoch 148/200\n",
      "7074/7074 [==============================] - 13s 2ms/step - loss: 1643.2783 - mean_absolute_error: 1643.2783 - val_loss: 1590.4934 - val_mean_absolute_error: 1590.4934\n",
      "\n",
      "Epoch 00148: val_loss did not improve from 1528.66675\n",
      "Epoch 149/200\n",
      "7074/7074 [==============================] - 13s 2ms/step - loss: 1633.6543 - mean_absolute_error: 1633.6543 - val_loss: 1647.7980 - val_mean_absolute_error: 1647.7980\n",
      "\n",
      "Epoch 00149: val_loss did not improve from 1528.66675\n",
      "Epoch 150/200\n",
      "7074/7074 [==============================] - 13s 2ms/step - loss: 1539.4116 - mean_absolute_error: 1539.4116 - val_loss: 1527.1893 - val_mean_absolute_error: 1527.1893\n",
      "\n",
      "Epoch 00150: val_loss improved from 1528.66675 to 1527.18933, saving model to Weights-150--1527.18933.hdf5\n",
      "Epoch 151/200\n",
      "7074/7074 [==============================] - 13s 2ms/step - loss: 1631.1932 - mean_absolute_error: 1631.1932 - val_loss: 1544.6969 - val_mean_absolute_error: 1544.6969\n",
      "\n",
      "Epoch 00151: val_loss did not improve from 1527.18933\n",
      "Epoch 152/200\n",
      "7074/7074 [==============================] - 13s 2ms/step - loss: 1615.6529 - mean_absolute_error: 1615.6529 - val_loss: 1512.1586 - val_mean_absolute_error: 1512.1586\n",
      "\n",
      "Epoch 00152: val_loss improved from 1527.18933 to 1512.15857, saving model to Weights-152--1512.15857.hdf5\n",
      "Epoch 153/200\n",
      "7074/7074 [==============================] - 13s 2ms/step - loss: 1571.8002 - mean_absolute_error: 1571.8002 - val_loss: 1566.2311 - val_mean_absolute_error: 1566.2311\n",
      "\n",
      "Epoch 00153: val_loss did not improve from 1512.15857\n",
      "Epoch 154/200\n",
      "7074/7074 [==============================] - 13s 2ms/step - loss: 1609.7746 - mean_absolute_error: 1609.7746 - val_loss: 1506.7169 - val_mean_absolute_error: 1506.7169\n",
      "\n",
      "Epoch 00154: val_loss improved from 1512.15857 to 1506.71692, saving model to Weights-154--1506.71692.hdf5\n",
      "Epoch 155/200\n",
      "7074/7074 [==============================] - 13s 2ms/step - loss: 1577.7470 - mean_absolute_error: 1577.7470 - val_loss: 1546.5667 - val_mean_absolute_error: 1546.5667\n",
      "\n",
      "Epoch 00155: val_loss did not improve from 1506.71692\n",
      "Epoch 156/200\n",
      "7074/7074 [==============================] - 13s 2ms/step - loss: 1555.7527 - mean_absolute_error: 1555.7527 - val_loss: 1528.9661 - val_mean_absolute_error: 1528.9661\n",
      "\n",
      "Epoch 00156: val_loss did not improve from 1506.71692\n",
      "Epoch 157/200\n",
      "7074/7074 [==============================] - 13s 2ms/step - loss: 1544.3719 - mean_absolute_error: 1544.3719 - val_loss: 1537.8307 - val_mean_absolute_error: 1537.8307\n",
      "\n",
      "Epoch 00157: val_loss did not improve from 1506.71692\n",
      "Epoch 158/200\n",
      "7074/7074 [==============================] - 13s 2ms/step - loss: 1622.1932 - mean_absolute_error: 1622.1932 - val_loss: 1511.4965 - val_mean_absolute_error: 1511.4965\n",
      "\n",
      "Epoch 00158: val_loss did not improve from 1506.71692\n",
      "Epoch 159/200\n",
      "7074/7074 [==============================] - 12s 2ms/step - loss: 1541.1128 - mean_absolute_error: 1541.1128 - val_loss: 1562.8612 - val_mean_absolute_error: 1562.8612\n",
      "\n",
      "Epoch 00159: val_loss did not improve from 1506.71692\n",
      "Epoch 160/200\n",
      "7074/7074 [==============================] - 13s 2ms/step - loss: 1583.9820 - mean_absolute_error: 1583.9820 - val_loss: 1534.5057 - val_mean_absolute_error: 1534.5057\n",
      "\n",
      "Epoch 00160: val_loss did not improve from 1506.71692\n",
      "Epoch 161/200\n",
      "7074/7074 [==============================] - 14s 2ms/step - loss: 1525.5791 - mean_absolute_error: 1525.5791 - val_loss: 1512.1525 - val_mean_absolute_error: 1512.1525\n",
      "\n",
      "Epoch 00161: val_loss did not improve from 1506.71692\n",
      "Epoch 162/200\n",
      "7074/7074 [==============================] - 13s 2ms/step - loss: 1578.2876 - mean_absolute_error: 1578.2876 - val_loss: 1555.9987 - val_mean_absolute_error: 1555.9987\n",
      "\n",
      "Epoch 00162: val_loss did not improve from 1506.71692\n",
      "Epoch 163/200\n",
      "7074/7074 [==============================] - 12s 2ms/step - loss: 1583.9397 - mean_absolute_error: 1583.9397 - val_loss: 1524.4431 - val_mean_absolute_error: 1524.4431\n",
      "\n",
      "Epoch 00163: val_loss did not improve from 1506.71692\n",
      "Epoch 164/200\n",
      "7074/7074 [==============================] - 12s 2ms/step - loss: 1594.7267 - mean_absolute_error: 1594.7267 - val_loss: 1603.4750 - val_mean_absolute_error: 1603.4750\n",
      "\n",
      "Epoch 00164: val_loss did not improve from 1506.71692\n",
      "Epoch 165/200\n",
      "7074/7074 [==============================] - 13s 2ms/step - loss: 1581.7929 - mean_absolute_error: 1581.7929 - val_loss: 1549.3778 - val_mean_absolute_error: 1549.3778\n",
      "\n",
      "Epoch 00165: val_loss did not improve from 1506.71692\n",
      "Epoch 166/200\n",
      "7074/7074 [==============================] - 13s 2ms/step - loss: 1559.5501 - mean_absolute_error: 1559.5501 - val_loss: 1525.4164 - val_mean_absolute_error: 1525.4164\n",
      "\n",
      "Epoch 00166: val_loss did not improve from 1506.71692\n",
      "Epoch 167/200\n",
      "7074/7074 [==============================] - 12s 2ms/step - loss: 1571.6684 - mean_absolute_error: 1571.6684 - val_loss: 1565.7120 - val_mean_absolute_error: 1565.7120\n"
     ]
    },
    {
     "name": "stdout",
     "output_type": "stream",
     "text": [
      "\n",
      "Epoch 00167: val_loss did not improve from 1506.71692\n",
      "Epoch 168/200\n",
      "7074/7074 [==============================] - 12s 2ms/step - loss: 1604.7970 - mean_absolute_error: 1604.7970 - val_loss: 1728.0554 - val_mean_absolute_error: 1728.0554\n",
      "\n",
      "Epoch 00168: val_loss did not improve from 1506.71692\n",
      "Epoch 169/200\n",
      "7074/7074 [==============================] - 12s 2ms/step - loss: 1571.8975 - mean_absolute_error: 1571.8975 - val_loss: 1565.1030 - val_mean_absolute_error: 1565.1030\n",
      "\n",
      "Epoch 00169: val_loss did not improve from 1506.71692\n",
      "Epoch 170/200\n",
      "7074/7074 [==============================] - 13s 2ms/step - loss: 1559.1450 - mean_absolute_error: 1559.1450 - val_loss: 1622.8970 - val_mean_absolute_error: 1622.8970\n",
      "\n",
      "Epoch 00170: val_loss did not improve from 1506.71692\n",
      "Epoch 171/200\n",
      "7074/7074 [==============================] - 12s 2ms/step - loss: 1649.6974 - mean_absolute_error: 1649.6974 - val_loss: 1525.5674 - val_mean_absolute_error: 1525.5674\n",
      "\n",
      "Epoch 00171: val_loss did not improve from 1506.71692\n",
      "Epoch 172/200\n",
      "7074/7074 [==============================] - 12s 2ms/step - loss: 1557.9541 - mean_absolute_error: 1557.9541 - val_loss: 1592.8435 - val_mean_absolute_error: 1592.8435\n",
      "\n",
      "Epoch 00172: val_loss did not improve from 1506.71692\n",
      "Epoch 173/200\n",
      "7074/7074 [==============================] - 12s 2ms/step - loss: 1542.8153 - mean_absolute_error: 1542.8153 - val_loss: 1487.8984 - val_mean_absolute_error: 1487.8984\n",
      "\n",
      "Epoch 00173: val_loss improved from 1506.71692 to 1487.89844, saving model to Weights-173--1487.89844.hdf5\n",
      "Epoch 174/200\n",
      "7074/7074 [==============================] - 12s 2ms/step - loss: 1600.7127 - mean_absolute_error: 1600.7127 - val_loss: 1553.0275 - val_mean_absolute_error: 1553.0275\n",
      "\n",
      "Epoch 00174: val_loss did not improve from 1487.89844\n",
      "Epoch 175/200\n",
      "7074/7074 [==============================] - 13s 2ms/step - loss: 1563.3040 - mean_absolute_error: 1563.3040 - val_loss: 1538.4210 - val_mean_absolute_error: 1538.4210\n",
      "\n",
      "Epoch 00175: val_loss did not improve from 1487.89844\n",
      "Epoch 176/200\n",
      "7074/7074 [==============================] - 13s 2ms/step - loss: 1545.7151 - mean_absolute_error: 1545.7151 - val_loss: 1538.3812 - val_mean_absolute_error: 1538.3812\n",
      "\n",
      "Epoch 00176: val_loss did not improve from 1487.89844\n",
      "Epoch 177/200\n",
      "7074/7074 [==============================] - 13s 2ms/step - loss: 1568.3111 - mean_absolute_error: 1568.3111 - val_loss: 1638.2244 - val_mean_absolute_error: 1638.2244\n",
      "\n",
      "Epoch 00177: val_loss did not improve from 1487.89844\n",
      "Epoch 178/200\n",
      "7074/7074 [==============================] - 13s 2ms/step - loss: 1556.8631 - mean_absolute_error: 1556.8631 - val_loss: 1534.4429 - val_mean_absolute_error: 1534.4429\n",
      "\n",
      "Epoch 00178: val_loss did not improve from 1487.89844\n",
      "Epoch 179/200\n",
      "7074/7074 [==============================] - 14s 2ms/step - loss: 1533.9377 - mean_absolute_error: 1533.9377 - val_loss: 1524.0056 - val_mean_absolute_error: 1524.0056\n",
      "\n",
      "Epoch 00179: val_loss did not improve from 1487.89844\n",
      "Epoch 180/200\n",
      "7074/7074 [==============================] - 14s 2ms/step - loss: 1496.6154 - mean_absolute_error: 1496.6154 - val_loss: 1526.0884 - val_mean_absolute_error: 1526.0884\n",
      "\n",
      "Epoch 00180: val_loss did not improve from 1487.89844\n",
      "Epoch 181/200\n",
      "7074/7074 [==============================] - 13s 2ms/step - loss: 1513.0637 - mean_absolute_error: 1513.0637 - val_loss: 1468.0969 - val_mean_absolute_error: 1468.0969\n",
      "\n",
      "Epoch 00181: val_loss improved from 1487.89844 to 1468.09692, saving model to Weights-181--1468.09692.hdf5\n",
      "Epoch 182/200\n",
      "7074/7074 [==============================] - 14s 2ms/step - loss: 1565.7344 - mean_absolute_error: 1565.7344 - val_loss: 1499.9264 - val_mean_absolute_error: 1499.9264\n",
      "\n",
      "Epoch 00182: val_loss did not improve from 1468.09692\n",
      "Epoch 183/200\n",
      "7074/7074 [==============================] - 14s 2ms/step - loss: 1542.1243 - mean_absolute_error: 1542.1243 - val_loss: 1482.4633 - val_mean_absolute_error: 1482.4633\n",
      "\n",
      "Epoch 00183: val_loss did not improve from 1468.09692\n",
      "Epoch 184/200\n",
      "7074/7074 [==============================] - 14s 2ms/step - loss: 1550.6573 - mean_absolute_error: 1550.6573 - val_loss: 1490.0396 - val_mean_absolute_error: 1490.0396\n",
      "\n",
      "Epoch 00184: val_loss did not improve from 1468.09692\n",
      "Epoch 185/200\n",
      "7074/7074 [==============================] - 13s 2ms/step - loss: 1516.5340 - mean_absolute_error: 1516.5340 - val_loss: 1476.2094 - val_mean_absolute_error: 1476.2094\n",
      "\n",
      "Epoch 00185: val_loss did not improve from 1468.09692\n",
      "Epoch 186/200\n",
      "7074/7074 [==============================] - 12s 2ms/step - loss: 1521.8757 - mean_absolute_error: 1521.8757 - val_loss: 1559.6592 - val_mean_absolute_error: 1559.6592\n",
      "\n",
      "Epoch 00186: val_loss did not improve from 1468.09692\n",
      "Epoch 187/200\n",
      "7074/7074 [==============================] - 12s 2ms/step - loss: 1564.9549 - mean_absolute_error: 1564.9549 - val_loss: 1526.6230 - val_mean_absolute_error: 1526.6230\n",
      "\n",
      "Epoch 00187: val_loss did not improve from 1468.09692\n",
      "Epoch 188/200\n",
      "7074/7074 [==============================] - 11s 2ms/step - loss: 1598.8402 - mean_absolute_error: 1598.8402 - val_loss: 1497.2667 - val_mean_absolute_error: 1497.2667\n",
      "\n",
      "Epoch 00188: val_loss did not improve from 1468.09692\n",
      "Epoch 189/200\n",
      "7074/7074 [==============================] - 12s 2ms/step - loss: 1544.6192 - mean_absolute_error: 1544.6192 - val_loss: 1509.2614 - val_mean_absolute_error: 1509.2614\n",
      "\n",
      "Epoch 00189: val_loss did not improve from 1468.09692\n",
      "Epoch 190/200\n",
      "7074/7074 [==============================] - 12s 2ms/step - loss: 1568.4209 - mean_absolute_error: 1568.4209 - val_loss: 1501.3672 - val_mean_absolute_error: 1501.3672\n",
      "\n",
      "Epoch 00190: val_loss did not improve from 1468.09692\n",
      "Epoch 191/200\n",
      "7074/7074 [==============================] - 12s 2ms/step - loss: 1548.4046 - mean_absolute_error: 1548.4046 - val_loss: 1511.4745 - val_mean_absolute_error: 1511.4745\n",
      "\n",
      "Epoch 00191: val_loss did not improve from 1468.09692\n",
      "Epoch 192/200\n",
      "7074/7074 [==============================] - 12s 2ms/step - loss: 1492.4968 - mean_absolute_error: 1492.4968 - val_loss: 1487.4170 - val_mean_absolute_error: 1487.4170\n",
      "\n",
      "Epoch 00192: val_loss did not improve from 1468.09692\n",
      "Epoch 193/200\n",
      "7074/7074 [==============================] - 13s 2ms/step - loss: 1518.0148 - mean_absolute_error: 1518.0148 - val_loss: 1614.1359 - val_mean_absolute_error: 1614.1359\n",
      "\n",
      "Epoch 00193: val_loss did not improve from 1468.09692\n",
      "Epoch 194/200\n",
      "7074/7074 [==============================] - 13s 2ms/step - loss: 1537.8463 - mean_absolute_error: 1537.8463 - val_loss: 1528.5946 - val_mean_absolute_error: 1528.5946\n",
      "\n",
      "Epoch 00194: val_loss did not improve from 1468.09692\n",
      "Epoch 195/200\n",
      "7074/7074 [==============================] - 14s 2ms/step - loss: 1519.8073 - mean_absolute_error: 1519.8073 - val_loss: 1534.4821 - val_mean_absolute_error: 1534.4821\n",
      "\n",
      "Epoch 00195: val_loss did not improve from 1468.09692\n",
      "Epoch 196/200\n",
      "7074/7074 [==============================] - 14s 2ms/step - loss: 1593.6238 - mean_absolute_error: 1593.6238 - val_loss: 1513.0459 - val_mean_absolute_error: 1513.0459\n",
      "\n",
      "Epoch 00196: val_loss did not improve from 1468.09692\n",
      "Epoch 197/200\n",
      "7074/7074 [==============================] - 13s 2ms/step - loss: 1520.0913 - mean_absolute_error: 1520.0913 - val_loss: 1493.4054 - val_mean_absolute_error: 1493.4054\n",
      "\n",
      "Epoch 00197: val_loss did not improve from 1468.09692\n",
      "Epoch 198/200\n",
      "7074/7074 [==============================] - 13s 2ms/step - loss: 1505.7351 - mean_absolute_error: 1505.7351 - val_loss: 1496.8890 - val_mean_absolute_error: 1496.8890\n",
      "\n",
      "Epoch 00198: val_loss did not improve from 1468.09692\n",
      "Epoch 199/200\n",
      "7074/7074 [==============================] - 13s 2ms/step - loss: 1540.1070 - mean_absolute_error: 1540.1070 - val_loss: 1509.9277 - val_mean_absolute_error: 1509.9277\n",
      "\n",
      "Epoch 00199: val_loss did not improve from 1468.09692\n",
      "Epoch 200/200\n",
      "7074/7074 [==============================] - 13s 2ms/step - loss: 1543.9072 - mean_absolute_error: 1543.9072 - val_loss: 1478.0057 - val_mean_absolute_error: 1478.0057\n",
      "\n",
      "Epoch 00200: val_loss did not improve from 1468.09692\n"
     ]
    },
    {
     "data": {
      "text/plain": [
       "<tensorflow.python.keras.callbacks.History at 0x2ae9de9df88>"
      ]
     },
     "execution_count": 16,
     "metadata": {},
     "output_type": "execute_result"
    }
   ],
   "source": [
    "NN_model.fit(X_train, y_train, epochs=200, batch_size=32, validation_split = 0.2, callbacks=callbacks_list)"
   ]
  },
  {
   "cell_type": "code",
   "execution_count": 18,
   "id": "interim-transport",
   "metadata": {},
   "outputs": [
    {
     "data": {
      "text/plain": [
       "0.8651875265647263"
      ]
     },
     "execution_count": 18,
     "metadata": {},
     "output_type": "execute_result"
    }
   ],
   "source": [
    "pred=NN_model.predict(X_test)\n",
    "r2_score(y_test,pred)"
   ]
  },
  {
   "cell_type": "markdown",
   "id": "fundamental-essex",
   "metadata": {},
   "source": [
    "## NN with more layers"
   ]
  },
  {
   "cell_type": "code",
   "execution_count": 14,
   "id": "specialized-lebanon",
   "metadata": {},
   "outputs": [
    {
     "name": "stdout",
     "output_type": "stream",
     "text": [
      "Model: \"sequential_1\"\n",
      "_________________________________________________________________\n",
      "Layer (type)                 Output Shape              Param #   \n",
      "=================================================================\n",
      "dense_5 (Dense)              (None, 128)               2176      \n",
      "_________________________________________________________________\n",
      "dense_6 (Dense)              (None, 256)               33024     \n",
      "_________________________________________________________________\n",
      "dense_7 (Dense)              (None, 256)               65792     \n",
      "_________________________________________________________________\n",
      "dense_8 (Dense)              (None, 256)               65792     \n",
      "_________________________________________________________________\n",
      "dense_9 (Dense)              (None, 256)               65792     \n",
      "_________________________________________________________________\n",
      "dense_10 (Dense)             (None, 256)               65792     \n",
      "_________________________________________________________________\n",
      "dense_11 (Dense)             (None, 256)               65792     \n",
      "_________________________________________________________________\n",
      "dense_12 (Dense)             (None, 256)               65792     \n",
      "_________________________________________________________________\n",
      "dense_13 (Dense)             (None, 1)                 257       \n",
      "=================================================================\n",
      "Total params: 430,209\n",
      "Trainable params: 430,209\n",
      "Non-trainable params: 0\n",
      "_________________________________________________________________\n"
     ]
    }
   ],
   "source": [
    "NN_model2 = Sequential()\n",
    "\n",
    "# The Input Layer :\n",
    "NN_model2.add(Dense(128, kernel_initializer='normal',input_dim = X_train.shape[1], activation='relu'))\n",
    "\n",
    "# The Hidden Layers :\n",
    "NN_model2.add(Dense(256, kernel_initializer='normal',activation='relu'))\n",
    "NN_model2.add(Dense(256, kernel_initializer='normal',activation='relu'))\n",
    "NN_model2.add(Dense(256, kernel_initializer='normal',activation='relu'))\n",
    "NN_model2.add(Dense(256, kernel_initializer='normal',activation='relu'))\n",
    "NN_model2.add(Dense(256, kernel_initializer='normal',activation='relu'))\n",
    "NN_model2.add(Dense(256, kernel_initializer='normal',activation='relu'))\n",
    "NN_model2.add(Dense(256, kernel_initializer='normal',activation='relu'))\n",
    "\n",
    "# The Output Layer :\n",
    "NN_model2.add(Dense(1, kernel_initializer='normal',activation='linear'))\n",
    "\n",
    "# Compile the network :\n",
    "NN_model2.compile(loss='mean_absolute_error', optimizer='adam', metrics=['mean_absolute_error'])\n",
    "NN_model2.summary()"
   ]
  },
  {
   "cell_type": "code",
   "execution_count": 43,
   "id": "recovered-wages",
   "metadata": {},
   "outputs": [],
   "source": [
    "checkpoint_name = 'Weights2-{epoch:03d}--{val_loss:.5f}.hdf5' \n",
    "checkpoint = ModelCheckpoint(checkpoint_name, monitor='val_loss', verbose = 1, save_best_only = True, mode ='auto')\n",
    "callbacks_list = [checkpoint]"
   ]
  },
  {
   "cell_type": "code",
   "execution_count": 44,
   "id": "skilled-cornwall",
   "metadata": {
    "scrolled": true
   },
   "outputs": [
    {
     "name": "stdout",
     "output_type": "stream",
     "text": [
      "Epoch 1/100\n",
      "7074/7074 [==============================] - 49s 5ms/step - loss: 4584.2657 - mean_absolute_error: 4584.2657 - val_loss: 2718.8591 - val_mean_absolute_error: 2718.8591\n",
      "\n",
      "Epoch 00001: val_loss improved from inf to 2718.85913, saving model to Weights2-001--2718.85913.hdf5\n",
      "Epoch 2/100\n",
      "7074/7074 [==============================] - 33s 5ms/step - loss: 3077.7041 - mean_absolute_error: 3077.7041 - val_loss: 3817.3386 - val_mean_absolute_error: 3817.3386\n",
      "\n",
      "Epoch 00002: val_loss did not improve from 2718.85913\n",
      "Epoch 3/100\n",
      "7074/7074 [==============================] - 34s 5ms/step - loss: 2922.0126 - mean_absolute_error: 2922.0126 - val_loss: 2730.6873 - val_mean_absolute_error: 2730.6873\n",
      "\n",
      "Epoch 00003: val_loss did not improve from 2718.85913\n",
      "Epoch 4/100\n",
      "7074/7074 [==============================] - 35s 5ms/step - loss: 2747.8672 - mean_absolute_error: 2747.8672 - val_loss: 3165.7571 - val_mean_absolute_error: 3165.7571\n",
      "\n",
      "Epoch 00004: val_loss did not improve from 2718.85913\n",
      "Epoch 5/100\n",
      "7074/7074 [==============================] - 37s 5ms/step - loss: 2828.8204 - mean_absolute_error: 2828.8204 - val_loss: 2341.6230 - val_mean_absolute_error: 2341.6230\n",
      "\n",
      "Epoch 00005: val_loss improved from 2718.85913 to 2341.62305, saving model to Weights2-005--2341.62305.hdf5\n",
      "Epoch 6/100\n",
      "7074/7074 [==============================] - 33s 5ms/step - loss: 2435.2181 - mean_absolute_error: 2435.2181 - val_loss: 2516.3296 - val_mean_absolute_error: 2516.3296\n",
      "\n",
      "Epoch 00006: val_loss did not improve from 2341.62305\n",
      "Epoch 7/100\n",
      "7074/7074 [==============================] - 36s 5ms/step - loss: 2256.8065 - mean_absolute_error: 2256.8065 - val_loss: 2612.3848 - val_mean_absolute_error: 2612.3848\n",
      "\n",
      "Epoch 00007: val_loss did not improve from 2341.62305\n",
      "Epoch 8/100\n",
      "7074/7074 [==============================] - 44s 6ms/step - loss: 2162.8619 - mean_absolute_error: 2162.8619 - val_loss: 1820.7122 - val_mean_absolute_error: 1820.7122\n",
      "\n",
      "Epoch 00008: val_loss improved from 2341.62305 to 1820.71216, saving model to Weights2-008--1820.71216.hdf5\n",
      "Epoch 9/100\n",
      "7074/7074 [==============================] - 38s 5ms/step - loss: 2161.8486 - mean_absolute_error: 2161.8486 - val_loss: 1907.7650 - val_mean_absolute_error: 1907.7650\n",
      "\n",
      "Epoch 00009: val_loss did not improve from 1820.71216\n",
      "Epoch 10/100\n",
      "7074/7074 [==============================] - 37s 5ms/step - loss: 2125.0172 - mean_absolute_error: 2125.0172 - val_loss: 2043.5205 - val_mean_absolute_error: 2043.5205\n",
      "\n",
      "Epoch 00010: val_loss did not improve from 1820.71216\n",
      "Epoch 11/100\n",
      "7074/7074 [==============================] - 38s 5ms/step - loss: 2146.0019 - mean_absolute_error: 2146.0019 - val_loss: 2028.1599 - val_mean_absolute_error: 2028.1599\n",
      "\n",
      "Epoch 00011: val_loss did not improve from 1820.71216\n",
      "Epoch 12/100\n",
      "7074/7074 [==============================] - 38s 5ms/step - loss: 2120.2038 - mean_absolute_error: 2120.2038 - val_loss: 2201.0281 - val_mean_absolute_error: 2201.0281\n",
      "\n",
      "Epoch 00012: val_loss did not improve from 1820.71216\n",
      "Epoch 13/100\n",
      "7074/7074 [==============================] - 38s 5ms/step - loss: 2056.3815 - mean_absolute_error: 2056.3815 - val_loss: 2010.8264 - val_mean_absolute_error: 2010.8264\n",
      "\n",
      "Epoch 00013: val_loss did not improve from 1820.71216\n",
      "Epoch 14/100\n",
      "7074/7074 [==============================] - 41s 6ms/step - loss: 2053.9226 - mean_absolute_error: 2053.9226 - val_loss: 1870.9707 - val_mean_absolute_error: 1870.9707\n",
      "\n",
      "Epoch 00014: val_loss did not improve from 1820.71216\n",
      "Epoch 15/100\n",
      "7074/7074 [==============================] - 39s 5ms/step - loss: 2051.8744 - mean_absolute_error: 2051.8744 - val_loss: 2173.9312 - val_mean_absolute_error: 2173.9312\n",
      "\n",
      "Epoch 00015: val_loss did not improve from 1820.71216\n",
      "Epoch 16/100\n",
      "7074/7074 [==============================] - 38s 5ms/step - loss: 1979.1167 - mean_absolute_error: 1979.1167 - val_loss: 2144.3997 - val_mean_absolute_error: 2144.3997\n",
      "\n",
      "Epoch 00016: val_loss did not improve from 1820.71216\n",
      "Epoch 17/100\n",
      "7074/7074 [==============================] - 38s 5ms/step - loss: 2074.1613 - mean_absolute_error: 2074.1613 - val_loss: 1924.2540 - val_mean_absolute_error: 1924.2540\n",
      "\n",
      "Epoch 00017: val_loss did not improve from 1820.71216\n",
      "Epoch 18/100\n",
      "7074/7074 [==============================] - 38s 5ms/step - loss: 2004.7325 - mean_absolute_error: 2004.7325 - val_loss: 2145.1196 - val_mean_absolute_error: 2145.1196\n",
      "\n",
      "Epoch 00018: val_loss did not improve from 1820.71216\n",
      "Epoch 19/100\n",
      "7074/7074 [==============================] - 38s 5ms/step - loss: 1915.3993 - mean_absolute_error: 1915.3993 - val_loss: 2501.2939 - val_mean_absolute_error: 2501.2939\n",
      "\n",
      "Epoch 00019: val_loss did not improve from 1820.71216\n",
      "Epoch 20/100\n",
      "7074/7074 [==============================] - 38s 5ms/step - loss: 1933.3794 - mean_absolute_error: 1933.3794 - val_loss: 1792.7930 - val_mean_absolute_error: 1792.7930\n",
      "\n",
      "Epoch 00020: val_loss improved from 1820.71216 to 1792.79297, saving model to Weights2-020--1792.79297.hdf5\n",
      "Epoch 21/100\n",
      "7074/7074 [==============================] - 39s 5ms/step - loss: 1910.9531 - mean_absolute_error: 1910.9531 - val_loss: 2169.8477 - val_mean_absolute_error: 2169.8477\n",
      "\n",
      "Epoch 00021: val_loss did not improve from 1792.79297\n",
      "Epoch 22/100\n",
      "7074/7074 [==============================] - 39s 6ms/step - loss: 1983.8554 - mean_absolute_error: 1983.8554 - val_loss: 1824.6434 - val_mean_absolute_error: 1824.6434\n",
      "\n",
      "Epoch 00022: val_loss did not improve from 1792.79297\n",
      "Epoch 23/100\n",
      "7074/7074 [==============================] - 38s 5ms/step - loss: 1943.0731 - mean_absolute_error: 1943.0731 - val_loss: 1865.5840 - val_mean_absolute_error: 1865.5840\n",
      "\n",
      "Epoch 00023: val_loss did not improve from 1792.79297\n",
      "Epoch 24/100\n",
      "7074/7074 [==============================] - 37s 5ms/step - loss: 1932.9770 - mean_absolute_error: 1932.9770 - val_loss: 1826.7896 - val_mean_absolute_error: 1826.7896\n",
      "\n",
      "Epoch 00024: val_loss did not improve from 1792.79297\n",
      "Epoch 25/100\n",
      "7074/7074 [==============================] - 39s 6ms/step - loss: 1908.9300 - mean_absolute_error: 1908.9300 - val_loss: 2013.8651 - val_mean_absolute_error: 2013.8651\n",
      "\n",
      "Epoch 00025: val_loss did not improve from 1792.79297\n",
      "Epoch 26/100\n",
      "7074/7074 [==============================] - 41s 6ms/step - loss: 1937.4011 - mean_absolute_error: 1937.4011 - val_loss: 2041.2367 - val_mean_absolute_error: 2041.2367\n",
      "\n",
      "Epoch 00026: val_loss did not improve from 1792.79297\n",
      "Epoch 27/100\n",
      "7074/7074 [==============================] - 38s 5ms/step - loss: 1888.0389 - mean_absolute_error: 1888.0389 - val_loss: 2341.4924 - val_mean_absolute_error: 2341.4924\n",
      "\n",
      "Epoch 00027: val_loss did not improve from 1792.79297\n",
      "Epoch 28/100\n",
      "7074/7074 [==============================] - 41s 6ms/step - loss: 1932.0636 - mean_absolute_error: 1932.0636 - val_loss: 1794.8562 - val_mean_absolute_error: 1794.8562\n",
      "\n",
      "Epoch 00028: val_loss did not improve from 1792.79297\n",
      "Epoch 29/100\n",
      "7074/7074 [==============================] - 40s 6ms/step - loss: 1938.9099 - mean_absolute_error: 1938.9099 - val_loss: 1772.3857 - val_mean_absolute_error: 1772.3857\n",
      "\n",
      "Epoch 00029: val_loss improved from 1792.79297 to 1772.38574, saving model to Weights2-029--1772.38574.hdf5\n",
      "Epoch 30/100\n",
      "7074/7074 [==============================] - 38s 5ms/step - loss: 1896.2855 - mean_absolute_error: 1896.2855 - val_loss: 1706.8326 - val_mean_absolute_error: 1706.8326\n",
      "\n",
      "Epoch 00030: val_loss improved from 1772.38574 to 1706.83264, saving model to Weights2-030--1706.83264.hdf5\n",
      "Epoch 31/100\n",
      "7074/7074 [==============================] - 39s 5ms/step - loss: 1877.1740 - mean_absolute_error: 1877.1740 - val_loss: 1708.0477 - val_mean_absolute_error: 1708.0477\n",
      "\n",
      "Epoch 00031: val_loss did not improve from 1706.83264\n",
      "Epoch 32/100\n",
      "7074/7074 [==============================] - 39s 6ms/step - loss: 1888.8134 - mean_absolute_error: 1888.8134 - val_loss: 2229.9473 - val_mean_absolute_error: 2229.9473\n",
      "\n",
      "Epoch 00032: val_loss did not improve from 1706.83264\n",
      "Epoch 33/100\n",
      "7074/7074 [==============================] - 39s 6ms/step - loss: 1866.8513 - mean_absolute_error: 1866.8513 - val_loss: 2838.9268 - val_mean_absolute_error: 2838.9268\n",
      "\n",
      "Epoch 00033: val_loss did not improve from 1706.83264\n",
      "Epoch 34/100\n",
      "7074/7074 [==============================] - 42s 6ms/step - loss: 1896.8036 - mean_absolute_error: 1896.8036 - val_loss: 1786.6927 - val_mean_absolute_error: 1786.6927\n",
      "\n",
      "Epoch 00034: val_loss did not improve from 1706.83264\n",
      "Epoch 35/100\n",
      "7074/7074 [==============================] - 38s 5ms/step - loss: 1847.3097 - mean_absolute_error: 1847.3097 - val_loss: 2124.9280 - val_mean_absolute_error: 2124.9280\n",
      "\n",
      "Epoch 00035: val_loss did not improve from 1706.83264\n",
      "Epoch 36/100\n",
      "7074/7074 [==============================] - 39s 6ms/step - loss: 1825.3534 - mean_absolute_error: 1825.3534 - val_loss: 2101.5603 - val_mean_absolute_error: 2101.5603\n",
      "\n",
      "Epoch 00036: val_loss did not improve from 1706.83264\n",
      "Epoch 37/100\n",
      "7074/7074 [==============================] - 51s 7ms/step - loss: 1820.4020 - mean_absolute_error: 1820.4020 - val_loss: 1749.5693 - val_mean_absolute_error: 1749.5693\n",
      "\n",
      "Epoch 00037: val_loss did not improve from 1706.83264\n",
      "Epoch 38/100\n",
      "7074/7074 [==============================] - 47s 7ms/step - loss: 1848.1280 - mean_absolute_error: 1848.1280 - val_loss: 1999.5504 - val_mean_absolute_error: 1999.5504\n",
      "\n",
      "Epoch 00038: val_loss did not improve from 1706.83264\n",
      "Epoch 39/100\n",
      "7074/7074 [==============================] - 42s 6ms/step - loss: 1860.4194 - mean_absolute_error: 1860.4194 - val_loss: 1884.5427 - val_mean_absolute_error: 1884.5427\n",
      "\n",
      "Epoch 00039: val_loss did not improve from 1706.83264\n",
      "Epoch 40/100\n",
      "7074/7074 [==============================] - 40s 6ms/step - loss: 1868.8810 - mean_absolute_error: 1868.8810 - val_loss: 1957.6932 - val_mean_absolute_error: 1957.6932\n",
      "\n",
      "Epoch 00040: val_loss did not improve from 1706.83264\n",
      "Epoch 41/100\n",
      "7074/7074 [==============================] - 44s 6ms/step - loss: 1813.8339 - mean_absolute_error: 1813.8339 - val_loss: 1731.2208 - val_mean_absolute_error: 1731.2208\n",
      "\n",
      "Epoch 00041: val_loss did not improve from 1706.83264\n",
      "Epoch 42/100\n",
      "7074/7074 [==============================] - 36s 5ms/step - loss: 1790.7381 - mean_absolute_error: 1790.7381 - val_loss: 1642.9346 - val_mean_absolute_error: 1642.9346\n",
      "\n",
      "Epoch 00042: val_loss improved from 1706.83264 to 1642.93457, saving model to Weights2-042--1642.93457.hdf5\n",
      "Epoch 43/100\n",
      "7074/7074 [==============================] - 42s 6ms/step - loss: 1795.6241 - mean_absolute_error: 1795.6241 - val_loss: 1648.1455 - val_mean_absolute_error: 1648.1455\n",
      "\n",
      "Epoch 00043: val_loss did not improve from 1642.93457\n",
      "Epoch 44/100\n",
      "7074/7074 [==============================] - 45s 6ms/step - loss: 1799.0599 - mean_absolute_error: 1799.0599 - val_loss: 1942.3672 - val_mean_absolute_error: 1942.3672\n",
      "\n",
      "Epoch 00044: val_loss did not improve from 1642.93457\n",
      "Epoch 45/100\n",
      "7074/7074 [==============================] - 40s 6ms/step - loss: 1851.3374 - mean_absolute_error: 1851.3374 - val_loss: 1688.4933 - val_mean_absolute_error: 1688.4933\n",
      "\n",
      "Epoch 00045: val_loss did not improve from 1642.93457\n",
      "Epoch 46/100\n",
      "7074/7074 [==============================] - 44s 6ms/step - loss: 1817.3808 - mean_absolute_error: 1817.3808 - val_loss: 1812.5573 - val_mean_absolute_error: 1812.5573\n",
      "\n",
      "Epoch 00046: val_loss did not improve from 1642.93457\n",
      "Epoch 47/100\n",
      "7074/7074 [==============================] - 41s 6ms/step - loss: 1820.8424 - mean_absolute_error: 1820.8424 - val_loss: 1623.9630 - val_mean_absolute_error: 1623.9630\n",
      "\n",
      "Epoch 00047: val_loss improved from 1642.93457 to 1623.96301, saving model to Weights2-047--1623.96301.hdf5\n",
      "Epoch 48/100\n",
      "7074/7074 [==============================] - 38s 5ms/step - loss: 1749.9182 - mean_absolute_error: 1749.9182 - val_loss: 1696.7319 - val_mean_absolute_error: 1696.7319\n",
      "\n",
      "Epoch 00048: val_loss did not improve from 1623.96301\n",
      "Epoch 49/100\n",
      "7074/7074 [==============================] - 36s 5ms/step - loss: 1777.3349 - mean_absolute_error: 1777.3349 - val_loss: 1801.3928 - val_mean_absolute_error: 1801.3928\n",
      "\n",
      "Epoch 00049: val_loss did not improve from 1623.96301\n",
      "Epoch 50/100\n",
      "7074/7074 [==============================] - 40s 6ms/step - loss: 1749.8937 - mean_absolute_error: 1749.8937 - val_loss: 1696.4622 - val_mean_absolute_error: 1696.4622\n",
      "\n",
      "Epoch 00050: val_loss did not improve from 1623.96301\n",
      "Epoch 51/100\n",
      "7074/7074 [==============================] - 33s 5ms/step - loss: 1814.4406 - mean_absolute_error: 1814.4406 - val_loss: 1705.9083 - val_mean_absolute_error: 1705.9083\n",
      "\n",
      "Epoch 00051: val_loss did not improve from 1623.96301\n",
      "Epoch 52/100\n",
      "7074/7074 [==============================] - 35s 5ms/step - loss: 1779.2000 - mean_absolute_error: 1779.2000 - val_loss: 1702.5764 - val_mean_absolute_error: 1702.5764\n",
      "\n",
      "Epoch 00052: val_loss did not improve from 1623.96301\n",
      "Epoch 53/100\n",
      "7074/7074 [==============================] - 38s 5ms/step - loss: 1771.2989 - mean_absolute_error: 1771.2989 - val_loss: 1686.1591 - val_mean_absolute_error: 1686.1591\n",
      "\n",
      "Epoch 00053: val_loss did not improve from 1623.96301\n",
      "Epoch 54/100\n",
      "7074/7074 [==============================] - 37s 5ms/step - loss: 1786.3295 - mean_absolute_error: 1786.3295 - val_loss: 1926.3212 - val_mean_absolute_error: 1926.3212\n",
      "\n",
      "Epoch 00054: val_loss did not improve from 1623.96301\n",
      "Epoch 55/100\n",
      "7074/7074 [==============================] - 36s 5ms/step - loss: 1830.0449 - mean_absolute_error: 1830.0449 - val_loss: 1750.2814 - val_mean_absolute_error: 1750.2814\n",
      "\n",
      "Epoch 00055: val_loss did not improve from 1623.96301\n",
      "Epoch 56/100\n",
      "7074/7074 [==============================] - 37s 5ms/step - loss: 1790.2517 - mean_absolute_error: 1790.2517 - val_loss: 1659.8446 - val_mean_absolute_error: 1659.8446\n",
      "\n",
      "Epoch 00056: val_loss did not improve from 1623.96301\n",
      "Epoch 57/100\n",
      "7074/7074 [==============================] - 39s 6ms/step - loss: 1771.0652 - mean_absolute_error: 1771.0652 - val_loss: 1695.9727 - val_mean_absolute_error: 1695.9727\n",
      "\n",
      "Epoch 00057: val_loss did not improve from 1623.96301\n",
      "Epoch 58/100\n",
      "7074/7074 [==============================] - 37s 5ms/step - loss: 1733.7390 - mean_absolute_error: 1733.7390 - val_loss: 1716.6201 - val_mean_absolute_error: 1716.6201\n",
      "\n",
      "Epoch 00058: val_loss did not improve from 1623.96301\n",
      "Epoch 59/100\n",
      "7074/7074 [==============================] - 38s 5ms/step - loss: 1743.7887 - mean_absolute_error: 1743.7887 - val_loss: 1653.7665 - val_mean_absolute_error: 1653.7665\n",
      "\n",
      "Epoch 00059: val_loss did not improve from 1623.96301\n",
      "Epoch 60/100\n",
      "7074/7074 [==============================] - 33s 5ms/step - loss: 1798.1843 - mean_absolute_error: 1798.1843 - val_loss: 1653.1692 - val_mean_absolute_error: 1653.1692\n",
      "\n",
      "Epoch 00060: val_loss did not improve from 1623.96301\n",
      "Epoch 61/100\n",
      "7074/7074 [==============================] - 36s 5ms/step - loss: 1749.9472 - mean_absolute_error: 1749.9472 - val_loss: 1606.4872 - val_mean_absolute_error: 1606.4872\n",
      "\n",
      "Epoch 00061: val_loss improved from 1623.96301 to 1606.48718, saving model to Weights2-061--1606.48718.hdf5\n",
      "Epoch 62/100\n",
      "7074/7074 [==============================] - 36s 5ms/step - loss: 1754.5721 - mean_absolute_error: 1754.5721 - val_loss: 1641.5652 - val_mean_absolute_error: 1641.5652\n",
      "\n",
      "Epoch 00062: val_loss did not improve from 1606.48718\n",
      "Epoch 63/100\n",
      "7074/7074 [==============================] - 36s 5ms/step - loss: 1726.5077 - mean_absolute_error: 1726.5077 - val_loss: 1650.0182 - val_mean_absolute_error: 1650.0182\n",
      "\n",
      "Epoch 00063: val_loss did not improve from 1606.48718\n",
      "Epoch 64/100\n",
      "7074/7074 [==============================] - 36s 5ms/step - loss: 1731.2452 - mean_absolute_error: 1731.2452 - val_loss: 1772.6342 - val_mean_absolute_error: 1772.6342\n",
      "\n",
      "Epoch 00064: val_loss did not improve from 1606.48718\n",
      "Epoch 65/100\n",
      "7074/7074 [==============================] - 37s 5ms/step - loss: 1714.3928 - mean_absolute_error: 1714.3928 - val_loss: 1610.3711 - val_mean_absolute_error: 1610.3711\n",
      "\n",
      "Epoch 00065: val_loss did not improve from 1606.48718\n",
      "Epoch 66/100\n",
      "7074/7074 [==============================] - 36s 5ms/step - loss: 1684.6012 - mean_absolute_error: 1684.6012 - val_loss: 1627.2012 - val_mean_absolute_error: 1627.2012\n",
      "\n",
      "Epoch 00066: val_loss did not improve from 1606.48718\n",
      "Epoch 67/100\n",
      "7074/7074 [==============================] - 37s 5ms/step - loss: 1714.8303 - mean_absolute_error: 1714.8303 - val_loss: 1799.6622 - val_mean_absolute_error: 1799.6622\n",
      "\n",
      "Epoch 00067: val_loss did not improve from 1606.48718\n",
      "Epoch 68/100\n"
     ]
    },
    {
     "name": "stdout",
     "output_type": "stream",
     "text": [
      "7074/7074 [==============================] - 36s 5ms/step - loss: 1739.2331 - mean_absolute_error: 1739.2331 - val_loss: 1596.9950 - val_mean_absolute_error: 1596.9950\n",
      "\n",
      "Epoch 00068: val_loss improved from 1606.48718 to 1596.99500, saving model to Weights2-068--1596.99500.hdf5\n",
      "Epoch 69/100\n",
      "7074/7074 [==============================] - 36s 5ms/step - loss: 1732.8612 - mean_absolute_error: 1732.8612 - val_loss: 1680.7301 - val_mean_absolute_error: 1680.7301\n",
      "\n",
      "Epoch 00069: val_loss did not improve from 1596.99500\n",
      "Epoch 70/100\n",
      "7074/7074 [==============================] - 37s 5ms/step - loss: 1693.6580 - mean_absolute_error: 1693.6580 - val_loss: 1796.2682 - val_mean_absolute_error: 1796.2682\n",
      "\n",
      "Epoch 00070: val_loss did not improve from 1596.99500\n",
      "Epoch 71/100\n",
      "7074/7074 [==============================] - 37s 5ms/step - loss: 1744.5554 - mean_absolute_error: 1744.5554 - val_loss: 1641.7367 - val_mean_absolute_error: 1641.7367\n",
      "\n",
      "Epoch 00071: val_loss did not improve from 1596.99500\n",
      "Epoch 72/100\n",
      "7074/7074 [==============================] - 36s 5ms/step - loss: 1732.2398 - mean_absolute_error: 1732.2398 - val_loss: 1602.0710 - val_mean_absolute_error: 1602.0710\n",
      "\n",
      "Epoch 00072: val_loss did not improve from 1596.99500\n",
      "Epoch 73/100\n",
      "7074/7074 [==============================] - 37s 5ms/step - loss: 1715.0470 - mean_absolute_error: 1715.0470 - val_loss: 1639.5206 - val_mean_absolute_error: 1639.5206\n",
      "\n",
      "Epoch 00073: val_loss did not improve from 1596.99500\n",
      "Epoch 74/100\n",
      "7074/7074 [==============================] - 37s 5ms/step - loss: 1693.4604 - mean_absolute_error: 1693.4604 - val_loss: 1756.0336 - val_mean_absolute_error: 1756.0336\n",
      "\n",
      "Epoch 00074: val_loss did not improve from 1596.99500\n",
      "Epoch 75/100\n",
      "7074/7074 [==============================] - 36s 5ms/step - loss: 1689.2723 - mean_absolute_error: 1689.2723 - val_loss: 1615.9542 - val_mean_absolute_error: 1615.9542\n",
      "\n",
      "Epoch 00075: val_loss did not improve from 1596.99500\n",
      "Epoch 76/100\n",
      "7074/7074 [==============================] - 35s 5ms/step - loss: 1758.9132 - mean_absolute_error: 1758.9132 - val_loss: 1733.3048 - val_mean_absolute_error: 1733.3048\n",
      "\n",
      "Epoch 00076: val_loss did not improve from 1596.99500\n",
      "Epoch 77/100\n",
      "7074/7074 [==============================] - 35s 5ms/step - loss: 1697.3613 - mean_absolute_error: 1697.3613 - val_loss: 1598.8607 - val_mean_absolute_error: 1598.8607\n",
      "\n",
      "Epoch 00077: val_loss did not improve from 1596.99500\n",
      "Epoch 78/100\n",
      "7074/7074 [==============================] - 34s 5ms/step - loss: 1620.6086 - mean_absolute_error: 1620.6086 - val_loss: 1560.1879 - val_mean_absolute_error: 1560.1879\n",
      "\n",
      "Epoch 00078: val_loss improved from 1596.99500 to 1560.18787, saving model to Weights2-078--1560.18787.hdf5\n",
      "Epoch 79/100\n",
      "7074/7074 [==============================] - 34s 5ms/step - loss: 1705.9621 - mean_absolute_error: 1705.9621 - val_loss: 1740.5216 - val_mean_absolute_error: 1740.5216\n",
      "\n",
      "Epoch 00079: val_loss did not improve from 1560.18787\n",
      "Epoch 80/100\n",
      "7074/7074 [==============================] - 34s 5ms/step - loss: 1709.3680 - mean_absolute_error: 1709.3680 - val_loss: 1566.5811 - val_mean_absolute_error: 1566.5811\n",
      "\n",
      "Epoch 00080: val_loss did not improve from 1560.18787\n",
      "Epoch 81/100\n",
      "7074/7074 [==============================] - 35s 5ms/step - loss: 1675.0514 - mean_absolute_error: 1675.0514 - val_loss: 1573.0518 - val_mean_absolute_error: 1573.0518\n",
      "\n",
      "Epoch 00081: val_loss did not improve from 1560.18787\n",
      "Epoch 82/100\n",
      "7074/7074 [==============================] - 36s 5ms/step - loss: 1667.2517 - mean_absolute_error: 1667.2517 - val_loss: 1568.1147 - val_mean_absolute_error: 1568.1147\n",
      "\n",
      "Epoch 00082: val_loss did not improve from 1560.18787\n",
      "Epoch 83/100\n",
      "7074/7074 [==============================] - 35s 5ms/step - loss: 1663.3846 - mean_absolute_error: 1663.3846 - val_loss: 1528.7455 - val_mean_absolute_error: 1528.7455\n",
      "\n",
      "Epoch 00083: val_loss improved from 1560.18787 to 1528.74548, saving model to Weights2-083--1528.74548.hdf5\n",
      "Epoch 84/100\n",
      "7074/7074 [==============================] - 36s 5ms/step - loss: 1687.8812 - mean_absolute_error: 1687.8812 - val_loss: 1837.1838 - val_mean_absolute_error: 1837.1838\n",
      "\n",
      "Epoch 00084: val_loss did not improve from 1528.74548\n",
      "Epoch 85/100\n",
      "7074/7074 [==============================] - 35s 5ms/step - loss: 1613.3471 - mean_absolute_error: 1613.3471 - val_loss: 1681.7545 - val_mean_absolute_error: 1681.7545\n",
      "\n",
      "Epoch 00085: val_loss did not improve from 1528.74548\n",
      "Epoch 86/100\n",
      "7074/7074 [==============================] - 37s 5ms/step - loss: 1675.5703 - mean_absolute_error: 1675.5703 - val_loss: 1833.3812 - val_mean_absolute_error: 1833.3812\n",
      "\n",
      "Epoch 00086: val_loss did not improve from 1528.74548\n",
      "Epoch 87/100\n",
      "7074/7074 [==============================] - 35s 5ms/step - loss: 1731.1742 - mean_absolute_error: 1731.1742 - val_loss: 1566.8398 - val_mean_absolute_error: 1566.8398\n",
      "\n",
      "Epoch 00087: val_loss did not improve from 1528.74548\n",
      "Epoch 88/100\n",
      "7074/7074 [==============================] - 35s 5ms/step - loss: 1670.5808 - mean_absolute_error: 1670.5808 - val_loss: 1578.9287 - val_mean_absolute_error: 1578.9287\n",
      "\n",
      "Epoch 00088: val_loss did not improve from 1528.74548\n",
      "Epoch 89/100\n",
      "7074/7074 [==============================] - 35s 5ms/step - loss: 1636.0691 - mean_absolute_error: 1636.0691 - val_loss: 1766.5515 - val_mean_absolute_error: 1766.5515\n",
      "\n",
      "Epoch 00089: val_loss did not improve from 1528.74548\n",
      "Epoch 90/100\n",
      "7074/7074 [==============================] - 34s 5ms/step - loss: 1703.5732 - mean_absolute_error: 1703.5732 - val_loss: 1631.8906 - val_mean_absolute_error: 1631.8906\n",
      "\n",
      "Epoch 00090: val_loss did not improve from 1528.74548\n",
      "Epoch 91/100\n",
      "7074/7074 [==============================] - 35s 5ms/step - loss: 1610.2500 - mean_absolute_error: 1610.2500 - val_loss: 1649.7590 - val_mean_absolute_error: 1649.7590\n",
      "\n",
      "Epoch 00091: val_loss did not improve from 1528.74548\n",
      "Epoch 92/100\n",
      "7074/7074 [==============================] - 39s 6ms/step - loss: 1659.5808 - mean_absolute_error: 1659.5808 - val_loss: 1683.7784 - val_mean_absolute_error: 1683.7784\n",
      "\n",
      "Epoch 00092: val_loss did not improve from 1528.74548\n",
      "Epoch 93/100\n",
      "7074/7074 [==============================] - 36s 5ms/step - loss: 1659.3908 - mean_absolute_error: 1659.3908 - val_loss: 1562.7377 - val_mean_absolute_error: 1562.7377\n",
      "\n",
      "Epoch 00093: val_loss did not improve from 1528.74548\n",
      "Epoch 94/100\n",
      "7074/7074 [==============================] - 35s 5ms/step - loss: 1655.0713 - mean_absolute_error: 1655.0713 - val_loss: 1563.4429 - val_mean_absolute_error: 1563.4429\n",
      "\n",
      "Epoch 00094: val_loss did not improve from 1528.74548\n",
      "Epoch 95/100\n",
      "7074/7074 [==============================] - 36s 5ms/step - loss: 1629.5763 - mean_absolute_error: 1629.5763 - val_loss: 1710.1085 - val_mean_absolute_error: 1710.1085\n",
      "\n",
      "Epoch 00095: val_loss did not improve from 1528.74548\n",
      "Epoch 96/100\n",
      "7074/7074 [==============================] - 60s 9ms/step - loss: 1593.7011 - mean_absolute_error: 1593.7011 - val_loss: 1587.7670 - val_mean_absolute_error: 1587.7670\n",
      "\n",
      "Epoch 00096: val_loss did not improve from 1528.74548\n",
      "Epoch 97/100\n",
      "7074/7074 [==============================] - 65s 9ms/step - loss: 1680.4704 - mean_absolute_error: 1680.4704 - val_loss: 1678.1921 - val_mean_absolute_error: 1678.1921\n",
      "\n",
      "Epoch 00097: val_loss did not improve from 1528.74548\n",
      "Epoch 98/100\n",
      "7074/7074 [==============================] - 68s 10ms/step - loss: 1586.1742 - mean_absolute_error: 1586.1742 - val_loss: 1510.2946 - val_mean_absolute_error: 1510.2946\n",
      "\n",
      "Epoch 00098: val_loss improved from 1528.74548 to 1510.29456, saving model to Weights2-098--1510.29456.hdf5\n",
      "Epoch 99/100\n",
      "7074/7074 [==============================] - 70s 10ms/step - loss: 1582.9304 - mean_absolute_error: 1582.9304 - val_loss: 1633.5911 - val_mean_absolute_error: 1633.5911\n",
      "\n",
      "Epoch 00099: val_loss did not improve from 1510.29456\n",
      "Epoch 100/100\n",
      "7074/7074 [==============================] - 70s 10ms/step - loss: 1560.0922 - mean_absolute_error: 1560.0922 - val_loss: 1611.7719 - val_mean_absolute_error: 1611.7719\n",
      "\n",
      "Epoch 00100: val_loss did not improve from 1510.29456\n"
     ]
    },
    {
     "data": {
      "text/plain": [
       "<keras.callbacks.History at 0x1f67cfc1548>"
      ]
     },
     "execution_count": 44,
     "metadata": {},
     "output_type": "execute_result"
    }
   ],
   "source": [
    "NN_model2.fit(X_train, y_train, epochs=100, batch_size=32, validation_split = 0.2, callbacks=callbacks_list)"
   ]
  },
  {
   "cell_type": "code",
   "execution_count": 15,
   "id": "colonial-deployment",
   "metadata": {},
   "outputs": [],
   "source": [
    "NN_model3=NN_model2"
   ]
  },
  {
   "cell_type": "code",
   "execution_count": 16,
   "id": "derived-basketball",
   "metadata": {},
   "outputs": [],
   "source": [
    "NN_model3.load_weights('Weights3-024--1492.01099.hdf5')"
   ]
  },
  {
   "cell_type": "code",
   "execution_count": 48,
   "id": "equivalent-freedom",
   "metadata": {},
   "outputs": [],
   "source": [
    "checkpoint_name = 'Weights3-{epoch:03d}--{val_loss:.5f}.hdf5' \n",
    "checkpoint = ModelCheckpoint(checkpoint_name, monitor='val_loss', verbose = 1, save_best_only = True, mode ='auto')\n",
    "callbacks_list = [checkpoint]"
   ]
  },
  {
   "cell_type": "code",
   "execution_count": 49,
   "id": "sophisticated-yorkshire",
   "metadata": {
    "scrolled": true
   },
   "outputs": [
    {
     "name": "stdout",
     "output_type": "stream",
     "text": [
      "Epoch 1/100\n",
      "7074/7074 [==============================] - 82s 12ms/step - loss: 1632.8540 - mean_absolute_error: 1632.8540 - val_loss: 1611.9817 - val_mean_absolute_error: 1611.9817\n",
      "\n",
      "Epoch 00001: val_loss improved from inf to 1611.98169, saving model to Weights3-001--1611.98169.hdf5\n",
      "Epoch 2/100\n",
      "7074/7074 [==============================] - 70s 10ms/step - loss: 1638.5865 - mean_absolute_error: 1638.5865 - val_loss: 1555.3187 - val_mean_absolute_error: 1555.3187\n",
      "\n",
      "Epoch 00002: val_loss improved from 1611.98169 to 1555.31873, saving model to Weights3-002--1555.31873.hdf5\n",
      "Epoch 3/100\n",
      "7074/7074 [==============================] - 70s 10ms/step - loss: 1639.6790 - mean_absolute_error: 1639.6790 - val_loss: 1509.6558 - val_mean_absolute_error: 1509.6558\n",
      "\n",
      "Epoch 00003: val_loss improved from 1555.31873 to 1509.65576, saving model to Weights3-003--1509.65576.hdf5\n",
      "Epoch 4/100\n",
      "7074/7074 [==============================] - 75s 11ms/step - loss: 1627.3098 - mean_absolute_error: 1627.3098 - val_loss: 1627.0819 - val_mean_absolute_error: 1627.0819\n",
      "\n",
      "Epoch 00004: val_loss did not improve from 1509.65576\n",
      "Epoch 5/100\n",
      "7074/7074 [==============================] - 96s 14ms/step - loss: 1618.9368 - mean_absolute_error: 1618.9368 - val_loss: 1642.1993 - val_mean_absolute_error: 1642.1993\n",
      "\n",
      "Epoch 00005: val_loss did not improve from 1509.65576\n",
      "Epoch 6/100\n",
      "7074/7074 [==============================] - 94s 13ms/step - loss: 1629.4868 - mean_absolute_error: 1629.4868 - val_loss: 1639.0851 - val_mean_absolute_error: 1639.0851\n",
      "\n",
      "Epoch 00006: val_loss did not improve from 1509.65576\n",
      "Epoch 7/100\n",
      "7074/7074 [==============================] - 103s 15ms/step - loss: 1620.2548 - mean_absolute_error: 1620.2548 - val_loss: 1544.5422 - val_mean_absolute_error: 1544.5422\n",
      "\n",
      "Epoch 00007: val_loss did not improve from 1509.65576\n",
      "Epoch 8/100\n",
      "7074/7074 [==============================] - 92s 13ms/step - loss: 1616.7872 - mean_absolute_error: 1616.7872 - val_loss: 1582.5206 - val_mean_absolute_error: 1582.5206 mean_absolute - ETA: 2s - loss: 1623.1996 - mean_absolute_error: 16 - ETA: 2s - los - ETA: 0s - loss: 1616.2704 - mean_absolute_error: 161\n",
      "\n",
      "Epoch 00008: val_loss did not improve from 1509.65576\n",
      "Epoch 9/100\n",
      "7074/7074 [==============================] - 95s 13ms/step - loss: 1618.7842 - mean_absolute_error: 1618.7842 - val_loss: 1617.2676 - val_mean_absolute_error: 1617.2676\n",
      "\n",
      "Epoch 00009: val_loss did not improve from 1509.65576\n",
      "Epoch 10/100\n",
      "7074/7074 [==============================] - 86s 12ms/step - loss: 1619.2731 - mean_absolute_error: 1619.2731 - val_loss: 1538.5304 - val_mean_absolute_error: 1538.5304\n",
      "\n",
      "Epoch 00010: val_loss did not improve from 1509.65576\n",
      "Epoch 11/100\n",
      "7074/7074 [==============================] - 92s 13ms/step - loss: 1625.9486 - mean_absolute_error: 1625.9486 - val_loss: 1539.5579 - val_mean_absolute_error: 1539.5579\n",
      "\n",
      "Epoch 00011: val_loss did not improve from 1509.65576\n",
      "Epoch 12/100\n",
      "7074/7074 [==============================] - 82s 12ms/step - loss: 1624.2130 - mean_absolute_error: 1624.2130 - val_loss: 1649.1371 - val_mean_absolute_error: 1649.1371\n",
      "\n",
      "Epoch 00012: val_loss did not improve from 1509.65576\n",
      "Epoch 13/100\n",
      "7074/7074 [==============================] - 79s 11ms/step - loss: 1616.0939 - mean_absolute_error: 1616.0939 - val_loss: 1501.6421 - val_mean_absolute_error: 1501.6421\n",
      "\n",
      "Epoch 00013: val_loss improved from 1509.65576 to 1501.64209, saving model to Weights3-013--1501.64209.hdf5\n",
      "Epoch 14/100\n",
      "7074/7074 [==============================] - 83s 12ms/step - loss: 1612.7734 - mean_absolute_error: 1612.7734 - val_loss: 1576.6027 - val_mean_absolute_error: 1576.6027\n",
      "\n",
      "Epoch 00014: val_loss did not improve from 1501.64209\n",
      "Epoch 15/100\n",
      "7074/7074 [==============================] - 86s 12ms/step - loss: 1609.8546 - mean_absolute_error: 1609.8546 - val_loss: 1532.2061 - val_mean_absolute_error: 1532.2061\n",
      "\n",
      "Epoch 00015: val_loss did not improve from 1501.64209\n",
      "Epoch 16/100\n",
      "7074/7074 [==============================] - 80s 11ms/step - loss: 1610.3633 - mean_absolute_error: 1610.3633 - val_loss: 1718.6505 - val_mean_absolute_error: 1718.6505\n",
      "\n",
      "Epoch 00016: val_loss did not improve from 1501.64209\n",
      "Epoch 17/100\n",
      "7074/7074 [==============================] - 83s 12ms/step - loss: 1601.6006 - mean_absolute_error: 1601.6006 - val_loss: 1540.2168 - val_mean_absolute_error: 1540.2168\n",
      "\n",
      "Epoch 00017: val_loss did not improve from 1501.64209\n",
      "Epoch 18/100\n",
      "7074/7074 [==============================] - 85s 12ms/step - loss: 1612.5106 - mean_absolute_error: 1612.5106 - val_loss: 1517.5496 - val_mean_absolute_error: 1517.5496\n",
      "\n",
      "Epoch 00018: val_loss did not improve from 1501.64209\n",
      "Epoch 19/100\n",
      "7074/7074 [==============================] - 85s 12ms/step - loss: 1592.6503 - mean_absolute_error: 1592.6503 - val_loss: 1613.4822 - val_mean_absolute_error: 1613.4822\n",
      "\n",
      "Epoch 00019: val_loss did not improve from 1501.64209\n",
      "Epoch 20/100\n",
      "7074/7074 [==============================] - 80s 11ms/step - loss: 1595.2697 - mean_absolute_error: 1595.2697 - val_loss: 1516.2902 - val_mean_absolute_error: 1516.2902\n",
      "\n",
      "Epoch 00020: val_loss did not improve from 1501.64209\n",
      "Epoch 21/100\n",
      "7074/7074 [==============================] - 84s 12ms/step - loss: 1597.9984 - mean_absolute_error: 1597.9984 - val_loss: 1613.7015 - val_mean_absolute_error: 1613.7015\n",
      "\n",
      "Epoch 00021: val_loss did not improve from 1501.64209\n",
      "Epoch 22/100\n",
      "7074/7074 [==============================] - 79s 11ms/step - loss: 1596.7412 - mean_absolute_error: 1596.7412 - val_loss: 1586.8561 - val_mean_absolute_error: 1586.8561\n",
      "\n",
      "Epoch 00022: val_loss did not improve from 1501.64209\n",
      "Epoch 23/100\n",
      "7074/7074 [==============================] - 75s 11ms/step - loss: 1599.1372 - mean_absolute_error: 1599.1372 - val_loss: 1562.6208 - val_mean_absolute_error: 1562.6208\n",
      "\n",
      "Epoch 00023: val_loss did not improve from 1501.64209\n",
      "Epoch 24/100\n",
      "7074/7074 [==============================] - 73s 10ms/step - loss: 1594.7974 - mean_absolute_error: 1594.7974 - val_loss: 1492.0110 - val_mean_absolute_error: 1492.0110\n",
      "\n",
      "Epoch 00024: val_loss improved from 1501.64209 to 1492.01099, saving model to Weights3-024--1492.01099.hdf5\n",
      "Epoch 25/100\n",
      "7074/7074 [==============================] - 73s 10ms/step - loss: 1595.7795 - mean_absolute_error: 1595.7795 - val_loss: 1596.2756 - val_mean_absolute_error: 1596.2756\n",
      "\n",
      "Epoch 00025: val_loss did not improve from 1492.01099\n",
      "Epoch 26/100\n",
      "7074/7074 [==============================] - 74s 10ms/step - loss: 1594.7308 - mean_absolute_error: 1594.7308 - val_loss: 1566.6639 - val_mean_absolute_error: 1566.6639\n",
      "\n",
      "Epoch 00026: val_loss did not improve from 1492.01099\n",
      "Epoch 27/100\n",
      "7074/7074 [==============================] - 76s 11ms/step - loss: 1582.8499 - mean_absolute_error: 1582.8499 - val_loss: 1504.1766 - val_mean_absolute_error: 1504.1766\n",
      "\n",
      "Epoch 00027: val_loss did not improve from 1492.01099\n",
      "Epoch 28/100\n",
      "7074/7074 [==============================] - 76s 11ms/step - loss: 1585.2706 - mean_absolute_error: 1585.2706 - val_loss: 1542.4567 - val_mean_absolute_error: 1542.4567\n",
      "\n",
      "Epoch 00028: val_loss did not improve from 1492.01099\n",
      "Epoch 29/100\n",
      "7074/7074 [==============================] - 76s 11ms/step - loss: 1594.3882 - mean_absolute_error: 1594.3882 - val_loss: 1502.3381 - val_mean_absolute_error: 1502.3381\n",
      "\n",
      "Epoch 00029: val_loss did not improve from 1492.01099\n",
      "Epoch 30/100\n",
      "7074/7074 [==============================] - 72s 10ms/step - loss: 1592.0026 - mean_absolute_error: 1592.0026 - val_loss: 1722.1323 - val_mean_absolute_error: 1722.1323\n",
      "\n",
      "Epoch 00030: val_loss did not improve from 1492.01099\n",
      "Epoch 31/100\n",
      "7074/7074 [==============================] - 75s 11ms/step - loss: 1582.2705 - mean_absolute_error: 1582.2705 - val_loss: 1507.1130 - val_mean_absolute_error: 1507.1130\n",
      "\n",
      "Epoch 00031: val_loss did not improve from 1492.01099\n",
      "Epoch 32/100\n",
      "7074/7074 [==============================] - 71s 10ms/step - loss: 1586.2460 - mean_absolute_error: 1586.2460 - val_loss: 1546.4872 - val_mean_absolute_error: 1546.4872\n",
      "\n",
      "Epoch 00032: val_loss did not improve from 1492.01099\n",
      "Epoch 33/100\n",
      "7074/7074 [==============================] - 74s 11ms/step - loss: 1593.3928 - mean_absolute_error: 1593.3928 - val_loss: 1648.5736 - val_mean_absolute_error: 1648.5736\n",
      "\n",
      "Epoch 00033: val_loss did not improve from 1492.01099\n",
      "Epoch 34/100\n"
     ]
    },
    {
     "name": "stdout",
     "output_type": "stream",
     "text": [
      "7074/7074 [==============================] - 1469s 208ms/step - loss: 1571.1670 - mean_absolute_error: 1571.1670 - val_loss: 1541.1080 - val_mean_absolute_error: 1541.1080\n",
      "\n",
      "Epoch 00034: val_loss did not improve from 1492.01099\n",
      "Epoch 35/100\n",
      "5395/7074 [=====================>........] - ETA: 9s - loss: 1567.9802 - mean_absolute_error: 1567.9802"
     ]
    },
    {
     "ename": "KeyboardInterrupt",
     "evalue": "",
     "output_type": "error",
     "traceback": [
      "\u001b[1;31m---------------------------------------------------------------------------\u001b[0m",
      "\u001b[1;31mKeyboardInterrupt\u001b[0m                         Traceback (most recent call last)",
      "\u001b[1;32m<ipython-input-49-a7b2a565e739>\u001b[0m in \u001b[0;36m<module>\u001b[1;34m\u001b[0m\n\u001b[1;32m----> 1\u001b[1;33m \u001b[0mNN_model3\u001b[0m\u001b[1;33m.\u001b[0m\u001b[0mfit\u001b[0m\u001b[1;33m(\u001b[0m\u001b[0mX_train\u001b[0m\u001b[1;33m,\u001b[0m \u001b[0my_train\u001b[0m\u001b[1;33m,\u001b[0m \u001b[0mepochs\u001b[0m\u001b[1;33m=\u001b[0m\u001b[1;36m100\u001b[0m\u001b[1;33m,\u001b[0m \u001b[0mbatch_size\u001b[0m\u001b[1;33m=\u001b[0m\u001b[1;36m32\u001b[0m\u001b[1;33m,\u001b[0m \u001b[0mvalidation_split\u001b[0m \u001b[1;33m=\u001b[0m \u001b[1;36m0.2\u001b[0m\u001b[1;33m,\u001b[0m \u001b[0mcallbacks\u001b[0m\u001b[1;33m=\u001b[0m\u001b[0mcallbacks_list\u001b[0m\u001b[1;33m)\u001b[0m\u001b[1;33m\u001b[0m\u001b[1;33m\u001b[0m\u001b[0m\n\u001b[0m",
      "\u001b[1;32mc:\\users\\shyam s\\appdata\\local\\programs\\python\\lib\\site-packages\\keras\\engine\\training.py\u001b[0m in \u001b[0;36mfit\u001b[1;34m(self, x, y, batch_size, epochs, verbose, callbacks, validation_split, validation_data, shuffle, class_weight, sample_weight, initial_epoch, steps_per_epoch, validation_steps, validation_batch_size, validation_freq, max_queue_size, workers, use_multiprocessing)\u001b[0m\n\u001b[0;32m   1156\u001b[0m                 _r=1):\n\u001b[0;32m   1157\u001b[0m               \u001b[0mcallbacks\u001b[0m\u001b[1;33m.\u001b[0m\u001b[0mon_train_batch_begin\u001b[0m\u001b[1;33m(\u001b[0m\u001b[0mstep\u001b[0m\u001b[1;33m)\u001b[0m\u001b[1;33m\u001b[0m\u001b[1;33m\u001b[0m\u001b[0m\n\u001b[1;32m-> 1158\u001b[1;33m               \u001b[0mtmp_logs\u001b[0m \u001b[1;33m=\u001b[0m \u001b[0mself\u001b[0m\u001b[1;33m.\u001b[0m\u001b[0mtrain_function\u001b[0m\u001b[1;33m(\u001b[0m\u001b[0miterator\u001b[0m\u001b[1;33m)\u001b[0m\u001b[1;33m\u001b[0m\u001b[1;33m\u001b[0m\u001b[0m\n\u001b[0m\u001b[0;32m   1159\u001b[0m               \u001b[1;32mif\u001b[0m \u001b[0mdata_handler\u001b[0m\u001b[1;33m.\u001b[0m\u001b[0mshould_sync\u001b[0m\u001b[1;33m:\u001b[0m\u001b[1;33m\u001b[0m\u001b[1;33m\u001b[0m\u001b[0m\n\u001b[0;32m   1160\u001b[0m                 \u001b[0mcontext\u001b[0m\u001b[1;33m.\u001b[0m\u001b[0masync_wait\u001b[0m\u001b[1;33m(\u001b[0m\u001b[1;33m)\u001b[0m\u001b[1;33m\u001b[0m\u001b[1;33m\u001b[0m\u001b[0m\n",
      "\u001b[1;32mc:\\users\\shyam s\\appdata\\local\\programs\\python\\lib\\site-packages\\tensorflow\\python\\eager\\def_function.py\u001b[0m in \u001b[0;36m__call__\u001b[1;34m(self, *args, **kwds)\u001b[0m\n\u001b[0;32m    887\u001b[0m \u001b[1;33m\u001b[0m\u001b[0m\n\u001b[0;32m    888\u001b[0m       \u001b[1;32mwith\u001b[0m \u001b[0mOptionalXlaContext\u001b[0m\u001b[1;33m(\u001b[0m\u001b[0mself\u001b[0m\u001b[1;33m.\u001b[0m\u001b[0m_jit_compile\u001b[0m\u001b[1;33m)\u001b[0m\u001b[1;33m:\u001b[0m\u001b[1;33m\u001b[0m\u001b[1;33m\u001b[0m\u001b[0m\n\u001b[1;32m--> 889\u001b[1;33m         \u001b[0mresult\u001b[0m \u001b[1;33m=\u001b[0m \u001b[0mself\u001b[0m\u001b[1;33m.\u001b[0m\u001b[0m_call\u001b[0m\u001b[1;33m(\u001b[0m\u001b[1;33m*\u001b[0m\u001b[0margs\u001b[0m\u001b[1;33m,\u001b[0m \u001b[1;33m**\u001b[0m\u001b[0mkwds\u001b[0m\u001b[1;33m)\u001b[0m\u001b[1;33m\u001b[0m\u001b[1;33m\u001b[0m\u001b[0m\n\u001b[0m\u001b[0;32m    890\u001b[0m \u001b[1;33m\u001b[0m\u001b[0m\n\u001b[0;32m    891\u001b[0m       \u001b[0mnew_tracing_count\u001b[0m \u001b[1;33m=\u001b[0m \u001b[0mself\u001b[0m\u001b[1;33m.\u001b[0m\u001b[0mexperimental_get_tracing_count\u001b[0m\u001b[1;33m(\u001b[0m\u001b[1;33m)\u001b[0m\u001b[1;33m\u001b[0m\u001b[1;33m\u001b[0m\u001b[0m\n",
      "\u001b[1;32mc:\\users\\shyam s\\appdata\\local\\programs\\python\\lib\\site-packages\\tensorflow\\python\\eager\\def_function.py\u001b[0m in \u001b[0;36m_call\u001b[1;34m(self, *args, **kwds)\u001b[0m\n\u001b[0;32m    915\u001b[0m       \u001b[1;31m# In this case we have created variables on the first call, so we run the\u001b[0m\u001b[1;33m\u001b[0m\u001b[1;33m\u001b[0m\u001b[1;33m\u001b[0m\u001b[0m\n\u001b[0;32m    916\u001b[0m       \u001b[1;31m# defunned version which is guaranteed to never create variables.\u001b[0m\u001b[1;33m\u001b[0m\u001b[1;33m\u001b[0m\u001b[1;33m\u001b[0m\u001b[0m\n\u001b[1;32m--> 917\u001b[1;33m       \u001b[1;32mreturn\u001b[0m \u001b[0mself\u001b[0m\u001b[1;33m.\u001b[0m\u001b[0m_stateless_fn\u001b[0m\u001b[1;33m(\u001b[0m\u001b[1;33m*\u001b[0m\u001b[0margs\u001b[0m\u001b[1;33m,\u001b[0m \u001b[1;33m**\u001b[0m\u001b[0mkwds\u001b[0m\u001b[1;33m)\u001b[0m  \u001b[1;31m# pylint: disable=not-callable\u001b[0m\u001b[1;33m\u001b[0m\u001b[1;33m\u001b[0m\u001b[0m\n\u001b[0m\u001b[0;32m    918\u001b[0m     \u001b[1;32melif\u001b[0m \u001b[0mself\u001b[0m\u001b[1;33m.\u001b[0m\u001b[0m_stateful_fn\u001b[0m \u001b[1;32mis\u001b[0m \u001b[1;32mnot\u001b[0m \u001b[1;32mNone\u001b[0m\u001b[1;33m:\u001b[0m\u001b[1;33m\u001b[0m\u001b[1;33m\u001b[0m\u001b[0m\n\u001b[0;32m    919\u001b[0m       \u001b[1;31m# Release the lock early so that multiple threads can perform the call\u001b[0m\u001b[1;33m\u001b[0m\u001b[1;33m\u001b[0m\u001b[1;33m\u001b[0m\u001b[0m\n",
      "\u001b[1;32mc:\\users\\shyam s\\appdata\\local\\programs\\python\\lib\\site-packages\\tensorflow\\python\\eager\\function.py\u001b[0m in \u001b[0;36m__call__\u001b[1;34m(self, *args, **kwargs)\u001b[0m\n\u001b[0;32m   3022\u001b[0m        filtered_flat_args) = self._maybe_define_function(args, kwargs)\n\u001b[0;32m   3023\u001b[0m     return graph_function._call_flat(\n\u001b[1;32m-> 3024\u001b[1;33m         filtered_flat_args, captured_inputs=graph_function.captured_inputs)  # pylint: disable=protected-access\n\u001b[0m\u001b[0;32m   3025\u001b[0m \u001b[1;33m\u001b[0m\u001b[0m\n\u001b[0;32m   3026\u001b[0m   \u001b[1;33m@\u001b[0m\u001b[0mproperty\u001b[0m\u001b[1;33m\u001b[0m\u001b[1;33m\u001b[0m\u001b[0m\n",
      "\u001b[1;32mc:\\users\\shyam s\\appdata\\local\\programs\\python\\lib\\site-packages\\tensorflow\\python\\eager\\function.py\u001b[0m in \u001b[0;36m_call_flat\u001b[1;34m(self, args, captured_inputs, cancellation_manager)\u001b[0m\n\u001b[0;32m   1959\u001b[0m       \u001b[1;31m# No tape is watching; skip to running the function.\u001b[0m\u001b[1;33m\u001b[0m\u001b[1;33m\u001b[0m\u001b[1;33m\u001b[0m\u001b[0m\n\u001b[0;32m   1960\u001b[0m       return self._build_call_outputs(self._inference_function.call(\n\u001b[1;32m-> 1961\u001b[1;33m           ctx, args, cancellation_manager=cancellation_manager))\n\u001b[0m\u001b[0;32m   1962\u001b[0m     forward_backward = self._select_forward_and_backward_functions(\n\u001b[0;32m   1963\u001b[0m         \u001b[0margs\u001b[0m\u001b[1;33m,\u001b[0m\u001b[1;33m\u001b[0m\u001b[1;33m\u001b[0m\u001b[0m\n",
      "\u001b[1;32mc:\\users\\shyam s\\appdata\\local\\programs\\python\\lib\\site-packages\\tensorflow\\python\\eager\\function.py\u001b[0m in \u001b[0;36mcall\u001b[1;34m(self, ctx, args, cancellation_manager)\u001b[0m\n\u001b[0;32m    594\u001b[0m               \u001b[0minputs\u001b[0m\u001b[1;33m=\u001b[0m\u001b[0margs\u001b[0m\u001b[1;33m,\u001b[0m\u001b[1;33m\u001b[0m\u001b[1;33m\u001b[0m\u001b[0m\n\u001b[0;32m    595\u001b[0m               \u001b[0mattrs\u001b[0m\u001b[1;33m=\u001b[0m\u001b[0mattrs\u001b[0m\u001b[1;33m,\u001b[0m\u001b[1;33m\u001b[0m\u001b[1;33m\u001b[0m\u001b[0m\n\u001b[1;32m--> 596\u001b[1;33m               ctx=ctx)\n\u001b[0m\u001b[0;32m    597\u001b[0m         \u001b[1;32melse\u001b[0m\u001b[1;33m:\u001b[0m\u001b[1;33m\u001b[0m\u001b[1;33m\u001b[0m\u001b[0m\n\u001b[0;32m    598\u001b[0m           outputs = execute.execute_with_cancellation(\n",
      "\u001b[1;32mc:\\users\\shyam s\\appdata\\local\\programs\\python\\lib\\site-packages\\tensorflow\\python\\eager\\execute.py\u001b[0m in \u001b[0;36mquick_execute\u001b[1;34m(op_name, num_outputs, inputs, attrs, ctx, name)\u001b[0m\n\u001b[0;32m     58\u001b[0m     \u001b[0mctx\u001b[0m\u001b[1;33m.\u001b[0m\u001b[0mensure_initialized\u001b[0m\u001b[1;33m(\u001b[0m\u001b[1;33m)\u001b[0m\u001b[1;33m\u001b[0m\u001b[1;33m\u001b[0m\u001b[0m\n\u001b[0;32m     59\u001b[0m     tensors = pywrap_tfe.TFE_Py_Execute(ctx._handle, device_name, op_name,\n\u001b[1;32m---> 60\u001b[1;33m                                         inputs, attrs, num_outputs)\n\u001b[0m\u001b[0;32m     61\u001b[0m   \u001b[1;32mexcept\u001b[0m \u001b[0mcore\u001b[0m\u001b[1;33m.\u001b[0m\u001b[0m_NotOkStatusException\u001b[0m \u001b[1;32mas\u001b[0m \u001b[0me\u001b[0m\u001b[1;33m:\u001b[0m\u001b[1;33m\u001b[0m\u001b[1;33m\u001b[0m\u001b[0m\n\u001b[0;32m     62\u001b[0m     \u001b[1;32mif\u001b[0m \u001b[0mname\u001b[0m \u001b[1;32mis\u001b[0m \u001b[1;32mnot\u001b[0m \u001b[1;32mNone\u001b[0m\u001b[1;33m:\u001b[0m\u001b[1;33m\u001b[0m\u001b[1;33m\u001b[0m\u001b[0m\n",
      "\u001b[1;31mKeyboardInterrupt\u001b[0m: "
     ]
    }
   ],
   "source": [
    "NN_model3.fit(X_train, y_train, epochs=100, batch_size=32, validation_split = 0.2, callbacks=callbacks_list)"
   ]
  },
  {
   "cell_type": "code",
   "execution_count": 17,
   "id": "uniform-keyboard",
   "metadata": {},
   "outputs": [
    {
     "data": {
      "text/plain": [
       "0.8635646684152174"
      ]
     },
     "execution_count": 17,
     "metadata": {},
     "output_type": "execute_result"
    }
   ],
   "source": [
    "pred=NN_model3.predict(X_test)\n",
    "r2_score(y_test,pred)"
   ]
  },
  {
   "cell_type": "markdown",
   "id": "express-louisiana",
   "metadata": {},
   "source": [
    "## XGBoost"
   ]
  },
  {
   "cell_type": "code",
   "execution_count": 53,
   "id": "suspected-candy",
   "metadata": {},
   "outputs": [],
   "source": [
    "from xgboost import XGBRegressor"
   ]
  },
  {
   "cell_type": "code",
   "execution_count": 54,
   "id": "supposed-archive",
   "metadata": {},
   "outputs": [
    {
     "data": {
      "text/plain": [
       "XGBRegressor(base_score=0.5, booster='gbtree', colsample_bylevel=1,\n",
       "             colsample_bynode=1, colsample_bytree=1, gamma=0, gpu_id=-1,\n",
       "             importance_type='gain', interaction_constraints='',\n",
       "             learning_rate=0.300000012, max_delta_step=0, max_depth=6,\n",
       "             min_child_weight=1, missing=nan, monotone_constraints='()',\n",
       "             n_estimators=100, n_jobs=12, num_parallel_tree=1, random_state=0,\n",
       "             reg_alpha=0, reg_lambda=1, scale_pos_weight=1, subsample=1,\n",
       "             tree_method='exact', validate_parameters=1, verbosity=None)"
      ]
     },
     "execution_count": 54,
     "metadata": {},
     "output_type": "execute_result"
    }
   ],
   "source": [
    "xgb_r=XGBRegressor()\n",
    "xgb_r.fit(X_train,y_train)"
   ]
  },
  {
   "cell_type": "code",
   "execution_count": 57,
   "id": "appointed-trial",
   "metadata": {},
   "outputs": [
    {
     "data": {
      "text/plain": [
       "0.940882199572356"
      ]
     },
     "execution_count": 57,
     "metadata": {},
     "output_type": "execute_result"
    }
   ],
   "source": [
    "pred=xgb_r.predict(X_test[-10:])\n",
    "r2_score(y_test.iloc[-10:],pred)"
   ]
  },
  {
   "cell_type": "code",
   "execution_count": 59,
   "id": "administrative-hygiene",
   "metadata": {},
   "outputs": [
    {
     "data": {
      "text/plain": [
       "array([ 7.3852319e+02, -2.5279285e+02,  1.1467180e+04,  3.4433069e+02,\n",
       "        4.4013400e+00,  9.3417798e+02,  5.7895430e+03,  1.7273748e+04,\n",
       "        1.7833236e+04,  6.2214117e+04], dtype=float32)"
      ]
     },
     "execution_count": 59,
     "metadata": {},
     "output_type": "execute_result"
    }
   ],
   "source": [
    "pred"
   ]
  },
  {
   "cell_type": "code",
   "execution_count": 61,
   "id": "attended-initial",
   "metadata": {},
   "outputs": [
    {
     "data": {
      "text/plain": [
       "298047      661\n",
       "6377         38\n",
       "67804        58\n",
       "373347      719\n",
       "204942       -1\n",
       "324146      772\n",
       "15621      4361\n",
       "47620     14899\n",
       "314796    10142\n",
       "110844    62231\n",
       "Name: RunTime , dtype: int64"
      ]
     },
     "execution_count": 61,
     "metadata": {},
     "output_type": "execute_result"
    }
   ],
   "source": [
    "y_test.iloc[-10:]"
   ]
  },
  {
   "cell_type": "code",
   "execution_count": 16,
   "id": "approved-remains",
   "metadata": {},
   "outputs": [
    {
     "data": {
      "text/plain": [
       "array([0.01647335, 0.        , 0.01867763, 0.00191453, 0.4885865 ,\n",
       "       0.01331878, 0.12579192, 0.00602738, 0.22899431, 0.02584375,\n",
       "       0.01846365, 0.02723453, 0.01121691, 0.00757969, 0.00987712,\n",
       "       0.        ], dtype=float32)"
      ]
     },
     "execution_count": 16,
     "metadata": {},
     "output_type": "execute_result"
    }
   ],
   "source": [
    "xgb_r.feature_importances_"
   ]
  },
  {
   "cell_type": "markdown",
   "id": "emotional-namibia",
   "metadata": {},
   "source": [
    "## Simple Averaging"
   ]
  },
  {
   "cell_type": "code",
   "execution_count": 50,
   "id": "imposed-guitar",
   "metadata": {},
   "outputs": [],
   "source": [
    "def sim_avg(X_test):\n",
    "    pred[0]=X_test.iloc[0]\n",
    "    for i in range(1,X_test.size):\n",
    "        pred[i]=sum(X_test[0:i])/i\n",
    "        print(pred[i])\n",
    "    return pred"
   ]
  },
  {
   "cell_type": "code",
   "execution_count": 51,
   "id": "industrial-remedy",
   "metadata": {},
   "outputs": [
    {
     "name": "stdout",
     "output_type": "stream",
     "text": [
      "[661.]\n",
      "[349.5]\n",
      "[252.33333]\n",
      "[369.]\n",
      "[295.]\n",
      "[374.5]\n",
      "[944.]\n",
      "[2688.375]\n",
      "[3516.5557]\n"
     ]
    },
    {
     "data": {
      "text/plain": [
       "0.7151178953820958"
      ]
     },
     "execution_count": 51,
     "metadata": {},
     "output_type": "execute_result"
    }
   ],
   "source": [
    "pred1=sim_avg(y_test.iloc[-10:])\n",
    "r2_score(y_test,pred1)"
   ]
  }
 ],
 "metadata": {
  "kernelspec": {
   "display_name": "Python 3",
   "language": "python",
   "name": "python3"
  },
  "language_info": {
   "codemirror_mode": {
    "name": "ipython",
    "version": 3
   },
   "file_extension": ".py",
   "mimetype": "text/x-python",
   "name": "python",
   "nbconvert_exporter": "python",
   "pygments_lexer": "ipython3",
   "version": "3.7.9"
  }
 },
 "nbformat": 4,
 "nbformat_minor": 5
}
